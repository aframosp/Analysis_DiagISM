{
 "cells": [
  {
   "cell_type": "markdown",
   "metadata": {},
   "source": [
    "# Results from the web app in observational data\n",
    "In this notebook, we create the input CSV files we use in the web app from observational data. Then, we analyse the results with simple metrics. First, we import the Python packages."
   ]
  },
  {
   "cell_type": "code",
   "execution_count": 35,
   "metadata": {
    "ExecuteTime": {
     "end_time": "2022-06-23T14:07:44.865235Z",
     "start_time": "2022-06-23T14:07:44.091037Z"
    }
   },
   "outputs": [],
   "source": [
    "import numpy as np\n",
    "import matplotlib.pyplot as plt\n",
    "\n",
    "from astropy.table import Table\n",
    "from astropy.visualization import hist\n",
    "\n",
    "from sklearn.dummy import DummyRegressor\n",
    "from sklearn.metrics import median_absolute_error, r2_score"
   ]
  },
  {
   "cell_type": "markdown",
   "metadata": {},
   "source": [
    "## Read observational file\n",
    "Here, we read the observational file we created for the Paper II in our series of \"Diagnosing the interstellar medium of galaxies with far-infrared emission lines\"."
   ]
  },
  {
   "cell_type": "code",
   "execution_count": 2,
   "metadata": {
    "ExecuteTime": {
     "end_time": "2022-06-23T13:59:22.267197Z",
     "start_time": "2022-06-23T13:59:22.103021Z"
    }
   },
   "outputs": [],
   "source": [
    "dataset = Table.read('../data/raw/complete_sample_clean.ecsv',\n",
    "                     format='ascii.ecsv')"
   ]
  },
  {
   "cell_type": "markdown",
   "metadata": {},
   "source": [
    "We send the astropy table to a pandas dataframe to manage and order the data"
   ]
  },
  {
   "cell_type": "code",
   "execution_count": 3,
   "metadata": {
    "ExecuteTime": {
     "end_time": "2022-06-23T13:59:23.478440Z",
     "start_time": "2022-06-23T13:59:23.053931Z"
    }
   },
   "outputs": [],
   "source": [
    "dat_pd = dataset.to_pandas()\n",
    "\n",
    "dat_pd['z'] = np.log10(1+dat_pd['z'])\n",
    "dat_pd['SFR'] = np.log10(dat_pd['SFR'])\n",
    "dat_pd['Lum_OIII_52'] = np.log10(dat_pd['LOIII52'])\n",
    "dat_pd['Lum_NIII_57'] = np.log10(dat_pd['LNIII57'])\n",
    "dat_pd['Lum_OI_63'] = np.log10(dat_pd['LOI63'])\n",
    "dat_pd['Lum_OIII_88'] = np.log10(dat_pd['LOIII88'])\n",
    "dat_pd['Lum_CII_158'] = np.log10(dat_pd['LCII'])\n",
    "dat_pd['Lum_NII_205'] = np.log10(dat_pd['LNII205'])"
   ]
  },
  {
   "cell_type": "markdown",
   "metadata": {},
   "source": [
    "We describe the data to see how many rows are empty"
   ]
  },
  {
   "cell_type": "code",
   "execution_count": 4,
   "metadata": {
    "ExecuteTime": {
     "end_time": "2022-06-23T13:59:24.452681Z",
     "start_time": "2022-06-23T13:59:24.344139Z"
    }
   },
   "outputs": [
    {
     "data": {
      "text/html": [
       "<div>\n",
       "<style scoped>\n",
       "    .dataframe tbody tr th:only-of-type {\n",
       "        vertical-align: middle;\n",
       "    }\n",
       "\n",
       "    .dataframe tbody tr th {\n",
       "        vertical-align: top;\n",
       "    }\n",
       "\n",
       "    .dataframe thead th {\n",
       "        text-align: right;\n",
       "    }\n",
       "</style>\n",
       "<table border=\"1\" class=\"dataframe\">\n",
       "  <thead>\n",
       "    <tr style=\"text-align: right;\">\n",
       "      <th></th>\n",
       "      <th>Lum_OIII_52</th>\n",
       "      <th>Lum_NIII_57</th>\n",
       "      <th>Lum_OI_63</th>\n",
       "      <th>Lum_OIII_88</th>\n",
       "      <th>LNII122</th>\n",
       "      <th>LOI145</th>\n",
       "      <th>Lum_CII_158</th>\n",
       "      <th>Lum_NII_205</th>\n",
       "    </tr>\n",
       "  </thead>\n",
       "  <tbody>\n",
       "    <tr>\n",
       "      <th>count</th>\n",
       "      <td>112.0</td>\n",
       "      <td>179.0</td>\n",
       "      <td>736.0</td>\n",
       "      <td>508.0</td>\n",
       "      <td>430.0</td>\n",
       "      <td>308.0</td>\n",
       "      <td>1223.0</td>\n",
       "      <td>683.0</td>\n",
       "    </tr>\n",
       "    <tr>\n",
       "      <th>unique</th>\n",
       "      <td>NaN</td>\n",
       "      <td>NaN</td>\n",
       "      <td>NaN</td>\n",
       "      <td>NaN</td>\n",
       "      <td>NaN</td>\n",
       "      <td>NaN</td>\n",
       "      <td>NaN</td>\n",
       "      <td>NaN</td>\n",
       "    </tr>\n",
       "    <tr>\n",
       "      <th>top</th>\n",
       "      <td>NaN</td>\n",
       "      <td>NaN</td>\n",
       "      <td>NaN</td>\n",
       "      <td>NaN</td>\n",
       "      <td>NaN</td>\n",
       "      <td>NaN</td>\n",
       "      <td>NaN</td>\n",
       "      <td>NaN</td>\n",
       "    </tr>\n",
       "    <tr>\n",
       "      <th>freq</th>\n",
       "      <td>NaN</td>\n",
       "      <td>NaN</td>\n",
       "      <td>NaN</td>\n",
       "      <td>NaN</td>\n",
       "      <td>NaN</td>\n",
       "      <td>NaN</td>\n",
       "      <td>NaN</td>\n",
       "      <td>NaN</td>\n",
       "    </tr>\n",
       "    <tr>\n",
       "      <th>mean</th>\n",
       "      <td>8.362395</td>\n",
       "      <td>7.430547</td>\n",
       "      <td>8.003097</td>\n",
       "      <td>7.699656</td>\n",
       "      <td>779310585.987567</td>\n",
       "      <td>2166851031.766403</td>\n",
       "      <td>8.253675</td>\n",
       "      <td>6.940747</td>\n",
       "    </tr>\n",
       "    <tr>\n",
       "      <th>std</th>\n",
       "      <td>1.229987</td>\n",
       "      <td>1.014738</td>\n",
       "      <td>1.197373</td>\n",
       "      <td>1.178414</td>\n",
       "      <td>2891976116.040114</td>\n",
       "      <td>14318058845.628651</td>\n",
       "      <td>1.179155</td>\n",
       "      <td>1.068413</td>\n",
       "    </tr>\n",
       "    <tr>\n",
       "      <th>min</th>\n",
       "      <td>5.322747</td>\n",
       "      <td>4.700707</td>\n",
       "      <td>2.509141</td>\n",
       "      <td>3.118188</td>\n",
       "      <td>160.032794</td>\n",
       "      <td>433.969691</td>\n",
       "      <td>2.69897</td>\n",
       "      <td>2.715017</td>\n",
       "    </tr>\n",
       "    <tr>\n",
       "      <th>25%</th>\n",
       "      <td>7.508037</td>\n",
       "      <td>6.790074</td>\n",
       "      <td>7.522987</td>\n",
       "      <td>7.063655</td>\n",
       "      <td>2984981.328632</td>\n",
       "      <td>2301437.999405</td>\n",
       "      <td>7.752031</td>\n",
       "      <td>6.395243</td>\n",
       "    </tr>\n",
       "    <tr>\n",
       "      <th>50%</th>\n",
       "      <td>8.38069</td>\n",
       "      <td>7.507343</td>\n",
       "      <td>8.123783</td>\n",
       "      <td>7.711462</td>\n",
       "      <td>20029860.007844</td>\n",
       "      <td>13703034.84673</td>\n",
       "      <td>8.431364</td>\n",
       "      <td>6.918348</td>\n",
       "    </tr>\n",
       "    <tr>\n",
       "      <th>75%</th>\n",
       "      <td>8.96749</td>\n",
       "      <td>8.029805</td>\n",
       "      <td>8.629822</td>\n",
       "      <td>8.316354</td>\n",
       "      <td>76435835.265747</td>\n",
       "      <td>85262488.994828</td>\n",
       "      <td>8.924279</td>\n",
       "      <td>7.406666</td>\n",
       "    </tr>\n",
       "    <tr>\n",
       "      <th>max</th>\n",
       "      <td>11.530423</td>\n",
       "      <td>10.714912</td>\n",
       "      <td>11.00436</td>\n",
       "      <td>10.847718</td>\n",
       "      <td>26308569099.333035</td>\n",
       "      <td>227189387985.294525</td>\n",
       "      <td>11.041393</td>\n",
       "      <td>10.308134</td>\n",
       "    </tr>\n",
       "    <tr>\n",
       "      <th>dtype</th>\n",
       "      <td>float64</td>\n",
       "      <td>float64</td>\n",
       "      <td>float64</td>\n",
       "      <td>float64</td>\n",
       "      <td>float64</td>\n",
       "      <td>float64</td>\n",
       "      <td>float64</td>\n",
       "      <td>float64</td>\n",
       "    </tr>\n",
       "    <tr>\n",
       "      <th>size</th>\n",
       "      <td>1702</td>\n",
       "      <td>1702</td>\n",
       "      <td>1702</td>\n",
       "      <td>1702</td>\n",
       "      <td>1702</td>\n",
       "      <td>1702</td>\n",
       "      <td>1702</td>\n",
       "      <td>1702</td>\n",
       "    </tr>\n",
       "    <tr>\n",
       "      <th>% count</th>\n",
       "      <td>0.934195</td>\n",
       "      <td>0.89483</td>\n",
       "      <td>0.567568</td>\n",
       "      <td>0.701528</td>\n",
       "      <td>0.747356</td>\n",
       "      <td>0.819036</td>\n",
       "      <td>0.281434</td>\n",
       "      <td>0.598707</td>\n",
       "    </tr>\n",
       "  </tbody>\n",
       "</table>\n",
       "</div>"
      ],
      "text/plain": [
       "        Lum_OIII_52 Lum_NIII_57 Lum_OI_63 Lum_OIII_88             LNII122  \\\n",
       "count         112.0       179.0     736.0       508.0               430.0   \n",
       "unique          NaN         NaN       NaN         NaN                 NaN   \n",
       "top             NaN         NaN       NaN         NaN                 NaN   \n",
       "freq            NaN         NaN       NaN         NaN                 NaN   \n",
       "mean       8.362395    7.430547  8.003097    7.699656    779310585.987567   \n",
       "std        1.229987    1.014738  1.197373    1.178414   2891976116.040114   \n",
       "min        5.322747    4.700707  2.509141    3.118188          160.032794   \n",
       "25%        7.508037    6.790074  7.522987    7.063655      2984981.328632   \n",
       "50%         8.38069    7.507343  8.123783    7.711462     20029860.007844   \n",
       "75%         8.96749    8.029805  8.629822    8.316354     76435835.265747   \n",
       "max       11.530423   10.714912  11.00436   10.847718  26308569099.333035   \n",
       "dtype       float64     float64   float64     float64             float64   \n",
       "size           1702        1702      1702        1702                1702   \n",
       "% count    0.934195     0.89483  0.567568    0.701528            0.747356   \n",
       "\n",
       "                      LOI145 Lum_CII_158 Lum_NII_205  \n",
       "count                  308.0      1223.0       683.0  \n",
       "unique                   NaN         NaN         NaN  \n",
       "top                      NaN         NaN         NaN  \n",
       "freq                     NaN         NaN         NaN  \n",
       "mean       2166851031.766403    8.253675    6.940747  \n",
       "std       14318058845.628651    1.179155    1.068413  \n",
       "min               433.969691     2.69897    2.715017  \n",
       "25%           2301437.999405    7.752031    6.395243  \n",
       "50%           13703034.84673    8.431364    6.918348  \n",
       "75%          85262488.994828    8.924279    7.406666  \n",
       "max      227189387985.294525   11.041393   10.308134  \n",
       "dtype                float64     float64     float64  \n",
       "size                    1702        1702        1702  \n",
       "% count             0.819036    0.281434    0.598707  "
      ]
     },
     "execution_count": 4,
     "metadata": {},
     "output_type": "execute_result"
    }
   ],
   "source": [
    "df1 = dat_pd.describe(include='all')\n",
    "df1.loc['dtype'] = dat_pd.dtypes\n",
    "df1.loc['size'] = len(dat_pd)\n",
    "df1.loc['% count'] = dat_pd.isnull().mean()\n",
    "\n",
    "df1[['Lum_OIII_52', 'Lum_NIII_57', 'Lum_OI_63', 'Lum_OIII_88',\n",
    "    'LNII122', 'LOI145', 'Lum_CII_158', 'Lum_NII_205']]"
   ]
  },
  {
   "cell_type": "markdown",
   "metadata": {},
   "source": [
    "We select the four different sets we are going to test in the web app."
   ]
  },
  {
   "cell_type": "code",
   "execution_count": 5,
   "metadata": {
    "ExecuteTime": {
     "end_time": "2022-06-23T13:59:25.784881Z",
     "start_time": "2022-06-23T13:59:25.773355Z"
    }
   },
   "outputs": [],
   "source": [
    "dat_pd_A = dat_pd.dropna(subset=['z', 'SFR', 'Lum_CII_158', 'Lum_OI_63'])\n",
    "dat_pd_B = dat_pd.dropna(subset=['z', 'SFR', 'Lum_CII_158', 'Lum_OIII_88'])\n",
    "dat_pd_C = dat_pd.dropna(subset=['z', 'SFR', 'Lum_OI_63',\n",
    "                                 'Lum_CII_158', 'Lum_NII_205'])\n",
    "dat_pd_D = dat_pd.dropna(subset=['z', 'SFR', 'Lum_NIII_57', 'Lum_OIII_52'])"
   ]
  },
  {
   "cell_type": "markdown",
   "metadata": {},
   "source": [
    "We print the maximum redshifts for each dataset"
   ]
  },
  {
   "cell_type": "code",
   "execution_count": 6,
   "metadata": {
    "ExecuteTime": {
     "end_time": "2022-06-23T13:59:26.827424Z",
     "start_time": "2022-06-23T13:59:26.821430Z"
    }
   },
   "outputs": [
    {
     "name": "stdout",
     "output_type": "stream",
     "text": [
      "3.127\n",
      "6.081\n",
      "2.17\n",
      "3.043\n"
     ]
    }
   ],
   "source": [
    "list_sets = [dat_pd_A, dat_pd_B, dat_pd_C, dat_pd_D]\n",
    "for stp in list_sets:\n",
    "    print(np.round((10**stp['z'] - 1).max(), 3))"
   ]
  },
  {
   "cell_type": "markdown",
   "metadata": {},
   "source": [
    "Finally we save these data frames in CSV files"
   ]
  },
  {
   "cell_type": "code",
   "execution_count": 7,
   "metadata": {
    "ExecuteTime": {
     "end_time": "2022-05-17T07:43:43.814564Z",
     "start_time": "2022-05-17T07:43:43.800213Z"
    }
   },
   "outputs": [],
   "source": [
    "dat_pd_A.to_csv('../data/interim/inputs_DiagISM/Obsdata_set_A.csv', mode='w',\n",
    "                columns=['z', 'Lum_CII_158', 'Lum_OI_63'], index=False)\n",
    "dat_pd_B.to_csv('../data/interim/inputs_DiagISM/Obsdata_set_B.csv', mode='w',\n",
    "                columns=['z', 'Lum_CII_158', 'Lum_OIII_88'], index=False)\n",
    "dat_pd_C.to_csv('../data/interim/inputs_DiagISM/Obsdata_set_C.csv', mode='w',\n",
    "                columns=['z', 'Lum_OI_63', 'Lum_CII_158', 'Lum_NII_205'], index=False)\n",
    "dat_pd_D.to_csv('../data/interim/inputs_DiagISM/Obsdata_set_D.csv', mode='w',\n",
    "                columns=['z', 'Lum_NIII_57', 'Lum_OIII_52'], index=False)"
   ]
  },
  {
   "cell_type": "markdown",
   "metadata": {},
   "source": [
    "## Results metrics\n",
    "We estimate the median absolute error and r$^2$ metrics to compare the two models in a table"
   ]
  },
  {
   "cell_type": "code",
   "execution_count": 7,
   "metadata": {
    "ExecuteTime": {
     "end_time": "2022-06-23T13:59:36.597752Z",
     "start_time": "2022-06-23T13:59:36.563694Z"
    }
   },
   "outputs": [
    {
     "name": "stdout",
     "output_type": "stream",
     "text": [
      "M8all A 0.969 0.712 0.41\n",
      "M8all B 0.969 0.753 0.41\n",
      "M8all C 0.969 0.356 0.56\n",
      "M8all D 0.969 0.308 0.83\n",
      "M2plus A 0.929 0.796 0.33\n",
      "M2plus B 0.934 0.859 0.29\n",
      "M2plus C 0.952 0.729 0.41\n",
      "M2plus D 0.857 0.378 0.79\n"
     ]
    }
   ],
   "source": [
    "for model in ['M8all', 'M2plus']:\n",
    "    for istp, sample in enumerate(['A', 'B', 'C', 'D']):\n",
    "        file = '../data/processed/outputs_DiagISM/obs_sfr/DiagISM_result_' + \\\n",
    "            model+'_SFR_'+sample+'.csv'\n",
    "        results = Table.read(file,\n",
    "                             format='ascii.csv', header_start=5)\n",
    "        with open(file, \"r\") as metric:\n",
    "            score_train = (float(metric.readlines()[3].split(':')[-1]))\n",
    "        mae = median_absolute_error(list_sets[istp]['SFR'], results['mean'])\n",
    "        r2_val = r2_score(list_sets[istp]['SFR'], results['mean'])\n",
    "        print(model, sample, score_train, np.round(r2_val, 3), np.round(mae, 2))"
   ]
  },
  {
   "cell_type": "markdown",
   "metadata": {},
   "source": [
    "We compare these metrics with a `DummyRegressor` to set the baseline"
   ]
  },
  {
   "cell_type": "code",
   "execution_count": 8,
   "metadata": {
    "ExecuteTime": {
     "end_time": "2022-06-23T13:59:38.508001Z",
     "start_time": "2022-06-23T13:59:38.495223Z"
    }
   },
   "outputs": [],
   "source": [
    "Dreg = DummyRegressor()\n",
    "Dreg.fit(dat_pd_A[['z', 'Lum_CII_158', 'Lum_OIII_88']], dat_pd_A['SFR'])\n",
    "DumPred = Dreg.predict(dat_pd_A[['z', 'Lum_CII_158', 'Lum_OIII_88']])"
   ]
  },
  {
   "cell_type": "code",
   "execution_count": 9,
   "metadata": {
    "ExecuteTime": {
     "end_time": "2022-06-23T13:59:38.755128Z",
     "start_time": "2022-06-23T13:59:38.750879Z"
    }
   },
   "outputs": [
    {
     "name": "stdout",
     "output_type": "stream",
     "text": [
      "MAE:  0.69\n",
      "R2:  0.0\n"
     ]
    }
   ],
   "source": [
    "print('MAE: ', np.round(median_absolute_error(dat_pd_A['SFR'], DumPred), 3))\n",
    "print('R2: ', r2_score(dat_pd_A['SFR'], DumPred))"
   ]
  },
  {
   "cell_type": "markdown",
   "metadata": {},
   "source": [
    "## Error estimations\n",
    "We plot how the errors change with respect to the mean predicted value for the two models and four sets."
   ]
  },
  {
   "cell_type": "code",
   "execution_count": 10,
   "metadata": {
    "ExecuteTime": {
     "end_time": "2022-06-23T13:59:41.387593Z",
     "start_time": "2022-06-23T13:59:40.914855Z"
    }
   },
   "outputs": [
    {
     "data": {
      "image/png": "[encoded data removed]",
      "text/plain": [
       "<Figure size 679.68x360 with 2 Axes>"
      ]
     },
     "metadata": {
      "needs_background": "light"
     },
     "output_type": "display_data"
    }
   ],
   "source": [
    "lab_models = ['Model with eight FIR lines (M8all)',\n",
    "              'Model with selected FIR lines (M2plus)']\n",
    "with plt.style.context(('seaborn-paper')):\n",
    "    plt.rcParams.update({'font.size': 12})\n",
    "    plt.rcParams.update({'axes.labelsize': 12})\n",
    "    plt.rcParams.update({'legend.fontsize': 10})\n",
    "    plt.rcParams.update({'ytick.labelsize': 10})\n",
    "    plt.rcParams.update({'xtick.labelsize': 10})\n",
    "    fig, axs = plt.subplots(2, 1, figsize=(9.44, 5), sharex=True)\n",
    "    color_stp = ['C'+str(i) for i in range(4)]\n",
    "    for imodel, model in enumerate(['M8all', 'M2plus']):\n",
    "        axs[imodel].set_title(lab_models[imodel])\n",
    "        for istp, sample in enumerate(['A', 'B', 'C', 'D']):\n",
    "            file = '../data/processed/outputs_DiagISM/obs_sfr/DiagISM_result_' + \\\n",
    "                model+'_SFR_'+sample+'.csv'\n",
    "            results = Table.read(file,\n",
    "                                 format='ascii.csv', header_start=5)\n",
    "            axs[imodel].scatter(results['mean'],\n",
    "                                results['std'],\n",
    "                                label=sample,\n",
    "                                c=color_stp[istp], alpha=0.6)\n",
    "            axs[imodel].set_ylabel('St. deviation [dex]')\n",
    "    plt.legend(ncol=2, title='Obs. sample set')\n",
    "    plt.xlabel(r'Mean predicted $\\log$(SFR [M$_\\odot$/yr])')\n",
    "#     plt.savefig('../figures/Errors_SFR.pdf',\n",
    "#                 dpi=300, bbox_inches='tight')  # For Paper"
   ]
  },
  {
   "cell_type": "markdown",
   "metadata": {
    "ExecuteTime": {
     "end_time": "2022-05-12T13:55:15.776655Z",
     "start_time": "2022-05-12T13:55:15.767568Z"
    }
   },
   "source": [
    "## Other physical parameters\n",
    "The majority of the galaxies in the set B are located in the local Universe (>90%). So, we split the set in two to highlight the location of the high-$z$ galaxies."
   ]
  },
  {
   "cell_type": "code",
   "execution_count": 11,
   "metadata": {
    "ExecuteTime": {
     "end_time": "2022-06-23T13:59:43.404808Z",
     "start_time": "2022-06-23T13:59:43.399108Z"
    }
   },
   "outputs": [
    {
     "name": "stdout",
     "output_type": "stream",
     "text": [
      "Percentage of galaxies with z>0.1: 9.18%\n"
     ]
    }
   ],
   "source": [
    "highU = dat_pd_B['z'] >= np.log10(1+0.1)\n",
    "print('Percentage of galaxies with z>0.1: %.2f%%' %\n",
    "      ((sum(highU)/len(dat_pd_B))*100))"
   ]
  },
  {
   "cell_type": "markdown",
   "metadata": {},
   "source": [
    "Then, we plot the errors for all the parameters retrieved by DiagISM"
   ]
  },
  {
   "cell_type": "code",
   "execution_count": 12,
   "metadata": {
    "ExecuteTime": {
     "end_time": "2022-06-23T13:59:46.719958Z",
     "start_time": "2022-06-23T13:59:46.003068Z"
    }
   },
   "outputs": [
    {
     "data": {
      "image/png": "[encoded data removed]",
      "text/plain": [
       "<Figure size 679.68x360 with 8 Axes>"
      ]
     },
     "metadata": {
      "needs_background": "light"
     },
     "output_type": "display_data"
    }
   ],
   "source": [
    "stps = ['SFR', 'ISRF', 'metallicity', 'pressure',\n",
    "        'density', 'cloudSize',  'gasMass',  'stellarMass']\n",
    "lab_pars = [r'$\\rm{SFR}\\, [\\rm{M}_{\\odot} \\rm{yr}^{-1}]$', r'ISRF [Habing]', r'$\\rm{Z/Z}_{\\odot}$',\n",
    "            r'P$_{\\rm{ext}}\\, [\\rm{K\\, cm}^{-3}]$', r'n(H)$_{\\rm{cloud}}\\, [\\rm{cm}^{-3}]$',\n",
    "            r'R$_{cloud}\\, [\\rm{pc}]$', r'$\\rm{M}_{\\rm{gas}}\\, [\\rm{M}_{\\odot}]$',\n",
    "            r'$\\rm{M}_{\\ast}\\, [\\rm{M}_{\\odot}]$', ]\n",
    "with plt.style.context(('seaborn-paper')):\n",
    "    plt.rcParams.update({'font.size': 12})\n",
    "    plt.rcParams.update({'axes.labelsize': 12})\n",
    "    plt.rcParams.update({'legend.fontsize': 10})\n",
    "    plt.rcParams.update({'ytick.labelsize': 10})\n",
    "    plt.rcParams.update({'xtick.labelsize': 10})\n",
    "    fig, axes = plt.subplots(2, 4, figsize=(9.44, 5), sharey=True)\n",
    "    axs = axes.ravel()\n",
    "    for istp, sample in enumerate(stps):\n",
    "        file = '../data/processed/outputs_DiagISM/obs_sfr/DiagISM_result_M2plus_'+sample+'_B.csv'\n",
    "        results = Table.read(file,\n",
    "                             format='ascii.csv', header_start=5)\n",
    "        axs[istp].scatter(results['mean'],\n",
    "                          results['std'],\n",
    "                          c='goldenrod', label='Local galaxies',\n",
    "                          alpha=0.5)\n",
    "        if sample == 'B':\n",
    "            highz_highsfr = np.where(results['mean'] > 3.5)\n",
    "        axs[istp].scatter(results['mean'][highU],\n",
    "                          results['std'][highU],\n",
    "                          c='indigo', label=r'High-$z$ galaxies',\n",
    "                          alpha=0.5)\n",
    "        axs[istp].set_xlabel('log('+lab_pars[istp]+')')\n",
    "        if istp == 0:\n",
    "            axs[istp].legend()\n",
    "    axs[0].set_ylabel('St. deviation [dex]')\n",
    "    axs[4].set_ylabel('St. deviation [dex]')\n",
    "    plt.subplots_adjust(wspace=0, hspace=0.4)\n",
    "#     plt.savefig('../figures/Errors_parameters.pdf',\n",
    "#                 dpi=300, bbox_inches='tight')  # For Paper"
   ]
  },
  {
   "cell_type": "markdown",
   "metadata": {},
   "source": [
    "We verify (print) which galaxies have those overestimated SFR in the model"
   ]
  },
  {
   "cell_type": "code",
   "execution_count": 13,
   "metadata": {
    "ExecuteTime": {
     "end_time": "2022-06-23T13:59:52.207729Z",
     "start_time": "2022-06-23T13:59:52.203755Z"
    }
   },
   "outputs": [],
   "source": [
    "highsfr_file = Table.read('../data/processed/outputs_DiagISM/obs_sfr/DiagISM_result_M2plus_SFR_B.csv',\n",
    "                          format='ascii.csv', header_start=5)\n",
    "highz_highsfr = highU & (highsfr_file['mean'] > 3.5)"
   ]
  },
  {
   "cell_type": "code",
   "execution_count": 14,
   "metadata": {
    "ExecuteTime": {
     "end_time": "2022-06-23T13:59:53.005123Z",
     "start_time": "2022-06-23T13:59:52.991257Z"
    }
   },
   "outputs": [
    {
     "data": {
      "text/html": [
       "<div>\n",
       "<style scoped>\n",
       "    .dataframe tbody tr th:only-of-type {\n",
       "        vertical-align: middle;\n",
       "    }\n",
       "\n",
       "    .dataframe tbody tr th {\n",
       "        vertical-align: top;\n",
       "    }\n",
       "\n",
       "    .dataframe thead th {\n",
       "        text-align: right;\n",
       "    }\n",
       "</style>\n",
       "<table border=\"1\" class=\"dataframe\">\n",
       "  <thead>\n",
       "    <tr style=\"text-align: right;\">\n",
       "      <th></th>\n",
       "      <th>Name</th>\n",
       "      <th>SFR</th>\n",
       "      <th>SIMBADType</th>\n",
       "      <th>mu</th>\n",
       "      <th>mu_err</th>\n",
       "      <th>Limmu</th>\n",
       "      <th>mu_flag</th>\n",
       "      <th>Reference</th>\n",
       "    </tr>\n",
       "  </thead>\n",
       "  <tbody>\n",
       "    <tr>\n",
       "      <th>1427</th>\n",
       "      <td>HERMES J105751.1+573027</td>\n",
       "      <td>3.176938</td>\n",
       "      <td>Galaxy</td>\n",
       "      <td>10.9</td>\n",
       "      <td>0.7</td>\n",
       "      <td>0</td>\n",
       "      <td>1</td>\n",
       "      <td>2018MNRAS.473...20R</td>\n",
       "    </tr>\n",
       "    <tr>\n",
       "      <th>1429</th>\n",
       "      <td>H-ATLAS J084933.4+021443</td>\n",
       "      <td>3.556770</td>\n",
       "      <td>Galaxy</td>\n",
       "      <td>2.8</td>\n",
       "      <td>0.2</td>\n",
       "      <td>0</td>\n",
       "      <td>1</td>\n",
       "      <td>2018MNRAS.481...59Z</td>\n",
       "    </tr>\n",
       "    <tr>\n",
       "      <th>1437</th>\n",
       "      <td>[BPA2013] H-ATLAS J141351.9-000026 lens</td>\n",
       "      <td>3.636786</td>\n",
       "      <td>GravLens</td>\n",
       "      <td>1.8</td>\n",
       "      <td>0.3</td>\n",
       "      <td>0</td>\n",
       "      <td>1</td>\n",
       "      <td>2018MNRAS.481...59Z</td>\n",
       "    </tr>\n",
       "    <tr>\n",
       "      <th>1440</th>\n",
       "      <td>[NKC2016] HELMS2</td>\n",
       "      <td>3.373105</td>\n",
       "      <td>LensedG</td>\n",
       "      <td>1.0</td>\n",
       "      <td>99.0</td>\n",
       "      <td>1</td>\n",
       "      <td>1</td>\n",
       "      <td>2018MNRAS.481...59Z</td>\n",
       "    </tr>\n",
       "    <tr>\n",
       "      <th>1441</th>\n",
       "      <td>[NKC2016] HELMS7</td>\n",
       "      <td>3.227734</td>\n",
       "      <td>LensedG</td>\n",
       "      <td>1.0</td>\n",
       "      <td>99.0</td>\n",
       "      <td>1</td>\n",
       "      <td>1</td>\n",
       "      <td>2018MNRAS.481...59Z</td>\n",
       "    </tr>\n",
       "    <tr>\n",
       "      <th>1443</th>\n",
       "      <td>NAME NAv1.777</td>\n",
       "      <td>3.468219</td>\n",
       "      <td>Galaxy</td>\n",
       "      <td>1.0</td>\n",
       "      <td>99.0</td>\n",
       "      <td>1</td>\n",
       "      <td>1</td>\n",
       "      <td>2018MNRAS.481...59Z</td>\n",
       "    </tr>\n",
       "    <tr>\n",
       "      <th>1444</th>\n",
       "      <td>HerBS 20</td>\n",
       "      <td>3.007944</td>\n",
       "      <td>Galaxy</td>\n",
       "      <td>1.0</td>\n",
       "      <td>99.0</td>\n",
       "      <td>1</td>\n",
       "      <td>1</td>\n",
       "      <td>2018MNRAS.481...59Z</td>\n",
       "    </tr>\n",
       "    <tr>\n",
       "      <th>1450</th>\n",
       "      <td>H-ATLAS J222536.3-295646</td>\n",
       "      <td>2.858088</td>\n",
       "      <td>Radio(sub-mm)</td>\n",
       "      <td>1.0</td>\n",
       "      <td>99.0</td>\n",
       "      <td>1</td>\n",
       "      <td>1</td>\n",
       "      <td>2018MNRAS.481...59Z</td>\n",
       "    </tr>\n",
       "    <tr>\n",
       "      <th>1451</th>\n",
       "      <td>HerBS 17</td>\n",
       "      <td>3.239467</td>\n",
       "      <td>Galaxy</td>\n",
       "      <td>1.0</td>\n",
       "      <td>99.0</td>\n",
       "      <td>1</td>\n",
       "      <td>1</td>\n",
       "      <td>2018MNRAS.481...59Z</td>\n",
       "    </tr>\n",
       "    <tr>\n",
       "      <th>1453</th>\n",
       "      <td>HerBS 18</td>\n",
       "      <td>3.231704</td>\n",
       "      <td>Galaxy</td>\n",
       "      <td>1.0</td>\n",
       "      <td>99.0</td>\n",
       "      <td>1</td>\n",
       "      <td>1</td>\n",
       "      <td>2018MNRAS.481...59Z</td>\n",
       "    </tr>\n",
       "    <tr>\n",
       "      <th>1454</th>\n",
       "      <td>H-ATLAS J000722.1-352014</td>\n",
       "      <td>2.903380</td>\n",
       "      <td>Possible_G</td>\n",
       "      <td>1.0</td>\n",
       "      <td>99.0</td>\n",
       "      <td>1</td>\n",
       "      <td>1</td>\n",
       "      <td>2018MNRAS.481...59Z</td>\n",
       "    </tr>\n",
       "    <tr>\n",
       "      <th>1455</th>\n",
       "      <td>HerBS 22</td>\n",
       "      <td>3.123539</td>\n",
       "      <td>Galaxy</td>\n",
       "      <td>1.0</td>\n",
       "      <td>99.0</td>\n",
       "      <td>1</td>\n",
       "      <td>1</td>\n",
       "      <td>2018MNRAS.481...59Z</td>\n",
       "    </tr>\n",
       "    <tr>\n",
       "      <th>1463</th>\n",
       "      <td>HerBS 11</td>\n",
       "      <td>3.203413</td>\n",
       "      <td>Galaxy</td>\n",
       "      <td>1.0</td>\n",
       "      <td>99.0</td>\n",
       "      <td>1</td>\n",
       "      <td>1</td>\n",
       "      <td>2018MNRAS.481...59Z</td>\n",
       "    </tr>\n",
       "  </tbody>\n",
       "</table>\n",
       "</div>"
      ],
      "text/plain": [
       "                                         Name       SFR     SIMBADType    mu  \\\n",
       "1427                  HERMES J105751.1+573027  3.176938         Galaxy  10.9   \n",
       "1429                 H-ATLAS J084933.4+021443  3.556770         Galaxy   2.8   \n",
       "1437  [BPA2013] H-ATLAS J141351.9-000026 lens  3.636786       GravLens   1.8   \n",
       "1440                         [NKC2016] HELMS2  3.373105        LensedG   1.0   \n",
       "1441                         [NKC2016] HELMS7  3.227734        LensedG   1.0   \n",
       "1443                            NAME NAv1.777  3.468219         Galaxy   1.0   \n",
       "1444                                 HerBS 20  3.007944         Galaxy   1.0   \n",
       "1450                 H-ATLAS J222536.3-295646  2.858088  Radio(sub-mm)   1.0   \n",
       "1451                                 HerBS 17  3.239467         Galaxy   1.0   \n",
       "1453                                 HerBS 18  3.231704         Galaxy   1.0   \n",
       "1454                 H-ATLAS J000722.1-352014  2.903380     Possible_G   1.0   \n",
       "1455                                 HerBS 22  3.123539         Galaxy   1.0   \n",
       "1463                                 HerBS 11  3.203413         Galaxy   1.0   \n",
       "\n",
       "      mu_err  Limmu  mu_flag            Reference  \n",
       "1427     0.7      0        1  2018MNRAS.473...20R  \n",
       "1429     0.2      0        1  2018MNRAS.481...59Z  \n",
       "1437     0.3      0        1  2018MNRAS.481...59Z  \n",
       "1440    99.0      1        1  2018MNRAS.481...59Z  \n",
       "1441    99.0      1        1  2018MNRAS.481...59Z  \n",
       "1443    99.0      1        1  2018MNRAS.481...59Z  \n",
       "1444    99.0      1        1  2018MNRAS.481...59Z  \n",
       "1450    99.0      1        1  2018MNRAS.481...59Z  \n",
       "1451    99.0      1        1  2018MNRAS.481...59Z  \n",
       "1453    99.0      1        1  2018MNRAS.481...59Z  \n",
       "1454    99.0      1        1  2018MNRAS.481...59Z  \n",
       "1455    99.0      1        1  2018MNRAS.481...59Z  \n",
       "1463    99.0      1        1  2018MNRAS.481...59Z  "
      ]
     },
     "execution_count": 14,
     "metadata": {},
     "output_type": "execute_result"
    }
   ],
   "source": [
    "dat_pd_B[highz_highsfr][['Name', 'SFR', 'SIMBADType',\n",
    "                         'mu', 'mu_err', 'Limmu', 'mu_flag', 'Reference']]"
   ]
  },
  {
   "cell_type": "markdown",
   "metadata": {},
   "source": [
    "## Correlation between observed and predicted values\n",
    "To show a graphical differences between the two models and the four sets we plot the predicted values of SFR against the observed (observational catalog) value."
   ]
  },
  {
   "cell_type": "code",
   "execution_count": 33,
   "metadata": {
    "ExecuteTime": {
     "end_time": "2022-06-05T16:35:18.622219Z",
     "start_time": "2022-06-05T16:35:17.322439Z"
    }
   },
   "outputs": [
    {
     "data": {
      "image/png": "[encoded data removed]",
      "text/plain": [
       "<Figure size 468x576 with 8 Axes>"
      ]
     },
     "metadata": {
      "needs_background": "light"
     },
     "output_type": "display_data"
    }
   ],
   "source": [
    "# with plt.style.context(('seaborn-talk')):\n",
    "#     fig, axs = plt.subplots(4, 2, figsize=(10, 8), sharey=True, sharex=True)\n",
    "with plt.style.context(('seaborn-paper')):\n",
    "    plt.rcParams.update({'font.size': 12})\n",
    "    plt.rcParams.update({'axes.labelsize': 12})\n",
    "    plt.rcParams.update({'legend.fontsize': 10})\n",
    "    plt.rcParams.update({'ytick.labelsize': 10})\n",
    "    plt.rcParams.update({'xtick.labelsize': 10})\n",
    "    fig, axs = plt.subplots(4, 2, figsize=(6.5, 8), sharey=True, sharex=True)\n",
    "    for imodel, model in enumerate(['M8all', 'M2plus']):\n",
    "        axs[0, imodel].set_title(lab_models[imodel])\n",
    "        for istp, sample in enumerate(['A', 'B', 'C', 'D']):\n",
    "            file = '../data/processed/outputs_DiagISM/obs_sfr/DiagISM_result_' + \\\n",
    "                model+'_SFR_'+sample+'.csv'\n",
    "            results = Table.read(file,\n",
    "                                 format='ascii.csv', header_start=5)\n",
    "            axs[istp, imodel].errorbar(list_sets[istp]['SFR'],\n",
    "                                       results['mean'],\n",
    "                                       yerr=results['std'],\n",
    "                                       label='Set '+sample, fmt='o',\n",
    "                                       alpha=0.5, c=color_stp[istp])\n",
    "            axs[istp, imodel].legend()\n",
    "            axs[istp, imodel].plot([-4, 4], [-4, 4], ls=':', c='k')\n",
    "    plt.tight_layout()\n",
    "    fig.supylabel(r'Predicted SFR [dex (M$_\\odot$/yr)]', x=-0.01)\n",
    "    fig.supxlabel(r'Observed SFR [dex (M$_\\odot$/yr)]', va='top')\n",
    "    plt.subplots_adjust(wspace=0, hspace=0.0)\n",
    "    plt.savefig('../figures/True_predictions.pdf',\n",
    "                dpi=300, bbox_inches='tight')  # For Paper\n",
    "#     plt.savefig('../figures/True_predictions.png',\n",
    "#                 dpi=300, bbox_inches='tight')  # For Presentation"
   ]
  },
  {
   "cell_type": "markdown",
   "metadata": {},
   "source": [
    "## Predictions for observational sample (set B)\n",
    "We organise the results of the set B. First, we present those for a sample of ten galaxies in $\\LaTeX$, then as a machine-readable format."
   ]
  },
  {
   "cell_type": "code",
   "execution_count": 15,
   "metadata": {
    "ExecuteTime": {
     "end_time": "2022-06-23T14:00:00.113993Z",
     "start_time": "2022-06-23T14:00:00.056001Z"
    }
   },
   "outputs": [],
   "source": [
    "predictions = dat_pd_B[['z', 'SIMBADName']].copy()\n",
    "# We add the 'z' to retrain the dataframe but we do not use it\n",
    "for istp, sample in enumerate(stps):\n",
    "    file = '../data/processed/outputs_DiagISM/obs_sfr/DiagISM_result_M2plus_'+sample+'_B.csv'\n",
    "    results = Table.read(file,\n",
    "                         format='ascii.csv', header_start=5)\n",
    "    mean = np.array(['%.2f' % val for val in results['mean']])\n",
    "    err = np.array(['%.2f' % val for val in results['std']])\n",
    "    loc = np.where(err == '0.00')\n",
    "    err[loc] = '0.01'\n",
    "    predictions.loc[:, lab_pars[istp]] = list(map(r' $\\pm$ '.join,\n",
    "                                                  zip(mean, err)))"
   ]
  },
  {
   "cell_type": "code",
   "execution_count": 16,
   "metadata": {
    "ExecuteTime": {
     "end_time": "2022-06-23T14:00:03.066694Z",
     "start_time": "2022-06-23T14:00:03.055853Z"
    }
   },
   "outputs": [
    {
     "data": {
      "text/html": [
       "<div>\n",
       "<style scoped>\n",
       "    .dataframe tbody tr th:only-of-type {\n",
       "        vertical-align: middle;\n",
       "    }\n",
       "\n",
       "    .dataframe tbody tr th {\n",
       "        vertical-align: top;\n",
       "    }\n",
       "\n",
       "    .dataframe thead th {\n",
       "        text-align: right;\n",
       "    }\n",
       "</style>\n",
       "<table border=\"1\" class=\"dataframe\">\n",
       "  <thead>\n",
       "    <tr style=\"text-align: right;\">\n",
       "      <th></th>\n",
       "      <th>z</th>\n",
       "      <th>SIMBADName</th>\n",
       "      <th>$\\rm{SFR}\\, [\\rm{M}_{\\odot} \\rm{yr}^{-1}]$</th>\n",
       "      <th>ISRF [Habing]</th>\n",
       "      <th>$\\rm{Z/Z}_{\\odot}$</th>\n",
       "      <th>P$_{\\rm{ext}}\\, [\\rm{K\\, cm}^{-3}]$</th>\n",
       "      <th>n(H)$_{\\rm{cloud}}\\, [\\rm{cm}^{-3}]$</th>\n",
       "      <th>R$_{cloud}\\, [\\rm{pc}]$</th>\n",
       "      <th>$\\rm{M}_{\\rm{gas}}\\, [\\rm{M}_{\\odot}]$</th>\n",
       "      <th>$\\rm{M}_{\\ast}\\, [\\rm{M}_{\\odot}]$</th>\n",
       "    </tr>\n",
       "  </thead>\n",
       "  <tbody>\n",
       "    <tr>\n",
       "      <th>0</th>\n",
       "      <td>0.014100</td>\n",
       "      <td>Mrk 1506</td>\n",
       "      <td>1.85 $\\pm$ 0.18</td>\n",
       "      <td>3.39 $\\pm$ 0.24</td>\n",
       "      <td>0.55 $\\pm$ 0.07</td>\n",
       "      <td>9.05 $\\pm$ 0.41</td>\n",
       "      <td>3.30 $\\pm$ 0.29</td>\n",
       "      <td>0.97 $\\pm$ 0.08</td>\n",
       "      <td>10.42 $\\pm$ 0.04</td>\n",
       "      <td>10.48 $\\pm$ 0.01</td>\n",
       "    </tr>\n",
       "    <tr>\n",
       "      <th>8</th>\n",
       "      <td>0.000781</td>\n",
       "      <td>NAME Centaurus A</td>\n",
       "      <td>0.63 $\\pm$ 0.16</td>\n",
       "      <td>2.10 $\\pm$ 0.21</td>\n",
       "      <td>0.32 $\\pm$ 0.08</td>\n",
       "      <td>7.83 $\\pm$ 0.29</td>\n",
       "      <td>1.77 $\\pm$ 0.33</td>\n",
       "      <td>1.12 $\\pm$ 0.08</td>\n",
       "      <td>10.09 $\\pm$ 0.07</td>\n",
       "      <td>10.53 $\\pm$ 0.04</td>\n",
       "    </tr>\n",
       "    <tr>\n",
       "      <th>9</th>\n",
       "      <td>0.000608</td>\n",
       "      <td>NAME Circinus Galaxy</td>\n",
       "      <td>0.51 $\\pm$ 0.15</td>\n",
       "      <td>1.97 $\\pm$ 0.25</td>\n",
       "      <td>0.26 $\\pm$ 0.08</td>\n",
       "      <td>7.60 $\\pm$ 0.29</td>\n",
       "      <td>1.52 $\\pm$ 0.36</td>\n",
       "      <td>1.18 $\\pm$ 0.10</td>\n",
       "      <td>10.04 $\\pm$ 0.07</td>\n",
       "      <td>10.51 $\\pm$ 0.06</td>\n",
       "    </tr>\n",
       "    <tr>\n",
       "      <th>12</th>\n",
       "      <td>0.004321</td>\n",
       "      <td>ESO 173-15</td>\n",
       "      <td>1.76 $\\pm$ 0.16</td>\n",
       "      <td>3.10 $\\pm$ 0.23</td>\n",
       "      <td>0.60 $\\pm$ 0.08</td>\n",
       "      <td>9.37 $\\pm$ 0.32</td>\n",
       "      <td>3.19 $\\pm$ 0.27</td>\n",
       "      <td>0.91 $\\pm$ 0.07</td>\n",
       "      <td>10.39 $\\pm$ 0.04</td>\n",
       "      <td>10.50 $\\pm$ 0.02</td>\n",
       "    </tr>\n",
       "    <tr>\n",
       "      <th>13</th>\n",
       "      <td>0.004192</td>\n",
       "      <td>ESO 317-23</td>\n",
       "      <td>0.82 $\\pm$ 0.17</td>\n",
       "      <td>2.25 $\\pm$ 0.16</td>\n",
       "      <td>0.39 $\\pm$ 0.08</td>\n",
       "      <td>8.18 $\\pm$ 0.28</td>\n",
       "      <td>2.11 $\\pm$ 0.29</td>\n",
       "      <td>1.06 $\\pm$ 0.06</td>\n",
       "      <td>10.16 $\\pm$ 0.06</td>\n",
       "      <td>10.55 $\\pm$ 0.03</td>\n",
       "    </tr>\n",
       "    <tr>\n",
       "      <th>14</th>\n",
       "      <td>0.008813</td>\n",
       "      <td>ESO 350-38</td>\n",
       "      <td>1.55 $\\pm$ 0.22</td>\n",
       "      <td>3.08 $\\pm$ 0.22</td>\n",
       "      <td>0.44 $\\pm$ 0.08</td>\n",
       "      <td>8.44 $\\pm$ 0.38</td>\n",
       "      <td>2.81 $\\pm$ 0.32</td>\n",
       "      <td>1.09 $\\pm$ 0.07</td>\n",
       "      <td>10.34 $\\pm$ 0.06</td>\n",
       "      <td>10.47 $\\pm$ 0.02</td>\n",
       "    </tr>\n",
       "    <tr>\n",
       "      <th>17</th>\n",
       "      <td>0.016114</td>\n",
       "      <td>Mrk  477</td>\n",
       "      <td>1.51 $\\pm$ 0.18</td>\n",
       "      <td>2.79 $\\pm$ 0.22</td>\n",
       "      <td>0.47 $\\pm$ 0.08</td>\n",
       "      <td>8.91 $\\pm$ 0.40</td>\n",
       "      <td>2.76 $\\pm$ 0.31</td>\n",
       "      <td>1.01 $\\pm$ 0.08</td>\n",
       "      <td>10.33 $\\pm$ 0.05</td>\n",
       "      <td>10.49 $\\pm$ 0.01</td>\n",
       "    </tr>\n",
       "    <tr>\n",
       "      <th>18</th>\n",
       "      <td>0.000087</td>\n",
       "      <td>IC   10</td>\n",
       "      <td>-1.97 $\\pm$ 0.10</td>\n",
       "      <td>0.38 $\\pm$ 0.10</td>\n",
       "      <td>-0.30 $\\pm$ 0.12</td>\n",
       "      <td>5.15 $\\pm$ 0.15</td>\n",
       "      <td>0.41 $\\pm$ 0.02</td>\n",
       "      <td>1.36 $\\pm$ 0.03</td>\n",
       "      <td>8.43 $\\pm$ 0.05</td>\n",
       "      <td>8.95 $\\pm$ 0.15</td>\n",
       "    </tr>\n",
       "    <tr>\n",
       "      <th>21</th>\n",
       "      <td>0.002684</td>\n",
       "      <td>IC 1953</td>\n",
       "      <td>0.23 $\\pm$ 0.19</td>\n",
       "      <td>1.42 $\\pm$ 0.33</td>\n",
       "      <td>0.11 $\\pm$ 0.08</td>\n",
       "      <td>7.10 $\\pm$ 0.30</td>\n",
       "      <td>0.91 $\\pm$ 0.26</td>\n",
       "      <td>1.36 $\\pm$ 0.09</td>\n",
       "      <td>9.88 $\\pm$ 0.10</td>\n",
       "      <td>10.32 $\\pm$ 0.17</td>\n",
       "    </tr>\n",
       "    <tr>\n",
       "      <th>22</th>\n",
       "      <td>0.002123</td>\n",
       "      <td>IC 2554</td>\n",
       "      <td>0.75 $\\pm$ 0.17</td>\n",
       "      <td>2.13 $\\pm$ 0.20</td>\n",
       "      <td>0.33 $\\pm$ 0.08</td>\n",
       "      <td>8.05 $\\pm$ 0.30</td>\n",
       "      <td>1.91 $\\pm$ 0.32</td>\n",
       "      <td>1.10 $\\pm$ 0.07</td>\n",
       "      <td>10.13 $\\pm$ 0.06</td>\n",
       "      <td>10.53 $\\pm$ 0.04</td>\n",
       "    </tr>\n",
       "  </tbody>\n",
       "</table>\n",
       "</div>"
      ],
      "text/plain": [
       "           z            SIMBADName $\\rm{SFR}\\, [\\rm{M}_{\\odot} \\rm{yr}^{-1}]$  \\\n",
       "0   0.014100              Mrk 1506                            1.85 $\\pm$ 0.18   \n",
       "8   0.000781      NAME Centaurus A                            0.63 $\\pm$ 0.16   \n",
       "9   0.000608  NAME Circinus Galaxy                            0.51 $\\pm$ 0.15   \n",
       "12  0.004321            ESO 173-15                            1.76 $\\pm$ 0.16   \n",
       "13  0.004192            ESO 317-23                            0.82 $\\pm$ 0.17   \n",
       "14  0.008813            ESO 350-38                            1.55 $\\pm$ 0.22   \n",
       "17  0.016114              Mrk  477                            1.51 $\\pm$ 0.18   \n",
       "18  0.000087               IC   10                           -1.97 $\\pm$ 0.10   \n",
       "21  0.002684               IC 1953                            0.23 $\\pm$ 0.19   \n",
       "22  0.002123               IC 2554                            0.75 $\\pm$ 0.17   \n",
       "\n",
       "      ISRF [Habing] $\\rm{Z/Z}_{\\odot}$ P$_{\\rm{ext}}\\, [\\rm{K\\, cm}^{-3}]$  \\\n",
       "0   3.39 $\\pm$ 0.24    0.55 $\\pm$ 0.07                     9.05 $\\pm$ 0.41   \n",
       "8   2.10 $\\pm$ 0.21    0.32 $\\pm$ 0.08                     7.83 $\\pm$ 0.29   \n",
       "9   1.97 $\\pm$ 0.25    0.26 $\\pm$ 0.08                     7.60 $\\pm$ 0.29   \n",
       "12  3.10 $\\pm$ 0.23    0.60 $\\pm$ 0.08                     9.37 $\\pm$ 0.32   \n",
       "13  2.25 $\\pm$ 0.16    0.39 $\\pm$ 0.08                     8.18 $\\pm$ 0.28   \n",
       "14  3.08 $\\pm$ 0.22    0.44 $\\pm$ 0.08                     8.44 $\\pm$ 0.38   \n",
       "17  2.79 $\\pm$ 0.22    0.47 $\\pm$ 0.08                     8.91 $\\pm$ 0.40   \n",
       "18  0.38 $\\pm$ 0.10   -0.30 $\\pm$ 0.12                     5.15 $\\pm$ 0.15   \n",
       "21  1.42 $\\pm$ 0.33    0.11 $\\pm$ 0.08                     7.10 $\\pm$ 0.30   \n",
       "22  2.13 $\\pm$ 0.20    0.33 $\\pm$ 0.08                     8.05 $\\pm$ 0.30   \n",
       "\n",
       "   n(H)$_{\\rm{cloud}}\\, [\\rm{cm}^{-3}]$ R$_{cloud}\\, [\\rm{pc}]$  \\\n",
       "0                       3.30 $\\pm$ 0.29         0.97 $\\pm$ 0.08   \n",
       "8                       1.77 $\\pm$ 0.33         1.12 $\\pm$ 0.08   \n",
       "9                       1.52 $\\pm$ 0.36         1.18 $\\pm$ 0.10   \n",
       "12                      3.19 $\\pm$ 0.27         0.91 $\\pm$ 0.07   \n",
       "13                      2.11 $\\pm$ 0.29         1.06 $\\pm$ 0.06   \n",
       "14                      2.81 $\\pm$ 0.32         1.09 $\\pm$ 0.07   \n",
       "17                      2.76 $\\pm$ 0.31         1.01 $\\pm$ 0.08   \n",
       "18                      0.41 $\\pm$ 0.02         1.36 $\\pm$ 0.03   \n",
       "21                      0.91 $\\pm$ 0.26         1.36 $\\pm$ 0.09   \n",
       "22                      1.91 $\\pm$ 0.32         1.10 $\\pm$ 0.07   \n",
       "\n",
       "   $\\rm{M}_{\\rm{gas}}\\, [\\rm{M}_{\\odot}]$ $\\rm{M}_{\\ast}\\, [\\rm{M}_{\\odot}]$  \n",
       "0                        10.42 $\\pm$ 0.04                   10.48 $\\pm$ 0.01  \n",
       "8                        10.09 $\\pm$ 0.07                   10.53 $\\pm$ 0.04  \n",
       "9                        10.04 $\\pm$ 0.07                   10.51 $\\pm$ 0.06  \n",
       "12                       10.39 $\\pm$ 0.04                   10.50 $\\pm$ 0.02  \n",
       "13                       10.16 $\\pm$ 0.06                   10.55 $\\pm$ 0.03  \n",
       "14                       10.34 $\\pm$ 0.06                   10.47 $\\pm$ 0.02  \n",
       "17                       10.33 $\\pm$ 0.05                   10.49 $\\pm$ 0.01  \n",
       "18                        8.43 $\\pm$ 0.05                    8.95 $\\pm$ 0.15  \n",
       "21                        9.88 $\\pm$ 0.10                   10.32 $\\pm$ 0.17  \n",
       "22                       10.13 $\\pm$ 0.06                   10.53 $\\pm$ 0.04  "
      ]
     },
     "execution_count": 16,
     "metadata": {},
     "output_type": "execute_result"
    }
   ],
   "source": [
    "predictions[:10]"
   ]
  },
  {
   "cell_type": "markdown",
   "metadata": {},
   "source": [
    "We save the predictions of the first ten rows for the $\\LaTeX$"
   ]
  },
  {
   "cell_type": "code",
   "execution_count": 18,
   "metadata": {
    "ExecuteTime": {
     "end_time": "2022-06-05T16:31:34.578476Z",
     "start_time": "2022-06-05T16:31:34.568187Z"
    }
   },
   "outputs": [],
   "source": [
    "to_print = Table.from_pandas(predictions[predictions.columns[1:]])\n",
    "to_print[:10].write('../data/processed/predictions.tex',\n",
    "                    format='latex', overwrite=True)"
   ]
  },
  {
   "cell_type": "markdown",
   "metadata": {},
   "source": [
    "Then, we save the machine-readable table with some additional columns"
   ]
  },
  {
   "cell_type": "code",
   "execution_count": 20,
   "metadata": {
    "ExecuteTime": {
     "end_time": "2022-06-23T14:01:24.099168Z",
     "start_time": "2022-06-23T14:01:24.076743Z"
    }
   },
   "outputs": [],
   "source": [
    "pred_readable = dat_pd_B[['SIMBADName', 'RA', 'DEC', 'z']].copy()\n",
    "for istp, sample in enumerate(stps):\n",
    "    file = '../data/processed/outputs_DiagISM/obs_sfr/DiagISM_result_M2plus_'+sample+'_B.csv'\n",
    "    results = Table.read(file,\n",
    "                         format='ascii.csv', header_start=5)\n",
    "    mean = np.round(results['mean'], 3)\n",
    "    err = np.round(results['std'], 3)\n",
    "    pred_readable.loc[:, lab_pars[istp]] = mean\n",
    "    pred_readable.loc[:, lab_pars[istp]+'_err'] = err"
   ]
  },
  {
   "cell_type": "code",
   "execution_count": 21,
   "metadata": {
    "ExecuteTime": {
     "end_time": "2022-06-23T14:01:29.273404Z",
     "start_time": "2022-06-23T14:01:29.255796Z"
    }
   },
   "outputs": [
    {
     "data": {
      "text/html": [
       "<div>\n",
       "<style scoped>\n",
       "    .dataframe tbody tr th:only-of-type {\n",
       "        vertical-align: middle;\n",
       "    }\n",
       "\n",
       "    .dataframe tbody tr th {\n",
       "        vertical-align: top;\n",
       "    }\n",
       "\n",
       "    .dataframe thead th {\n",
       "        text-align: right;\n",
       "    }\n",
       "</style>\n",
       "<table border=\"1\" class=\"dataframe\">\n",
       "  <thead>\n",
       "    <tr style=\"text-align: right;\">\n",
       "      <th></th>\n",
       "      <th>SIMBADName</th>\n",
       "      <th>RA</th>\n",
       "      <th>DEC</th>\n",
       "      <th>z</th>\n",
       "      <th>$\\rm{SFR}\\, [\\rm{M}_{\\odot} \\rm{yr}^{-1}]$</th>\n",
       "      <th>$\\rm{SFR}\\, [\\rm{M}_{\\odot} \\rm{yr}^{-1}]$_err</th>\n",
       "      <th>ISRF [Habing]</th>\n",
       "      <th>ISRF [Habing]_err</th>\n",
       "      <th>$\\rm{Z/Z}_{\\odot}$</th>\n",
       "      <th>$\\rm{Z/Z}_{\\odot}$_err</th>\n",
       "      <th>P$_{\\rm{ext}}\\, [\\rm{K\\, cm}^{-3}]$</th>\n",
       "      <th>P$_{\\rm{ext}}\\, [\\rm{K\\, cm}^{-3}]$_err</th>\n",
       "      <th>n(H)$_{\\rm{cloud}}\\, [\\rm{cm}^{-3}]$</th>\n",
       "      <th>n(H)$_{\\rm{cloud}}\\, [\\rm{cm}^{-3}]$_err</th>\n",
       "      <th>R$_{cloud}\\, [\\rm{pc}]$</th>\n",
       "      <th>R$_{cloud}\\, [\\rm{pc}]$_err</th>\n",
       "      <th>$\\rm{M}_{\\rm{gas}}\\, [\\rm{M}_{\\odot}]$</th>\n",
       "      <th>$\\rm{M}_{\\rm{gas}}\\, [\\rm{M}_{\\odot}]$_err</th>\n",
       "      <th>$\\rm{M}_{\\ast}\\, [\\rm{M}_{\\odot}]$</th>\n",
       "      <th>$\\rm{M}_{\\ast}\\, [\\rm{M}_{\\odot}]$_err</th>\n",
       "    </tr>\n",
       "  </thead>\n",
       "  <tbody>\n",
       "    <tr>\n",
       "      <th>0</th>\n",
       "      <td>Mrk 1506</td>\n",
       "      <td>04 33 11.0958</td>\n",
       "      <td>+05 21 15.617</td>\n",
       "      <td>0.014100</td>\n",
       "      <td>1.850</td>\n",
       "      <td>0.176</td>\n",
       "      <td>3.394</td>\n",
       "      <td>0.236</td>\n",
       "      <td>0.552</td>\n",
       "      <td>0.073</td>\n",
       "      <td>9.051</td>\n",
       "      <td>0.408</td>\n",
       "      <td>3.298</td>\n",
       "      <td>0.294</td>\n",
       "      <td>0.975</td>\n",
       "      <td>0.082</td>\n",
       "      <td>10.418</td>\n",
       "      <td>0.042</td>\n",
       "      <td>10.480</td>\n",
       "      <td>0.006</td>\n",
       "    </tr>\n",
       "    <tr>\n",
       "      <th>8</th>\n",
       "      <td>NAME Centaurus A</td>\n",
       "      <td>13 25 27.6150</td>\n",
       "      <td>-43 01 08.805</td>\n",
       "      <td>0.000781</td>\n",
       "      <td>0.627</td>\n",
       "      <td>0.157</td>\n",
       "      <td>2.098</td>\n",
       "      <td>0.205</td>\n",
       "      <td>0.315</td>\n",
       "      <td>0.079</td>\n",
       "      <td>7.828</td>\n",
       "      <td>0.290</td>\n",
       "      <td>1.773</td>\n",
       "      <td>0.334</td>\n",
       "      <td>1.123</td>\n",
       "      <td>0.078</td>\n",
       "      <td>10.089</td>\n",
       "      <td>0.065</td>\n",
       "      <td>10.531</td>\n",
       "      <td>0.042</td>\n",
       "    </tr>\n",
       "    <tr>\n",
       "      <th>9</th>\n",
       "      <td>NAME Circinus Galaxy</td>\n",
       "      <td>14 13 09.906</td>\n",
       "      <td>-65 20 20.47</td>\n",
       "      <td>0.000608</td>\n",
       "      <td>0.511</td>\n",
       "      <td>0.152</td>\n",
       "      <td>1.973</td>\n",
       "      <td>0.247</td>\n",
       "      <td>0.265</td>\n",
       "      <td>0.078</td>\n",
       "      <td>7.604</td>\n",
       "      <td>0.294</td>\n",
       "      <td>1.524</td>\n",
       "      <td>0.355</td>\n",
       "      <td>1.176</td>\n",
       "      <td>0.096</td>\n",
       "      <td>10.037</td>\n",
       "      <td>0.071</td>\n",
       "      <td>10.510</td>\n",
       "      <td>0.060</td>\n",
       "    </tr>\n",
       "    <tr>\n",
       "      <th>12</th>\n",
       "      <td>ESO 173-15</td>\n",
       "      <td>13 27 23.774</td>\n",
       "      <td>-57 29 22.14</td>\n",
       "      <td>0.004321</td>\n",
       "      <td>1.757</td>\n",
       "      <td>0.157</td>\n",
       "      <td>3.098</td>\n",
       "      <td>0.234</td>\n",
       "      <td>0.603</td>\n",
       "      <td>0.083</td>\n",
       "      <td>9.374</td>\n",
       "      <td>0.321</td>\n",
       "      <td>3.194</td>\n",
       "      <td>0.266</td>\n",
       "      <td>0.907</td>\n",
       "      <td>0.073</td>\n",
       "      <td>10.394</td>\n",
       "      <td>0.039</td>\n",
       "      <td>10.504</td>\n",
       "      <td>0.018</td>\n",
       "    </tr>\n",
       "    <tr>\n",
       "      <th>13</th>\n",
       "      <td>ESO 317-23</td>\n",
       "      <td>10 24 42.488</td>\n",
       "      <td>-39 18 21.38</td>\n",
       "      <td>0.004192</td>\n",
       "      <td>0.825</td>\n",
       "      <td>0.174</td>\n",
       "      <td>2.254</td>\n",
       "      <td>0.163</td>\n",
       "      <td>0.385</td>\n",
       "      <td>0.079</td>\n",
       "      <td>8.180</td>\n",
       "      <td>0.281</td>\n",
       "      <td>2.113</td>\n",
       "      <td>0.294</td>\n",
       "      <td>1.062</td>\n",
       "      <td>0.058</td>\n",
       "      <td>10.160</td>\n",
       "      <td>0.059</td>\n",
       "      <td>10.546</td>\n",
       "      <td>0.032</td>\n",
       "    </tr>\n",
       "    <tr>\n",
       "      <th>...</th>\n",
       "      <td>...</td>\n",
       "      <td>...</td>\n",
       "      <td>...</td>\n",
       "      <td>...</td>\n",
       "      <td>...</td>\n",
       "      <td>...</td>\n",
       "      <td>...</td>\n",
       "      <td>...</td>\n",
       "      <td>...</td>\n",
       "      <td>...</td>\n",
       "      <td>...</td>\n",
       "      <td>...</td>\n",
       "      <td>...</td>\n",
       "      <td>...</td>\n",
       "      <td>...</td>\n",
       "      <td>...</td>\n",
       "      <td>...</td>\n",
       "      <td>...</td>\n",
       "      <td>...</td>\n",
       "      <td>...</td>\n",
       "    </tr>\n",
       "    <tr>\n",
       "      <th>1514</th>\n",
       "      <td>LEDA   37102</td>\n",
       "      <td>11 51 33.3534</td>\n",
       "      <td>-02 22 21.893</td>\n",
       "      <td>0.001344</td>\n",
       "      <td>-1.696</td>\n",
       "      <td>0.158</td>\n",
       "      <td>0.550</td>\n",
       "      <td>0.116</td>\n",
       "      <td>-0.519</td>\n",
       "      <td>0.080</td>\n",
       "      <td>5.419</td>\n",
       "      <td>0.163</td>\n",
       "      <td>0.434</td>\n",
       "      <td>0.023</td>\n",
       "      <td>1.393</td>\n",
       "      <td>0.026</td>\n",
       "      <td>8.605</td>\n",
       "      <td>0.099</td>\n",
       "      <td>8.840</td>\n",
       "      <td>0.196</td>\n",
       "    </tr>\n",
       "    <tr>\n",
       "      <th>1515</th>\n",
       "      <td>UGC  6456</td>\n",
       "      <td>11 28 00.43</td>\n",
       "      <td>+78 59 38.4</td>\n",
       "      <td>0.000477</td>\n",
       "      <td>-1.654</td>\n",
       "      <td>0.153</td>\n",
       "      <td>0.696</td>\n",
       "      <td>0.095</td>\n",
       "      <td>0.043</td>\n",
       "      <td>0.130</td>\n",
       "      <td>4.472</td>\n",
       "      <td>0.243</td>\n",
       "      <td>0.458</td>\n",
       "      <td>0.044</td>\n",
       "      <td>1.461</td>\n",
       "      <td>0.017</td>\n",
       "      <td>8.432</td>\n",
       "      <td>0.134</td>\n",
       "      <td>9.063</td>\n",
       "      <td>0.063</td>\n",
       "    </tr>\n",
       "    <tr>\n",
       "      <th>1516</th>\n",
       "      <td>SPT-S J041839-4751.8</td>\n",
       "      <td>04 18 39.270</td>\n",
       "      <td>-47 51 50.10</td>\n",
       "      <td>0.718086</td>\n",
       "      <td>2.818</td>\n",
       "      <td>0.148</td>\n",
       "      <td>5.405</td>\n",
       "      <td>0.208</td>\n",
       "      <td>-0.950</td>\n",
       "      <td>0.070</td>\n",
       "      <td>12.330</td>\n",
       "      <td>0.189</td>\n",
       "      <td>4.830</td>\n",
       "      <td>0.206</td>\n",
       "      <td>0.636</td>\n",
       "      <td>0.042</td>\n",
       "      <td>11.000</td>\n",
       "      <td>0.029</td>\n",
       "      <td>10.477</td>\n",
       "      <td>0.011</td>\n",
       "    </tr>\n",
       "    <tr>\n",
       "      <th>1517</th>\n",
       "      <td>AzTEC 1</td>\n",
       "      <td>09 59 42.860</td>\n",
       "      <td>+02 29 38.20</td>\n",
       "      <td>0.727704</td>\n",
       "      <td>3.039</td>\n",
       "      <td>0.146</td>\n",
       "      <td>5.495</td>\n",
       "      <td>0.199</td>\n",
       "      <td>-1.137</td>\n",
       "      <td>0.078</td>\n",
       "      <td>11.984</td>\n",
       "      <td>0.207</td>\n",
       "      <td>4.886</td>\n",
       "      <td>0.182</td>\n",
       "      <td>0.574</td>\n",
       "      <td>0.042</td>\n",
       "      <td>11.039</td>\n",
       "      <td>0.011</td>\n",
       "      <td>10.488</td>\n",
       "      <td>0.011</td>\n",
       "    </tr>\n",
       "    <tr>\n",
       "      <th>1645</th>\n",
       "      <td>[MOK2016b] HSC J121137.10-011816.4</td>\n",
       "      <td>12 11 37.10</td>\n",
       "      <td>-01 18 16.4</td>\n",
       "      <td>0.846912</td>\n",
       "      <td>2.705</td>\n",
       "      <td>0.152</td>\n",
       "      <td>5.684</td>\n",
       "      <td>0.266</td>\n",
       "      <td>-1.043</td>\n",
       "      <td>0.048</td>\n",
       "      <td>12.488</td>\n",
       "      <td>0.152</td>\n",
       "      <td>5.215</td>\n",
       "      <td>0.254</td>\n",
       "      <td>0.697</td>\n",
       "      <td>0.042</td>\n",
       "      <td>10.923</td>\n",
       "      <td>0.069</td>\n",
       "      <td>10.409</td>\n",
       "      <td>0.056</td>\n",
       "    </tr>\n",
       "  </tbody>\n",
       "</table>\n",
       "<p>490 rows × 20 columns</p>\n",
       "</div>"
      ],
      "text/plain": [
       "                              SIMBADName             RA            DEC  \\\n",
       "0                               Mrk 1506  04 33 11.0958  +05 21 15.617   \n",
       "8                       NAME Centaurus A  13 25 27.6150  -43 01 08.805   \n",
       "9                   NAME Circinus Galaxy   14 13 09.906   -65 20 20.47   \n",
       "12                            ESO 173-15   13 27 23.774   -57 29 22.14   \n",
       "13                            ESO 317-23   10 24 42.488   -39 18 21.38   \n",
       "...                                  ...            ...            ...   \n",
       "1514                        LEDA   37102  11 51 33.3534  -02 22 21.893   \n",
       "1515                           UGC  6456    11 28 00.43    +78 59 38.4   \n",
       "1516                SPT-S J041839-4751.8   04 18 39.270   -47 51 50.10   \n",
       "1517                             AzTEC 1   09 59 42.860   +02 29 38.20   \n",
       "1645  [MOK2016b] HSC J121137.10-011816.4    12 11 37.10    -01 18 16.4   \n",
       "\n",
       "             z  $\\rm{SFR}\\, [\\rm{M}_{\\odot} \\rm{yr}^{-1}]$  \\\n",
       "0     0.014100                                       1.850   \n",
       "8     0.000781                                       0.627   \n",
       "9     0.000608                                       0.511   \n",
       "12    0.004321                                       1.757   \n",
       "13    0.004192                                       0.825   \n",
       "...        ...                                         ...   \n",
       "1514  0.001344                                      -1.696   \n",
       "1515  0.000477                                      -1.654   \n",
       "1516  0.718086                                       2.818   \n",
       "1517  0.727704                                       3.039   \n",
       "1645  0.846912                                       2.705   \n",
       "\n",
       "      $\\rm{SFR}\\, [\\rm{M}_{\\odot} \\rm{yr}^{-1}]$_err  ISRF [Habing]  \\\n",
       "0                                              0.176          3.394   \n",
       "8                                              0.157          2.098   \n",
       "9                                              0.152          1.973   \n",
       "12                                             0.157          3.098   \n",
       "13                                             0.174          2.254   \n",
       "...                                              ...            ...   \n",
       "1514                                           0.158          0.550   \n",
       "1515                                           0.153          0.696   \n",
       "1516                                           0.148          5.405   \n",
       "1517                                           0.146          5.495   \n",
       "1645                                           0.152          5.684   \n",
       "\n",
       "      ISRF [Habing]_err  $\\rm{Z/Z}_{\\odot}$  $\\rm{Z/Z}_{\\odot}$_err  \\\n",
       "0                 0.236               0.552                   0.073   \n",
       "8                 0.205               0.315                   0.079   \n",
       "9                 0.247               0.265                   0.078   \n",
       "12                0.234               0.603                   0.083   \n",
       "13                0.163               0.385                   0.079   \n",
       "...                 ...                 ...                     ...   \n",
       "1514              0.116              -0.519                   0.080   \n",
       "1515              0.095               0.043                   0.130   \n",
       "1516              0.208              -0.950                   0.070   \n",
       "1517              0.199              -1.137                   0.078   \n",
       "1645              0.266              -1.043                   0.048   \n",
       "\n",
       "      P$_{\\rm{ext}}\\, [\\rm{K\\, cm}^{-3}]$  \\\n",
       "0                                   9.051   \n",
       "8                                   7.828   \n",
       "9                                   7.604   \n",
       "12                                  9.374   \n",
       "13                                  8.180   \n",
       "...                                   ...   \n",
       "1514                                5.419   \n",
       "1515                                4.472   \n",
       "1516                               12.330   \n",
       "1517                               11.984   \n",
       "1645                               12.488   \n",
       "\n",
       "      P$_{\\rm{ext}}\\, [\\rm{K\\, cm}^{-3}]$_err  \\\n",
       "0                                       0.408   \n",
       "8                                       0.290   \n",
       "9                                       0.294   \n",
       "12                                      0.321   \n",
       "13                                      0.281   \n",
       "...                                       ...   \n",
       "1514                                    0.163   \n",
       "1515                                    0.243   \n",
       "1516                                    0.189   \n",
       "1517                                    0.207   \n",
       "1645                                    0.152   \n",
       "\n",
       "      n(H)$_{\\rm{cloud}}\\, [\\rm{cm}^{-3}]$  \\\n",
       "0                                    3.298   \n",
       "8                                    1.773   \n",
       "9                                    1.524   \n",
       "12                                   3.194   \n",
       "13                                   2.113   \n",
       "...                                    ...   \n",
       "1514                                 0.434   \n",
       "1515                                 0.458   \n",
       "1516                                 4.830   \n",
       "1517                                 4.886   \n",
       "1645                                 5.215   \n",
       "\n",
       "      n(H)$_{\\rm{cloud}}\\, [\\rm{cm}^{-3}]$_err  R$_{cloud}\\, [\\rm{pc}]$  \\\n",
       "0                                        0.294                    0.975   \n",
       "8                                        0.334                    1.123   \n",
       "9                                        0.355                    1.176   \n",
       "12                                       0.266                    0.907   \n",
       "13                                       0.294                    1.062   \n",
       "...                                        ...                      ...   \n",
       "1514                                     0.023                    1.393   \n",
       "1515                                     0.044                    1.461   \n",
       "1516                                     0.206                    0.636   \n",
       "1517                                     0.182                    0.574   \n",
       "1645                                     0.254                    0.697   \n",
       "\n",
       "      R$_{cloud}\\, [\\rm{pc}]$_err  $\\rm{M}_{\\rm{gas}}\\, [\\rm{M}_{\\odot}]$  \\\n",
       "0                           0.082                                  10.418   \n",
       "8                           0.078                                  10.089   \n",
       "9                           0.096                                  10.037   \n",
       "12                          0.073                                  10.394   \n",
       "13                          0.058                                  10.160   \n",
       "...                           ...                                     ...   \n",
       "1514                        0.026                                   8.605   \n",
       "1515                        0.017                                   8.432   \n",
       "1516                        0.042                                  11.000   \n",
       "1517                        0.042                                  11.039   \n",
       "1645                        0.042                                  10.923   \n",
       "\n",
       "      $\\rm{M}_{\\rm{gas}}\\, [\\rm{M}_{\\odot}]$_err  \\\n",
       "0                                          0.042   \n",
       "8                                          0.065   \n",
       "9                                          0.071   \n",
       "12                                         0.039   \n",
       "13                                         0.059   \n",
       "...                                          ...   \n",
       "1514                                       0.099   \n",
       "1515                                       0.134   \n",
       "1516                                       0.029   \n",
       "1517                                       0.011   \n",
       "1645                                       0.069   \n",
       "\n",
       "      $\\rm{M}_{\\ast}\\, [\\rm{M}_{\\odot}]$  \\\n",
       "0                                 10.480   \n",
       "8                                 10.531   \n",
       "9                                 10.510   \n",
       "12                                10.504   \n",
       "13                                10.546   \n",
       "...                                  ...   \n",
       "1514                               8.840   \n",
       "1515                               9.063   \n",
       "1516                              10.477   \n",
       "1517                              10.488   \n",
       "1645                              10.409   \n",
       "\n",
       "      $\\rm{M}_{\\ast}\\, [\\rm{M}_{\\odot}]$_err  \n",
       "0                                      0.006  \n",
       "8                                      0.042  \n",
       "9                                      0.060  \n",
       "12                                     0.018  \n",
       "13                                     0.032  \n",
       "...                                      ...  \n",
       "1514                                   0.196  \n",
       "1515                                   0.063  \n",
       "1516                                   0.011  \n",
       "1517                                   0.011  \n",
       "1645                                   0.056  \n",
       "\n",
       "[490 rows x 20 columns]"
      ]
     },
     "execution_count": 21,
     "metadata": {},
     "output_type": "execute_result"
    }
   ],
   "source": [
    "pred_readable"
   ]
  },
  {
   "cell_type": "code",
   "execution_count": 23,
   "metadata": {
    "ExecuteTime": {
     "end_time": "2022-06-05T16:32:44.362928Z",
     "start_time": "2022-06-05T16:32:44.346608Z"
    }
   },
   "outputs": [],
   "source": [
    "pred_readable.to_csv('../data/processed/predictions_DiagISM_obsSample.csv',\n",
    "                     index=True, index_label='Row Obs. Sample')"
   ]
  },
  {
   "cell_type": "markdown",
   "metadata": {},
   "source": [
    "We present a histogram for each of the parameters to see the range of values for the different predictions"
   ]
  },
  {
   "cell_type": "code",
   "execution_count": 59,
   "metadata": {
    "ExecuteTime": {
     "end_time": "2022-06-23T14:22:15.117332Z",
     "start_time": "2022-06-23T14:22:13.920065Z"
    }
   },
   "outputs": [
    {
     "data": {
      "image/png": "[encoded data removed]",
      "text/plain": [
       "<Figure size 679.68x360 with 8 Axes>"
      ]
     },
     "metadata": {
      "needs_background": "light"
     },
     "output_type": "display_data"
    }
   ],
   "source": [
    "with plt.style.context(('seaborn-paper')):\n",
    "    plt.rcParams.update({'font.size': 12})\n",
    "    plt.rcParams.update({'axes.labelsize': 12})\n",
    "    plt.rcParams.update({'legend.fontsize': 10})\n",
    "    plt.rcParams.update({'ytick.labelsize': 10})\n",
    "    plt.rcParams.update({'xtick.labelsize': 10})\n",
    "    fig, axes = plt.subplots(2, 4, figsize=(9.44, 5), sharey=True)\n",
    "    axs = axes.ravel()\n",
    "    for ipar in range(8):\n",
    "#         hist(pred_readable[lab_pars[ipar]],\n",
    "#              density=False, bins='freedman', ax=axs[ipar])\n",
    "        axs[ipar].hist(pred_readable[lab_pars[ipar]], bins=20 if ipar < 7 else 40)\n",
    "        axs[ipar].set_xlabel(r'log('+lab_pars[ipar]+')')\n",
    "    axs[0].set_ylabel('# of galaxies')\n",
    "    axs[4].set_ylabel('# of galaxies')\n",
    "    plt.subplots_adjust(wspace=0, hspace=0.4)\n",
    "    plt.savefig('../figures/Observations_predictions.pdf',\n",
    "                dpi=300, bbox_inches='tight')  # For Paper"
   ]
  },
  {
   "cell_type": "markdown",
   "metadata": {},
   "source": [
    "## Reference selected images DiagISM\n",
    "We print the rows of the two selected galaxies that we show as an examples in the text."
   ]
  },
  {
   "cell_type": "code",
   "execution_count": 24,
   "metadata": {
    "ExecuteTime": {
     "end_time": "2022-06-05T16:32:46.970176Z",
     "start_time": "2022-06-05T16:32:46.956078Z"
    }
   },
   "outputs": [
    {
     "data": {
      "text/html": [
       "<div>\n",
       "<style scoped>\n",
       "    .dataframe tbody tr th:only-of-type {\n",
       "        vertical-align: middle;\n",
       "    }\n",
       "\n",
       "    .dataframe tbody tr th {\n",
       "        vertical-align: top;\n",
       "    }\n",
       "\n",
       "    .dataframe thead th {\n",
       "        text-align: right;\n",
       "    }\n",
       "</style>\n",
       "<table border=\"1\" class=\"dataframe\">\n",
       "  <thead>\n",
       "    <tr style=\"text-align: right;\">\n",
       "      <th></th>\n",
       "      <th>Name</th>\n",
       "      <th>SIMBADName</th>\n",
       "      <th>RA</th>\n",
       "      <th>DEC</th>\n",
       "      <th>Reference</th>\n",
       "      <th>z</th>\n",
       "      <th>SIMBADType</th>\n",
       "      <th>SFR</th>\n",
       "      <th>SFR_err</th>\n",
       "      <th>LimSFR</th>\n",
       "      <th>...</th>\n",
       "      <th>LimCII</th>\n",
       "      <th>LNII205</th>\n",
       "      <th>LNII205_err</th>\n",
       "      <th>LimNII205</th>\n",
       "      <th>Lum_OIII_52</th>\n",
       "      <th>Lum_NIII_57</th>\n",
       "      <th>Lum_OI_63</th>\n",
       "      <th>Lum_OIII_88</th>\n",
       "      <th>Lum_CII_158</th>\n",
       "      <th>Lum_NII_205</th>\n",
       "    </tr>\n",
       "  </thead>\n",
       "  <tbody>\n",
       "    <tr>\n",
       "      <th>9</th>\n",
       "      <td>Circinus Galaxy</td>\n",
       "      <td>NAME Circinus Galaxy</td>\n",
       "      <td>14 13 09.906</td>\n",
       "      <td>-65 20 20.47</td>\n",
       "      <td>2008ApJS..178..280B</td>\n",
       "      <td>0.000608</td>\n",
       "      <td>Seyfert_2</td>\n",
       "      <td>0.404353</td>\n",
       "      <td>NaN</td>\n",
       "      <td>0.0</td>\n",
       "      <td>...</td>\n",
       "      <td>0.0</td>\n",
       "      <td>NaN</td>\n",
       "      <td>&lt;NA&gt;</td>\n",
       "      <td>0.0</td>\n",
       "      <td>NaN</td>\n",
       "      <td>NaN</td>\n",
       "      <td>7.481094</td>\n",
       "      <td>7.036051</td>\n",
       "      <td>7.531479</td>\n",
       "      <td>NaN</td>\n",
       "    </tr>\n",
       "    <tr>\n",
       "      <th>12</th>\n",
       "      <td>ESO 173-G015</td>\n",
       "      <td>ESO 173-15</td>\n",
       "      <td>13 27 23.774</td>\n",
       "      <td>-57 29 22.14</td>\n",
       "      <td>2008ApJS..178..280B</td>\n",
       "      <td>0.004321</td>\n",
       "      <td>Galaxy</td>\n",
       "      <td>1.560742</td>\n",
       "      <td>NaN</td>\n",
       "      <td>0.0</td>\n",
       "      <td>...</td>\n",
       "      <td>0.0</td>\n",
       "      <td>NaN</td>\n",
       "      <td>&lt;NA&gt;</td>\n",
       "      <td>0.0</td>\n",
       "      <td>NaN</td>\n",
       "      <td>NaN</td>\n",
       "      <td>8.404012</td>\n",
       "      <td>8.345714</td>\n",
       "      <td>8.505150</td>\n",
       "      <td>NaN</td>\n",
       "    </tr>\n",
       "  </tbody>\n",
       "</table>\n",
       "<p>2 rows × 50 columns</p>\n",
       "</div>"
      ],
      "text/plain": [
       "               Name            SIMBADName            RA           DEC  \\\n",
       "9   Circinus Galaxy  NAME Circinus Galaxy  14 13 09.906  -65 20 20.47   \n",
       "12     ESO 173-G015            ESO 173-15  13 27 23.774  -57 29 22.14   \n",
       "\n",
       "              Reference         z SIMBADType       SFR  SFR_err  LimSFR  ...  \\\n",
       "9   2008ApJS..178..280B  0.000608  Seyfert_2  0.404353      NaN     0.0  ...   \n",
       "12  2008ApJS..178..280B  0.004321     Galaxy  1.560742      NaN     0.0  ...   \n",
       "\n",
       "    LimCII  LNII205  LNII205_err  LimNII205  Lum_OIII_52  Lum_NIII_57  \\\n",
       "9      0.0      NaN         <NA>        0.0          NaN          NaN   \n",
       "12     0.0      NaN         <NA>        0.0          NaN          NaN   \n",
       "\n",
       "    Lum_OI_63  Lum_OIII_88  Lum_CII_158  Lum_NII_205  \n",
       "9    7.481094     7.036051     7.531479          NaN  \n",
       "12   8.404012     8.345714     8.505150          NaN  \n",
       "\n",
       "[2 rows x 50 columns]"
      ]
     },
     "execution_count": 24,
     "metadata": {},
     "output_type": "execute_result"
    }
   ],
   "source": [
    "dat_pd_A[6:8]"
   ]
  },
  {
   "cell_type": "code",
   "execution_count": 25,
   "metadata": {
    "ExecuteTime": {
     "end_time": "2022-06-05T16:32:49.527756Z",
     "start_time": "2022-06-05T16:32:49.492250Z"
    }
   },
   "outputs": [
    {
     "name": "stdout",
     "output_type": "stream",
     "text": [
      " id       per_16th      ...        mean               std        \n",
      "--- ------------------- ... ------------------ ------------------\n",
      "  6 0.33522559023744825 ... 0.6642551010679406 0.3414750989487691\n",
      "  7  1.5873129975738913 ... 1.7478881554446344 0.1634317617935361\n",
      " id      per_16th      ...        mean                std        \n",
      "--- ------------------ ... ------------------ -------------------\n",
      "  6 0.5610237416686662 ... 0.6907984249645683 0.13831068003174385\n",
      "  7 1.5246081725347198 ...  1.693545039666249 0.16998260707570467\n"
     ]
    }
   ],
   "source": [
    "sfr_m8all_setb = Table.read('../data/processed/outputs_DiagISM/obs_sfr/DiagISM_result_M8all_SFR_A.csv',\n",
    "                            format='ascii.csv', header_start=5)\n",
    "sfr_m2plus_setb = Table.read('../data/processed/outputs_DiagISM/obs_sfr/DiagISM_result_M2plus_SFR_A.csv',\n",
    "                             format='ascii.csv', header_start=5)\n",
    "print(sfr_m8all_setb[6:8])\n",
    "print(sfr_m2plus_setb[6:8])"
   ]
  },
  {
   "cell_type": "markdown",
   "metadata": {},
   "source": [
    "##### Notebook info"
   ]
  },
  {
   "cell_type": "code",
   "execution_count": 26,
   "metadata": {
    "ExecuteTime": {
     "end_time": "2022-06-05T16:32:51.456260Z",
     "start_time": "2022-06-05T16:32:51.343739Z"
    }
   },
   "outputs": [
    {
     "name": "stdout",
     "output_type": "stream",
     "text": [
      "Author: Andres Ramos\n",
      "\n",
      "Python implementation: CPython\n",
      "Python version       : 3.8.3\n",
      "IPython version      : 7.16.1\n",
      "\n",
      "Compiler    : GCC 7.3.0\n",
      "OS          : Linux\n",
      "Release     : 3.10.0-1160.59.1.el7.x86_64\n",
      "Machine     : x86_64\n",
      "Processor   : x86_64\n",
      "CPU cores   : 8\n",
      "Architecture: 64bit\n",
      "\n",
      "Specific Python packages\n",
      "matplotlib: 3.4.3\n",
      "json      : 2.0.9\n",
      "numpy     : 1.22.1\n",
      "autopep8  : 1.5.7\n",
      "\n",
      "Watermark: 2.2.0\n",
      "\n"
     ]
    }
   ],
   "source": [
    "%load_ext watermark\n",
    "%watermark -a \"Andres Ramos\" -d -v -m\n",
    "print('Specific Python packages')\n",
    "%watermark -iv -w"
   ]
  },
  {
   "cell_type": "code",
   "execution_count": null,
   "metadata": {},
   "outputs": [],
   "source": []
  }
 ],
 "metadata": {
  "hide_input": false,
  "kernelspec": {
   "display_name": "Python 3",
   "language": "python",
   "name": "python3"
  },
  "language_info": {
   "codemirror_mode": {
    "name": "ipython",
    "version": 3
   },
   "file_extension": ".py",
   "mimetype": "text/x-python",
   "name": "python",
   "nbconvert_exporter": "python",
   "pygments_lexer": "ipython3",
   "version": "3.8.3"
  },
  "toc": {
   "base_numbering": "4",
   "nav_menu": {},
   "number_sections": true,
   "sideBar": true,
   "skip_h1_title": false,
   "title_cell": "Table of Contents",
   "title_sidebar": "Contents",
   "toc_cell": false,
   "toc_position": {},
   "toc_section_display": true,
   "toc_window_display": true
  },
  "varInspector": {
   "cols": {
    "lenName": 16,
    "lenType": 16,
    "lenVar": 40
   },
   "kernels_config": {
    "python": {
     "delete_cmd_postfix": "",
     "delete_cmd_prefix": "del ",
     "library": "var_list.py",
     "varRefreshCmd": "print(var_dic_list())"
    },
    "r": {
     "delete_cmd_postfix": ") ",
     "delete_cmd_prefix": "rm(",
     "library": "var_list.r",
     "varRefreshCmd": "cat(var_dic_list()) "
    }
   },
   "types_to_exclude": [
    "module",
    "function",
    "builtin_function_or_method",
    "instance",
    "_Feature"
   ],
   "window_display": false
  }
 },
 "nbformat": 4,
 "nbformat_minor": 4
}
