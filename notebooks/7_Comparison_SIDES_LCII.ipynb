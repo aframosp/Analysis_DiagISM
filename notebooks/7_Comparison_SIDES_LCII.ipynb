{
 "cells": [
  {
   "cell_type": "markdown",
   "metadata": {},
   "source": [
    "# Comparison between different LCII estimates\n",
    "In this notebook, we compare the [C II] luminosities available in SIDES (De Looze and Lagache) with the ones that we can obtain from the different configurations we test for the SFR-LCII relation. First we import the Python packages."
   ]
  },
  {
   "cell_type": "code",
   "execution_count": 1,
   "metadata": {
    "ExecuteTime": {
     "end_time": "2022-06-05T16:49:54.119641Z",
     "start_time": "2022-06-05T16:49:52.882350Z"
    }
   },
   "outputs": [],
   "source": [
    "import numpy as np\n",
    "import matplotlib.pylab as plt\n",
    "from astropy.table import Table"
   ]
  },
  {
   "cell_type": "markdown",
   "metadata": {},
   "source": [
    "## Read SIDES data\n",
    "We read the pySIDES original data"
   ]
  },
  {
   "cell_type": "code",
   "execution_count": 2,
   "metadata": {
    "ExecuteTime": {
     "end_time": "2022-06-05T16:50:14.114708Z",
     "start_time": "2022-06-05T16:49:54.125526Z"
    }
   },
   "outputs": [],
   "source": [
    "# This file is very large, so we recommend downloading the file yourself\n",
    "cat = Table.read('pySIDES_from_original.fits', format='fits')"
   ]
  },
  {
   "cell_type": "markdown",
   "metadata": {},
   "source": [
    "We also read the coefficients calculated for the paper, the ones with only the HII regions and the one applied in the DiagISM web app with a Multi-layer Perceptron (MLP)"
   ]
  },
  {
   "cell_type": "code",
   "execution_count": 3,
   "metadata": {
    "ExecuteTime": {
     "end_time": "2022-06-05T16:50:14.165427Z",
     "start_time": "2022-06-05T16:50:14.126094Z"
    }
   },
   "outputs": [],
   "source": [
    "estimated_linreg = Table.read('../data/raw/coeff_linreg.csv',\n",
    "                              format='ascii.csv')\n",
    "estimated_linreg_HII = Table.read('../data/raw/coeff_linreg_HII.csv',\n",
    "                                  format='ascii.csv')  # In case HII\n",
    "estimated_MLPreg = Table.read('../data/interim/coeff_MLPreg.csv',\n",
    "                              format='ascii.csv')\n",
    "\n",
    "# Dictionaries to create the analog of the lines names\n",
    "linreg_lines = {'CII158': 'logLCII', 'NIII': 'logLNIII_57',\n",
    "                'NII205': 'logLNII_205', 'NII122': 'logLNII_122',\n",
    "                'OI145': 'logLOI_145',  'OI63': 'logLOI_63',\n",
    "                'OIII88': 'logLOIII_88', 'OIII52': 'logLOIII_51'}\n",
    "inv_linreg_lines = {v: k for k, v in linreg_lines.items()}"
   ]
  },
  {
   "cell_type": "markdown",
   "metadata": {},
   "source": [
    "## Check information of the catalogue\n",
    "We print some information of the SIDES catalogue to add into the text."
   ]
  },
  {
   "cell_type": "code",
   "execution_count": 4,
   "metadata": {
    "ExecuteTime": {
     "end_time": "2022-06-05T16:50:14.181858Z",
     "start_time": "2022-06-05T16:50:14.179931Z"
    }
   },
   "outputs": [
    {
     "name": "stdout",
     "output_type": "stream",
     "text": [
      "Size catalogue: 5584998\n"
     ]
    }
   ],
   "source": [
    "print('Size catalogue: %i' % len(cat))"
   ]
  },
  {
   "cell_type": "code",
   "execution_count": 5,
   "metadata": {
    "ExecuteTime": {
     "end_time": "2022-06-05T16:50:25.373627Z",
     "start_time": "2022-06-05T16:50:14.196697Z"
    }
   },
   "outputs": [
    {
     "data": {
      "text/html": [
       "<div>\n",
       "<style scoped>\n",
       "    .dataframe tbody tr th:only-of-type {\n",
       "        vertical-align: middle;\n",
       "    }\n",
       "\n",
       "    .dataframe tbody tr th {\n",
       "        vertical-align: top;\n",
       "    }\n",
       "\n",
       "    .dataframe thead th {\n",
       "        text-align: right;\n",
       "    }\n",
       "</style>\n",
       "<table border=\"1\" class=\"dataframe\">\n",
       "  <thead>\n",
       "    <tr style=\"text-align: right;\">\n",
       "      <th></th>\n",
       "      <th>redshift</th>\n",
       "      <th>ra</th>\n",
       "      <th>dec</th>\n",
       "      <th>Mhalo</th>\n",
       "      <th>Mstar</th>\n",
       "      <th>SFR</th>\n",
       "      <th>mu</th>\n",
       "      <th>Dlum</th>\n",
       "      <th>Umean</th>\n",
       "      <th>LIR</th>\n",
       "      <th>...</th>\n",
       "      <th>ICO54</th>\n",
       "      <th>ICO65</th>\n",
       "      <th>ICO76</th>\n",
       "      <th>ICO87</th>\n",
       "      <th>LCII_Lagache</th>\n",
       "      <th>ICII_Lagache</th>\n",
       "      <th>LCII_de_Looze</th>\n",
       "      <th>ICII_de_Looze</th>\n",
       "      <th>ICI10</th>\n",
       "      <th>ICI21</th>\n",
       "    </tr>\n",
       "  </thead>\n",
       "  <tbody>\n",
       "    <tr>\n",
       "      <th>count</th>\n",
       "      <td>5.584998e+06</td>\n",
       "      <td>5.584998e+06</td>\n",
       "      <td>5.584998e+06</td>\n",
       "      <td>5.584998e+06</td>\n",
       "      <td>5.584998e+06</td>\n",
       "      <td>5.584998e+06</td>\n",
       "      <td>5.584998e+06</td>\n",
       "      <td>5.584998e+06</td>\n",
       "      <td>5.584998e+06</td>\n",
       "      <td>5.584998e+06</td>\n",
       "      <td>...</td>\n",
       "      <td>5.584998e+06</td>\n",
       "      <td>5.584998e+06</td>\n",
       "      <td>5.584998e+06</td>\n",
       "      <td>5.584998e+06</td>\n",
       "      <td>5.584998e+06</td>\n",
       "      <td>5.584998e+06</td>\n",
       "      <td>5.584998e+06</td>\n",
       "      <td>5.584998e+06</td>\n",
       "      <td>5.584998e+06</td>\n",
       "      <td>5.584998e+06</td>\n",
       "    </tr>\n",
       "    <tr>\n",
       "      <th>mean</th>\n",
       "      <td>2.734982e+00</td>\n",
       "      <td>7.039533e-01</td>\n",
       "      <td>6.972193e-01</td>\n",
       "      <td>1.064088e+11</td>\n",
       "      <td>9.092136e+08</td>\n",
       "      <td>1.372681e+00</td>\n",
       "      <td>9.540521e-01</td>\n",
       "      <td>2.400558e+04</td>\n",
       "      <td>2.971599e+01</td>\n",
       "      <td>1.372681e+10</td>\n",
       "      <td>...</td>\n",
       "      <td>1.177584e-02</td>\n",
       "      <td>7.891975e-03</td>\n",
       "      <td>5.098844e-03</td>\n",
       "      <td>3.182408e-03</td>\n",
       "      <td>2.844697e+07</td>\n",
       "      <td>2.742033e-01</td>\n",
       "      <td>1.747779e+07</td>\n",
       "      <td>1.278091e-01</td>\n",
       "      <td>6.853084e-03</td>\n",
       "      <td>6.157696e-03</td>\n",
       "    </tr>\n",
       "    <tr>\n",
       "      <th>std</th>\n",
       "      <td>1.484305e+00</td>\n",
       "      <td>4.041831e-01</td>\n",
       "      <td>4.038262e-01</td>\n",
       "      <td>7.740619e+11</td>\n",
       "      <td>7.074330e+09</td>\n",
       "      <td>1.246749e+01</td>\n",
       "      <td>2.571228e-01</td>\n",
       "      <td>1.522744e+04</td>\n",
       "      <td>2.375179e+01</td>\n",
       "      <td>1.246749e+11</td>\n",
       "      <td>...</td>\n",
       "      <td>1.015527e-01</td>\n",
       "      <td>7.686822e-02</td>\n",
       "      <td>5.980459e-02</td>\n",
       "      <td>5.120688e-02</td>\n",
       "      <td>4.619592e+08</td>\n",
       "      <td>6.037699e+00</td>\n",
       "      <td>1.759584e+08</td>\n",
       "      <td>1.739894e+00</td>\n",
       "      <td>6.901437e-02</td>\n",
       "      <td>7.367227e-02</td>\n",
       "    </tr>\n",
       "    <tr>\n",
       "      <th>min</th>\n",
       "      <td>2.546800e-02</td>\n",
       "      <td>0.000000e+00</td>\n",
       "      <td>0.000000e+00</td>\n",
       "      <td>7.618732e+07</td>\n",
       "      <td>1.000001e+07</td>\n",
       "      <td>0.000000e+00</td>\n",
       "      <td>1.093528e-01</td>\n",
       "      <td>1.148970e+02</td>\n",
       "      <td>7.369455e-01</td>\n",
       "      <td>0.000000e+00</td>\n",
       "      <td>...</td>\n",
       "      <td>0.000000e+00</td>\n",
       "      <td>0.000000e+00</td>\n",
       "      <td>0.000000e+00</td>\n",
       "      <td>0.000000e+00</td>\n",
       "      <td>0.000000e+00</td>\n",
       "      <td>0.000000e+00</td>\n",
       "      <td>0.000000e+00</td>\n",
       "      <td>0.000000e+00</td>\n",
       "      <td>0.000000e+00</td>\n",
       "      <td>0.000000e+00</td>\n",
       "    </tr>\n",
       "    <tr>\n",
       "      <th>25%</th>\n",
       "      <td>1.510977e+00</td>\n",
       "      <td>3.536190e-01</td>\n",
       "      <td>3.476190e-01</td>\n",
       "      <td>2.057080e+10</td>\n",
       "      <td>1.645674e+07</td>\n",
       "      <td>2.566594e-02</td>\n",
       "      <td>8.841814e-01</td>\n",
       "      <td>1.129854e+04</td>\n",
       "      <td>1.213790e+01</td>\n",
       "      <td>2.566594e+08</td>\n",
       "      <td>...</td>\n",
       "      <td>5.019205e-04</td>\n",
       "      <td>3.101368e-04</td>\n",
       "      <td>1.810549e-04</td>\n",
       "      <td>9.432232e-05</td>\n",
       "      <td>9.055122e+04</td>\n",
       "      <td>4.041218e-04</td>\n",
       "      <td>2.805908e+05</td>\n",
       "      <td>1.195736e-03</td>\n",
       "      <td>2.477126e-04</td>\n",
       "      <td>1.874166e-04</td>\n",
       "    </tr>\n",
       "    <tr>\n",
       "      <th>50%</th>\n",
       "      <td>2.750341e+00</td>\n",
       "      <td>7.054865e-01</td>\n",
       "      <td>6.967940e-01</td>\n",
       "      <td>3.748378e+10</td>\n",
       "      <td>3.332762e+07</td>\n",
       "      <td>7.083349e-02</td>\n",
       "      <td>9.621357e-01</td>\n",
       "      <td>2.345478e+04</td>\n",
       "      <td>2.317521e+01</td>\n",
       "      <td>7.083349e+08</td>\n",
       "      <td>...</td>\n",
       "      <td>1.223309e-03</td>\n",
       "      <td>7.641071e-04</td>\n",
       "      <td>4.502033e-04</td>\n",
       "      <td>2.363470e-04</td>\n",
       "      <td>3.378791e+05</td>\n",
       "      <td>1.316501e-03</td>\n",
       "      <td>8.287925e+05</td>\n",
       "      <td>3.581995e-03</td>\n",
       "      <td>6.536252e-04</td>\n",
       "      <td>5.277129e-04</td>\n",
       "    </tr>\n",
       "    <tr>\n",
       "      <th>75%</th>\n",
       "      <td>3.610307e+00</td>\n",
       "      <td>1.054712e+00</td>\n",
       "      <td>1.044422e+00</td>\n",
       "      <td>7.359735e+10</td>\n",
       "      <td>1.119962e+08</td>\n",
       "      <td>2.496243e-01</td>\n",
       "      <td>1.009233e+00</td>\n",
       "      <td>3.249175e+04</td>\n",
       "      <td>4.037457e+01</td>\n",
       "      <td>2.496243e+09</td>\n",
       "      <td>...</td>\n",
       "      <td>3.678409e-03</td>\n",
       "      <td>2.340999e-03</td>\n",
       "      <td>1.410486e-03</td>\n",
       "      <td>7.628284e-04</td>\n",
       "      <td>1.530489e+06</td>\n",
       "      <td>6.468762e-03</td>\n",
       "      <td>3.025991e+06</td>\n",
       "      <td>1.456303e-02</td>\n",
       "      <td>2.065889e-03</td>\n",
       "      <td>1.737407e-03</td>\n",
       "    </tr>\n",
       "    <tr>\n",
       "      <th>max</th>\n",
       "      <td>9.993294e+00</td>\n",
       "      <td>1.400000e+00</td>\n",
       "      <td>1.400000e+00</td>\n",
       "      <td>4.190855e+14</td>\n",
       "      <td>3.997949e+11</td>\n",
       "      <td>9.999269e+02</td>\n",
       "      <td>5.714846e+01</td>\n",
       "      <td>1.060595e+05</td>\n",
       "      <td>3.923683e+02</td>\n",
       "      <td>9.999269e+12</td>\n",
       "      <td>...</td>\n",
       "      <td>8.019424e+01</td>\n",
       "      <td>5.039512e+01</td>\n",
       "      <td>3.719604e+01</td>\n",
       "      <td>3.719604e+01</td>\n",
       "      <td>2.006014e+11</td>\n",
       "      <td>3.538015e+03</td>\n",
       "      <td>3.033352e+10</td>\n",
       "      <td>1.494375e+03</td>\n",
       "      <td>7.493182e+01</td>\n",
       "      <td>5.979519e+01</td>\n",
       "    </tr>\n",
       "  </tbody>\n",
       "</table>\n",
       "<p>8 rows × 45 columns</p>\n",
       "</div>"
      ],
      "text/plain": [
       "           redshift            ra           dec         Mhalo         Mstar  \\\n",
       "count  5.584998e+06  5.584998e+06  5.584998e+06  5.584998e+06  5.584998e+06   \n",
       "mean   2.734982e+00  7.039533e-01  6.972193e-01  1.064088e+11  9.092136e+08   \n",
       "std    1.484305e+00  4.041831e-01  4.038262e-01  7.740619e+11  7.074330e+09   \n",
       "min    2.546800e-02  0.000000e+00  0.000000e+00  7.618732e+07  1.000001e+07   \n",
       "25%    1.510977e+00  3.536190e-01  3.476190e-01  2.057080e+10  1.645674e+07   \n",
       "50%    2.750341e+00  7.054865e-01  6.967940e-01  3.748378e+10  3.332762e+07   \n",
       "75%    3.610307e+00  1.054712e+00  1.044422e+00  7.359735e+10  1.119962e+08   \n",
       "max    9.993294e+00  1.400000e+00  1.400000e+00  4.190855e+14  3.997949e+11   \n",
       "\n",
       "                SFR            mu          Dlum         Umean           LIR  \\\n",
       "count  5.584998e+06  5.584998e+06  5.584998e+06  5.584998e+06  5.584998e+06   \n",
       "mean   1.372681e+00  9.540521e-01  2.400558e+04  2.971599e+01  1.372681e+10   \n",
       "std    1.246749e+01  2.571228e-01  1.522744e+04  2.375179e+01  1.246749e+11   \n",
       "min    0.000000e+00  1.093528e-01  1.148970e+02  7.369455e-01  0.000000e+00   \n",
       "25%    2.566594e-02  8.841814e-01  1.129854e+04  1.213790e+01  2.566594e+08   \n",
       "50%    7.083349e-02  9.621357e-01  2.345478e+04  2.317521e+01  7.083349e+08   \n",
       "75%    2.496243e-01  1.009233e+00  3.249175e+04  4.037457e+01  2.496243e+09   \n",
       "max    9.999269e+02  5.714846e+01  1.060595e+05  3.923683e+02  9.999269e+12   \n",
       "\n",
       "       ...         ICO54         ICO65         ICO76         ICO87  \\\n",
       "count  ...  5.584998e+06  5.584998e+06  5.584998e+06  5.584998e+06   \n",
       "mean   ...  1.177584e-02  7.891975e-03  5.098844e-03  3.182408e-03   \n",
       "std    ...  1.015527e-01  7.686822e-02  5.980459e-02  5.120688e-02   \n",
       "min    ...  0.000000e+00  0.000000e+00  0.000000e+00  0.000000e+00   \n",
       "25%    ...  5.019205e-04  3.101368e-04  1.810549e-04  9.432232e-05   \n",
       "50%    ...  1.223309e-03  7.641071e-04  4.502033e-04  2.363470e-04   \n",
       "75%    ...  3.678409e-03  2.340999e-03  1.410486e-03  7.628284e-04   \n",
       "max    ...  8.019424e+01  5.039512e+01  3.719604e+01  3.719604e+01   \n",
       "\n",
       "       LCII_Lagache  ICII_Lagache  LCII_de_Looze  ICII_de_Looze         ICI10  \\\n",
       "count  5.584998e+06  5.584998e+06   5.584998e+06   5.584998e+06  5.584998e+06   \n",
       "mean   2.844697e+07  2.742033e-01   1.747779e+07   1.278091e-01  6.853084e-03   \n",
       "std    4.619592e+08  6.037699e+00   1.759584e+08   1.739894e+00  6.901437e-02   \n",
       "min    0.000000e+00  0.000000e+00   0.000000e+00   0.000000e+00  0.000000e+00   \n",
       "25%    9.055122e+04  4.041218e-04   2.805908e+05   1.195736e-03  2.477126e-04   \n",
       "50%    3.378791e+05  1.316501e-03   8.287925e+05   3.581995e-03  6.536252e-04   \n",
       "75%    1.530489e+06  6.468762e-03   3.025991e+06   1.456303e-02  2.065889e-03   \n",
       "max    2.006014e+11  3.538015e+03   3.033352e+10   1.494375e+03  7.493182e+01   \n",
       "\n",
       "              ICI21  \n",
       "count  5.584998e+06  \n",
       "mean   6.157696e-03  \n",
       "std    7.367227e-02  \n",
       "min    0.000000e+00  \n",
       "25%    1.874166e-04  \n",
       "50%    5.277129e-04  \n",
       "75%    1.737407e-03  \n",
       "max    5.979519e+01  \n",
       "\n",
       "[8 rows x 45 columns]"
      ]
     },
     "execution_count": 5,
     "metadata": {},
     "output_type": "execute_result"
    }
   ],
   "source": [
    "cat.to_pandas().describe()"
   ]
  },
  {
   "cell_type": "markdown",
   "metadata": {},
   "source": [
    "We compare the distribution at the two redshifts where we are estimating the number of counts"
   ]
  },
  {
   "cell_type": "code",
   "execution_count": 6,
   "metadata": {
    "ExecuteTime": {
     "end_time": "2022-06-05T16:50:26.814019Z",
     "start_time": "2022-06-05T16:50:25.388736Z"
    }
   },
   "outputs": [
    {
     "data": {
      "text/plain": [
       "(0.1, 4000000.0)"
      ]
     },
     "execution_count": 6,
     "metadata": {},
     "output_type": "execute_result"
    },
    {
     "data": {
      "image/png": "[encoded data removed]",
      "text/plain": [
       "<Figure size 432x288 with 1 Axes>"
      ]
     },
     "metadata": {
      "needs_background": "light"
     },
     "output_type": "display_data"
    }
   ],
   "source": [
    "z1 = np.logical_and.reduce([cat['redshift'] >= 1.3, cat['redshift'] <= 1.4,\n",
    "                            cat['SFR'] > 0])\n",
    "z2 = np.logical_and.reduce([cat['redshift'] >= 0.29, cat['redshift'] <= 0.32,\n",
    "                            cat['SFR'] > 0])\n",
    "\n",
    "plt.hist(np.log10(cat['SFR'][cat['SFR'] > 0]))\n",
    "plt.hist(np.log10(cat['SFR'][z1]), histtype='step')\n",
    "plt.hist(np.log10(cat['SFR'][z2]), histtype='step')\n",
    "plt.yscale('log')\n",
    "plt.ylim(1e-1, 4e6)"
   ]
  },
  {
   "cell_type": "markdown",
   "metadata": {
    "ExecuteTime": {
     "end_time": "2022-05-20T09:53:55.346541Z",
     "start_time": "2022-05-20T09:53:55.336490Z"
    }
   },
   "source": [
    "## Estimate luminosities with MLP\n",
    "We calculate the log(1+z) and log(SFR) from the SIDES catalog. With this we can estimate the expected line luminosity for the galaxies in the catalog."
   ]
  },
  {
   "cell_type": "code",
   "execution_count": 7,
   "metadata": {
    "ExecuteTime": {
     "end_time": "2022-06-05T16:50:30.905951Z",
     "start_time": "2022-06-05T16:50:26.835065Z"
    }
   },
   "outputs": [
    {
     "name": "stderr",
     "output_type": "stream",
     "text": [
      "<ipython-input-7-779a9b2b6742>:2: RuntimeWarning: divide by zero encountered in log10\n",
      "  logsfr = np.log10(cat['SFR'])\n",
      "<ipython-input-7-779a9b2b6742>:6: RuntimeWarning: invalid value encountered in add\n",
      "  cat['L'+line] = (estimated_linreg['Intercept'][row] +\n",
      "<ipython-input-7-779a9b2b6742>:12: RuntimeWarning: invalid value encountered in add\n",
      "  cat['LHII'+line] = (estimated_linreg_HII['Intercept'][row] +\n",
      "<ipython-input-7-779a9b2b6742>:19: RuntimeWarning: invalid value encountered in add\n",
      "  cat['LMLP'+line] = (estimated_MLPreg['Intercept'][row] +\n"
     ]
    }
   ],
   "source": [
    "logz = np.log10(1 + cat['redshift'])\n",
    "logsfr = np.log10(cat['SFR'])\n",
    "\n",
    "for line in linreg_lines:\n",
    "    row = np.where(estimated_linreg['line'] == linreg_lines[line])[0]\n",
    "    cat['L'+line] = (estimated_linreg['Intercept'][row] +\n",
    "                     estimated_linreg['cSFR'][row]*logsfr +\n",
    "                     estimated_linreg['clogz'][row]*logz +\n",
    "                     estimated_linreg['cSFRlogz'][row]*logz*logsfr)\n",
    "for line in linreg_lines:\n",
    "    row = np.where(estimated_linreg_HII['line'] == linreg_lines[line])[0]\n",
    "    cat['LHII'+line] = (estimated_linreg_HII['Intercept'][row] +\n",
    "                        estimated_linreg_HII['cSFR'][row]*logsfr +\n",
    "                        estimated_linreg_HII['clogz'][row]*logz +\n",
    "                        estimated_linreg_HII['cSFRlogz'][row]*logz*logsfr)\n",
    "\n",
    "for line in linreg_lines:\n",
    "    row = np.where(estimated_MLPreg['line'] == linreg_lines[line])[0]\n",
    "    cat['LMLP'+line] = (estimated_MLPreg['Intercept'][row] +\n",
    "                        estimated_MLPreg['cSFR'][row]*logsfr +\n",
    "                        estimated_MLPreg['cSFR2'][row]*logsfr*logsfr +\n",
    "                        estimated_MLPreg['clogz'][row]*logz +\n",
    "                        estimated_MLPreg['cSFRlogz'][row]*logz*logsfr)"
   ]
  },
  {
   "cell_type": "markdown",
   "metadata": {},
   "source": [
    "## Comparison plots\n",
    "Different plots to show the results and the comparison between other estimates"
   ]
  },
  {
   "cell_type": "code",
   "execution_count": 8,
   "metadata": {
    "ExecuteTime": {
     "end_time": "2022-06-05T16:50:38.191547Z",
     "start_time": "2022-06-05T16:50:30.923867Z"
    }
   },
   "outputs": [
    {
     "data": {
      "text/plain": [
       "Text(0, 0.5, '$\\\\log$(Luminosity [C II] [L$_\\\\odot$])')"
      ]
     },
     "execution_count": 8,
     "metadata": {},
     "output_type": "execute_result"
    },
    {
     "data": {
      "image/png": "[encoded data removed]",
      "text/plain": [
       "<Figure size 432x288 with 1 Axes>"
      ]
     },
     "metadata": {
      "needs_background": "light"
     },
     "output_type": "display_data"
    }
   ],
   "source": [
    "plt.scatter(cat['LCII_Lagache'], cat['LCII_de_Looze'], alpha=0.05)\n",
    "plt.plot([1e3, 1e11], [1e3, 1e11], c='k')\n",
    "plt.loglog()\n",
    "plt.xlabel(r'$\\log$(Luminosity [C II] [L$_\\odot$])')\n",
    "plt.ylabel(r'$\\log$(Luminosity [C II] [L$_\\odot$])')"
   ]
  },
  {
   "cell_type": "code",
   "execution_count": 9,
   "metadata": {
    "ExecuteTime": {
     "end_time": "2022-06-05T16:50:44.994863Z",
     "start_time": "2022-06-05T16:50:38.208707Z"
    }
   },
   "outputs": [
    {
     "data": {
      "text/plain": [
       "Text(0, 0.5, '$\\\\log$(Luminosity [C II] [L$_\\\\odot$])')"
      ]
     },
     "execution_count": 9,
     "metadata": {},
     "output_type": "execute_result"
    },
    {
     "data": {
      "image/png": "[encoded data removed]",
      "text/plain": [
       "<Figure size 432x288 with 1 Axes>"
      ]
     },
     "metadata": {
      "needs_background": "light"
     },
     "output_type": "display_data"
    }
   ],
   "source": [
    "plt.scatter(cat['LCII_Lagache'], cat['LCII158'], alpha=0.05)\n",
    "plt.plot([1e3, 1e11], [3, 11], c='k')\n",
    "plt.xscale('log')\n",
    "plt.xlabel(r'$\\log$(Luminosity [C II] [L$_\\odot$])')\n",
    "plt.ylabel(r'$\\log$(Luminosity [C II] [L$_\\odot$])')"
   ]
  },
  {
   "cell_type": "code",
   "execution_count": 10,
   "metadata": {
    "ExecuteTime": {
     "end_time": "2022-06-05T16:50:51.780775Z",
     "start_time": "2022-06-05T16:50:45.012242Z"
    }
   },
   "outputs": [
    {
     "data": {
      "text/plain": [
       "Text(0, 0.5, '$\\\\log$(Luminosity [C II] [L$_\\\\odot$])')"
      ]
     },
     "execution_count": 10,
     "metadata": {},
     "output_type": "execute_result"
    },
    {
     "data": {
      "image/png": "[encoded data removed]",
      "text/plain": [
       "<Figure size 432x288 with 1 Axes>"
      ]
     },
     "metadata": {
      "needs_background": "light"
     },
     "output_type": "display_data"
    }
   ],
   "source": [
    "plt.scatter(cat['LCII_Lagache'], cat['LMLPCII158'], alpha=0.05)\n",
    "plt.plot([1e3, 1e11], [3, 11], c='k')\n",
    "plt.xscale('log')\n",
    "plt.xlabel(r'$\\log$(Luminosity [C II] [L$_\\odot$])')\n",
    "plt.ylabel(r'$\\log$(Luminosity [C II] [L$_\\odot$])')"
   ]
  },
  {
   "cell_type": "code",
   "execution_count": 11,
   "metadata": {
    "ExecuteTime": {
     "end_time": "2022-06-05T16:50:58.588837Z",
     "start_time": "2022-06-05T16:50:51.798050Z"
    }
   },
   "outputs": [
    {
     "data": {
      "text/plain": [
       "Text(0, 0.5, '$\\\\log$(Luminosity [C II] [L$_\\\\odot$])')"
      ]
     },
     "execution_count": 11,
     "metadata": {},
     "output_type": "execute_result"
    },
    {
     "data": {
      "image/png": "[encoded data removed]",
      "text/plain": [
       "<Figure size 432x288 with 1 Axes>"
      ]
     },
     "metadata": {
      "needs_background": "light"
     },
     "output_type": "display_data"
    }
   ],
   "source": [
    "plt.scatter(cat['LCII_Lagache'], cat['LHIICII158'], alpha=0.05)\n",
    "plt.plot([1e3, 1e11], [3, 11], c='k')\n",
    "plt.xscale('log')\n",
    "plt.xlabel(r'$\\log$(Luminosity [C II] [L$_\\odot$])')\n",
    "plt.ylabel(r'$\\log$(Luminosity [C II] [L$_\\odot$])')"
   ]
  },
  {
   "cell_type": "markdown",
   "metadata": {},
   "source": [
    "Finally, we compare the luminosity of [C II] that we get from the catalogue"
   ]
  },
  {
   "cell_type": "code",
   "execution_count": 12,
   "metadata": {
    "ExecuteTime": {
     "end_time": "2022-06-05T16:51:01.197965Z",
     "start_time": "2022-06-05T16:50:58.606458Z"
    }
   },
   "outputs": [
    {
     "name": "stderr",
     "output_type": "stream",
     "text": [
      "<ipython-input-12-8f5cc801f2f8>:15: RuntimeWarning: divide by zero encountered in log10\n",
      "  plt.hist(np.log10(cat['LCII_de_Looze']), bins=binned_lum,\n",
      "<ipython-input-12-8f5cc801f2f8>:17: RuntimeWarning: divide by zero encountered in log10\n",
      "  plt.hist(np.log10(cat['LCII_Lagache']), bins=binned_lum,\n"
     ]
    },
    {
     "data": {
      "image/png": "[encoded data removed]",
      "text/plain": [
       "<Figure size 512.64x360 with 1 Axes>"
      ]
     },
     "metadata": {
      "needs_background": "light"
     },
     "output_type": "display_data"
    }
   ],
   "source": [
    "binned_lum = np.linspace(3, 12, 91)\n",
    "with plt.style.context(('seaborn-paper')):\n",
    "    plt.rcParams.update({'font.size': 12})\n",
    "    plt.rcParams.update({'axes.labelsize': 12})\n",
    "    plt.rcParams.update({'legend.fontsize': 10})\n",
    "    plt.rcParams.update({'ytick.labelsize': 10})\n",
    "    plt.rcParams.update({'xtick.labelsize': 10})\n",
    "    plt.figure(figsize=(3.56*2, 5))\n",
    "    plt.hist((cat['LMLPCII158']), bins=binned_lum,\n",
    "             label='MLP in DiagISM')\n",
    "    plt.hist((cat['LCII158']), bins=binned_lum,\n",
    "             histtype='step', lw=2, label='Lin. reg. Paper II')\n",
    "#     plt.hist((cat['LHIICII158']), bins=binned_lum,\n",
    "#              histtype='step', lw=2, label='Lin. reg. HII regions')\n",
    "    plt.hist(np.log10(cat['LCII_de_Looze']), bins=binned_lum,\n",
    "             histtype='step', lw=2, label='De Looze+14')\n",
    "    plt.hist(np.log10(cat['LCII_Lagache']), bins=binned_lum,\n",
    "             histtype='step', lw=2, label='Lagache+18')\n",
    "    # plt.yscale('log')\n",
    "    plt.legend(loc='lower center')\n",
    "    plt.xlabel(r'$\\log$(Luminosity [C II] [L$_\\odot$])')\n",
    "    plt.ylabel('Number of gal. in SIDES')\n",
    "    plt.xlim(4, 11)\n",
    "    plt.ticklabel_format(axis=\"y\", style=\"scientific\", scilimits=(0, 0))\n",
    "    plt.yscale('log')\n",
    "    plt.savefig('../figures/Comparison_LCII.pdf',\n",
    "                dpi=300, bbox_inches='tight')  # For Paper"
   ]
  },
  {
   "cell_type": "markdown",
   "metadata": {},
   "source": [
    "We also plot another estimations"
   ]
  },
  {
   "cell_type": "code",
   "execution_count": 13,
   "metadata": {
    "ExecuteTime": {
     "end_time": "2022-06-05T16:51:01.549096Z",
     "start_time": "2022-06-05T16:51:01.216800Z"
    }
   },
   "outputs": [
    {
     "data": {
      "image/png": "[encoded data removed]",
      "text/plain": [
       "<Figure size 432x288 with 1 Axes>"
      ]
     },
     "metadata": {
      "needs_background": "light"
     },
     "output_type": "display_data"
    }
   ],
   "source": [
    "plt.hist((cat['LMLPCII158'][z2]), bins=binned_lum,\n",
    "         label='MLP in DiagISM', cumulative=-1,)\n",
    "plt.hist((cat['LCII158'][z2]), bins=binned_lum,\n",
    "         histtype='step', lw=2, label='Lin. reg. all phases', cumulative=-1,)\n",
    "# plt.hist((cat['LHIICII158'][z2]), bins=binned_lum,\n",
    "#          histtype='step', lw=2, label='Lin. reg. HII regions', cumulative=-1,)\n",
    "plt.hist(np.log10(cat['LCII_de_Looze'][z2]), bins=binned_lum,\n",
    "         histtype='step', lw=2, label='De Looze+14', cumulative=-1,)\n",
    "plt.hist(np.log10(cat['LCII_Lagache'][z2]), bins=binned_lum,\n",
    "         histtype='step', lw=2, label='Lagache+18', cumulative=-1,)\n",
    "plt.yscale('log')\n",
    "plt.xlabel(r'$\\log$(Luminosity [C II] [L$_\\odot$])')\n",
    "plt.ylabel('Number of gal. in SIDES')"
   ]
  },
  {
   "cell_type": "code",
   "execution_count": 14,
   "metadata": {
    "ExecuteTime": {
     "end_time": "2022-06-05T16:51:02.016233Z",
     "start_time": "2022-06-05T16:51:01.567816Z"
    }
   },
   "outputs": [
    {
     "data": {
      "image/png": "[encoded data removed]",
      "text/plain": [
       "<Figure size 432x288 with 1 Axes>"
      ]
     },
     "metadata": {
      "needs_background": "light"
     },
     "output_type": "display_data"
    }
   ],
   "source": [
    "plt.hist((cat['LMLPCII158'][z1]), bins=binned_lum,\n",
    "         label='MLP in DiagISM', cumulative=-1,)\n",
    "plt.hist((cat['LCII158'][z1]), bins=binned_lum,\n",
    "         histtype='step', lw=2, label='Lin. reg. all phases', cumulative=-1,)\n",
    "# plt.hist((cat['LHIICII158'][z1]), bins=binned_lum,\n",
    "#          histtype='step', lw=2, label='Lin. reg. HII regions', cumulative=-1,)\n",
    "plt.hist(np.log10(cat['LCII_de_Looze'][z1]), bins=binned_lum,\n",
    "         histtype='step', lw=2, label='De Looze+14', cumulative=-1,)\n",
    "plt.hist(np.log10(cat['LCII_Lagache'][z1]), bins=binned_lum,\n",
    "         histtype='step', lw=2, label='Lagache+18', cumulative=-1,)\n",
    "plt.yscale('log')\n",
    "plt.xlabel(r'$\\log$(Luminosity [C II] [L$_\\odot$])')\n",
    "plt.ylabel('Number of gal. in SIDES')"
   ]
  },
  {
   "cell_type": "markdown",
   "metadata": {},
   "source": [
    "##### Notebook info"
   ]
  },
  {
   "cell_type": "code",
   "execution_count": 15,
   "metadata": {
    "ExecuteTime": {
     "end_time": "2022-06-05T16:51:02.122421Z",
     "start_time": "2022-06-05T16:51:02.035200Z"
    }
   },
   "outputs": [
    {
     "name": "stdout",
     "output_type": "stream",
     "text": [
      "Author: Andres Ramos\n",
      "\n",
      "Python implementation: CPython\n",
      "Python version       : 3.8.3\n",
      "IPython version      : 7.16.1\n",
      "\n",
      "Compiler    : GCC 7.3.0\n",
      "OS          : Linux\n",
      "Release     : 3.10.0-1160.59.1.el7.x86_64\n",
      "Machine     : x86_64\n",
      "Processor   : x86_64\n",
      "CPU cores   : 8\n",
      "Architecture: 64bit\n",
      "\n",
      "Specific Python packages\n",
      "matplotlib: 3.4.3\n",
      "numpy     : 1.22.1\n",
      "json      : 2.0.9\n",
      "autopep8  : 1.5.7\n",
      "\n",
      "Watermark: 2.2.0\n",
      "\n"
     ]
    }
   ],
   "source": [
    "%load_ext watermark\n",
    "%watermark -a \"Andres Ramos\" -d -v -m\n",
    "print('Specific Python packages')\n",
    "%watermark -iv -w "
   ]
  },
  {
   "cell_type": "code",
   "execution_count": null,
   "metadata": {},
   "outputs": [],
   "source": []
  }
 ],
 "metadata": {
  "hide_input": false,
  "kernelspec": {
   "display_name": "Python 3",
   "language": "python",
   "name": "python3"
  },
  "language_info": {
   "codemirror_mode": {
    "name": "ipython",
    "version": 3
   },
   "file_extension": ".py",
   "mimetype": "text/x-python",
   "name": "python",
   "nbconvert_exporter": "python",
   "pygments_lexer": "ipython3",
   "version": "3.8.3"
  },
  "toc": {
   "base_numbering": "7",
   "nav_menu": {},
   "number_sections": true,
   "sideBar": true,
   "skip_h1_title": false,
   "title_cell": "Table of Contents",
   "title_sidebar": "Contents",
   "toc_cell": false,
   "toc_position": {
    "height": "calc(100% - 180px)",
    "left": "10px",
    "top": "150px",
    "width": "384px"
   },
   "toc_section_display": true,
   "toc_window_display": true
  },
  "varInspector": {
   "cols": {
    "lenName": 16,
    "lenType": 16,
    "lenVar": 40
   },
   "kernels_config": {
    "python": {
     "delete_cmd_postfix": "",
     "delete_cmd_prefix": "del ",
     "library": "var_list.py",
     "varRefreshCmd": "print(var_dic_list())"
    },
    "r": {
     "delete_cmd_postfix": ") ",
     "delete_cmd_prefix": "rm(",
     "library": "var_list.r",
     "varRefreshCmd": "cat(var_dic_list()) "
    }
   },
   "types_to_exclude": [
    "module",
    "function",
    "builtin_function_or_method",
    "instance",
    "_Feature"
   ],
   "window_display": false
  }
 },
 "nbformat": 4,
 "nbformat_minor": 4
}
