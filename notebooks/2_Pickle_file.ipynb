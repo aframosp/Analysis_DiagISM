{
 "cells": [
  {
   "cell_type": "markdown",
   "metadata": {},
   "source": [
    "# Create pickle file for the pre-trained model\n",
    "In this notebook we train the model for DiagISM and save the results of it in a pickle file for easy access later on. First, we import the Python packages."
   ]
  },
  {
   "cell_type": "code",
   "execution_count": 1,
   "metadata": {
    "ExecuteTime": {
     "end_time": "2022-05-12T07:37:19.604312Z",
     "start_time": "2022-05-12T07:37:18.400823Z"
    }
   },
   "outputs": [],
   "source": [
    "import pickle\n",
    "from ast import literal_eval\n",
    "\n",
    "import numpy as np\n",
    "\n",
    "from astropy.table import Table\n",
    "\n",
    "from sklearn import preprocessing\n",
    "from sklearn.neural_network import MLPRegressor"
   ]
  },
  {
   "cell_type": "markdown",
   "metadata": {},
   "source": [
    "## Read data\n",
    "We read the luminosity data from the simulations and the preferred hyperparameters"
   ]
  },
  {
   "cell_type": "code",
   "execution_count": 2,
   "metadata": {
    "ExecuteTime": {
     "end_time": "2022-05-11T13:31:28.318009Z",
     "start_time": "2022-05-11T13:31:28.174661Z"
    }
   },
   "outputs": [],
   "source": [
    "dataset = Table.read('../data/raw/complete_dataset.fits', format='fits')\n",
    "dataset['log(1+z)'] = np.log10(dataset['z']+1)\n",
    "\n",
    "hyp_tab = Table.read('../data/interim/Hyperparameters_table.csv',\n",
    "                     format='ascii.csv')"
   ]
  },
  {
   "cell_type": "markdown",
   "metadata": {},
   "source": [
    "We arrange and define which parameters are we going to use"
   ]
  },
  {
   "cell_type": "code",
   "execution_count": 3,
   "metadata": {
    "ExecuteTime": {
     "end_time": "2022-05-11T13:31:28.321029Z",
     "start_time": "2022-05-11T13:31:28.319106Z"
    }
   },
   "outputs": [],
   "source": [
    "col_analt = dataset.colnames[3:-15:5]\n",
    "col_analt.append('log(1+z)')"
   ]
  },
  {
   "cell_type": "code",
   "execution_count": 4,
   "metadata": {
    "ExecuteTime": {
     "end_time": "2022-05-11T13:31:28.332560Z",
     "start_time": "2022-05-11T13:31:28.322075Z"
    }
   },
   "outputs": [],
   "source": [
    "list_parameters = ['SFR', 'ISRF', 'ZGal', 'Pressure', 'n$(\\\\mathrm{H})_{\\\\mathrm{cloud}}$',\n",
    "                   'R$_{\\\\mathrm{cloud}}$', 'M$_{\\\\mathrm{\\\\ast}}$', 'M$_{\\\\mathrm{gas}}$']"
   ]
  },
  {
   "cell_type": "markdown",
   "metadata": {},
   "source": [
    "## Train models\n",
    "For this model we train the regressor for each parameter and store that information in a single file"
   ]
  },
  {
   "cell_type": "code",
   "execution_count": 5,
   "metadata": {
    "ExecuteTime": {
     "end_time": "2022-05-11T13:32:58.557256Z",
     "start_time": "2022-05-11T13:31:28.334867Z"
    }
   },
   "outputs": [
    {
     "name": "stdout",
     "output_type": "stream",
     "text": [
      "SFR added\n",
      "ISRF added\n",
      "ZGal added\n",
      "Pressure added\n",
      "n$(\\mathrm{H})_{\\mathrm{cloud}}$ added\n",
      "R$_{\\mathrm{cloud}}$ added\n",
      "M$_{\\mathrm{\\ast}}$ added\n",
      "M$_{\\mathrm{gas}}$ added\n"
     ]
    }
   ],
   "source": [
    "all_trained = []\n",
    "for par in list_parameters:\n",
    "    x_df = dataset[col_analt].to_pandas()\n",
    "    y_df = dataset.to_pandas()[par].values.reshape(-1, 1)\n",
    "\n",
    "    scalerx = preprocessing.RobustScaler()\n",
    "    scalery = preprocessing.RobustScaler()\n",
    "    x_scale = scalerx.fit_transform(x_df)\n",
    "    y_scale = scalery.fit_transform(y_df)\n",
    "    loc_hyp = np.where(hyp_tab['Parameter'] == par)\n",
    "    regr_mlp = MLPRegressor(random_state=42, verbose=False,\n",
    "                            hidden_layer_sizes=literal_eval(\n",
    "                                hyp_tab[loc_hyp]['hidden_layer_sizes'][0]),\n",
    "                            activation=hyp_tab[loc_hyp]['activation'][0],\n",
    "                            solver='adam',\n",
    "                            alpha=hyp_tab[loc_hyp]['alpha'][0],\n",
    "                            batch_size=hyp_tab[loc_hyp]['batch_size'][0],\n",
    "                            learning_rate_init=hyp_tab[loc_hyp]['learning_rate_init'][0],\n",
    "                            max_iter=hyp_tab[loc_hyp]['max_iter'][0])\n",
    "    regr_mlp.fit(x_scale, y_scale.ravel())\n",
    "    all_trained.append(regr_mlp)\n",
    "    print(par, 'added')"
   ]
  },
  {
   "cell_type": "markdown",
   "metadata": {},
   "source": [
    "We verify the hyperparameters"
   ]
  },
  {
   "cell_type": "code",
   "execution_count": 6,
   "metadata": {
    "ExecuteTime": {
     "end_time": "2022-05-11T13:32:58.585053Z",
     "start_time": "2022-05-11T13:32:58.559070Z"
    }
   },
   "outputs": [
    {
     "data": {
      "text/plain": [
       "[MLPRegressor(alpha=0.0002, batch_size=195, hidden_layer_sizes=(100, 83, 77),\n",
       "              learning_rate_init=0.002, max_iter=500, random_state=42),\n",
       " MLPRegressor(alpha=0.0003, batch_size=154, hidden_layer_sizes=(91, 48, 56),\n",
       "              learning_rate_init=0.003, max_iter=319, random_state=42),\n",
       " MLPRegressor(alpha=0.0002, batch_size=105, hidden_layer_sizes=(25, 68, 44),\n",
       "              learning_rate_init=0.006, max_iter=357, random_state=42),\n",
       " MLPRegressor(activation='tanh', alpha=0.0005, batch_size=228,\n",
       "              hidden_layer_sizes=(31, 58, 86), learning_rate_init=0.005,\n",
       "              max_iter=267, random_state=42),\n",
       " MLPRegressor(alpha=0.0006, batch_size=151, hidden_layer_sizes=(38, 54, 51),\n",
       "              learning_rate_init=0.009, max_iter=245, random_state=42),\n",
       " MLPRegressor(alpha=0.0006, batch_size=151, hidden_layer_sizes=(38, 54, 51),\n",
       "              learning_rate_init=0.009, max_iter=245, random_state=42),\n",
       " MLPRegressor(activation='tanh', alpha=0.0016, batch_size=45,\n",
       "              hidden_layer_sizes=(25, 22, 35), learning_rate_init=0.009,\n",
       "              max_iter=257, random_state=42),\n",
       " MLPRegressor(activation='tanh', alpha=0.0014, batch_size=242,\n",
       "              hidden_layer_sizes=(48, 34, 40), learning_rate_init=0.007,\n",
       "              max_iter=260, random_state=42)]"
      ]
     },
     "execution_count": 6,
     "metadata": {},
     "output_type": "execute_result"
    }
   ],
   "source": [
    "all_trained"
   ]
  },
  {
   "cell_type": "markdown",
   "metadata": {},
   "source": [
    "## Save file\n",
    "Finally, we save the file"
   ]
  },
  {
   "cell_type": "code",
   "execution_count": 8,
   "metadata": {
    "ExecuteTime": {
     "end_time": "2022-05-11T13:32:58.606390Z",
     "start_time": "2022-05-11T13:32:58.592854Z"
    }
   },
   "outputs": [],
   "source": [
    "pickle.dump(all_trained, open('../data/interim/AllLines_trained', 'wb'))"
   ]
  },
  {
   "cell_type": "markdown",
   "metadata": {},
   "source": [
    "##### Notebook information"
   ]
  },
  {
   "cell_type": "code",
   "execution_count": 11,
   "metadata": {
    "ExecuteTime": {
     "end_time": "2022-05-11T13:33:54.191786Z",
     "start_time": "2022-05-11T13:32:58.626602Z"
    }
   },
   "outputs": [
    {
     "name": "stdout",
     "output_type": "stream",
     "text": [
      "Author: Andres Ramos\n",
      "\n",
      "Python implementation: CPython\n",
      "Python version       : 3.8.3\n",
      "IPython version      : 7.16.1\n",
      "\n",
      "Compiler    : GCC 7.3.0\n",
      "OS          : Linux\n",
      "Release     : 3.10.0-1160.59.1.el7.x86_64\n",
      "Machine     : x86_64\n",
      "Processor   : x86_64\n",
      "CPU cores   : 8\n",
      "Architecture: 64bit\n",
      "\n",
      "Specific Python packages\n",
      "atom   : 4.10.0\n",
      "astropy: 5.0\n",
      "\n",
      "sklearn : 1.0.1\n",
      "numpy   : 1.22.1\n",
      "json    : 2.0.9\n",
      "autopep8: 1.5.7\n",
      "\n",
      "Watermark: 2.2.0\n",
      "\n"
     ]
    }
   ],
   "source": [
    "%load_ext watermark\n",
    "%watermark -a \"Andres Ramos\" -d -v -m\n",
    "print('Specific Python packages')\n",
    "%watermark -iv -w -p atom,astropy"
   ]
  },
  {
   "cell_type": "code",
   "execution_count": null,
   "metadata": {},
   "outputs": [],
   "source": []
  }
 ],
 "metadata": {
  "hide_input": false,
  "kernelspec": {
   "display_name": "Python 3",
   "language": "python",
   "name": "python3"
  },
  "language_info": {
   "codemirror_mode": {
    "name": "ipython",
    "version": 3
   },
   "file_extension": ".py",
   "mimetype": "text/x-python",
   "name": "python",
   "nbconvert_exporter": "python",
   "pygments_lexer": "ipython3",
   "version": "3.8.3"
  },
  "toc": {
   "base_numbering": "2",
   "nav_menu": {},
   "number_sections": true,
   "sideBar": true,
   "skip_h1_title": false,
   "title_cell": "Table of Contents",
   "title_sidebar": "Contents",
   "toc_cell": false,
   "toc_position": {
    "height": "calc(100% - 180px)",
    "left": "10px",
    "top": "150px",
    "width": "384px"
   },
   "toc_section_display": true,
   "toc_window_display": true
  },
  "varInspector": {
   "cols": {
    "lenName": 16,
    "lenType": 16,
    "lenVar": 40
   },
   "kernels_config": {
    "python": {
     "delete_cmd_postfix": "",
     "delete_cmd_prefix": "del ",
     "library": "var_list.py",
     "varRefreshCmd": "print(var_dic_list())"
    },
    "r": {
     "delete_cmd_postfix": ") ",
     "delete_cmd_prefix": "rm(",
     "library": "var_list.r",
     "varRefreshCmd": "cat(var_dic_list()) "
    }
   },
   "types_to_exclude": [
    "module",
    "function",
    "builtin_function_or_method",
    "instance",
    "_Feature"
   ],
   "window_display": false
  }
 },
 "nbformat": 4,
 "nbformat_minor": 4
}
