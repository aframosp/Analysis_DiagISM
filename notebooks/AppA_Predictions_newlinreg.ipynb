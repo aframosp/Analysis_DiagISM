{
 "cells": [
  {
   "cell_type": "markdown",
   "metadata": {},
   "source": [
    "# Create mock for DiagISM\n",
    "In this notebook we create a mock sample of galaxies to capture the behaviour of the DiagISM prediction in a simple polynomial fit. First, we import the Python packages."
   ]
  },
  {
   "cell_type": "code",
   "execution_count": 1,
   "metadata": {
    "ExecuteTime": {
     "end_time": "2022-06-17T14:36:02.468015Z",
     "start_time": "2022-06-17T14:35:55.489586Z"
    }
   },
   "outputs": [],
   "source": [
    "from ast import literal_eval\n",
    "\n",
    "import matplotlib.pyplot as plt\n",
    "import numpy as np\n",
    "\n",
    "import pandas as pd\n",
    "\n",
    "from astropy.table import Table\n",
    "\n",
    "from sklearn import preprocessing\n",
    "from sklearn.neural_network import MLPRegressor"
   ]
  },
  {
   "cell_type": "markdown",
   "metadata": {},
   "source": [
    "## Read the data\n",
    "We read the original dataset and estimate and organise the columns we want to use"
   ]
  },
  {
   "cell_type": "code",
   "execution_count": 2,
   "metadata": {
    "ExecuteTime": {
     "end_time": "2022-05-24T14:31:23.953720Z",
     "start_time": "2022-05-24T14:31:23.839877Z"
    }
   },
   "outputs": [],
   "source": [
    "dataset = Table.read('../data/raw/complete_dataset.fits', format='fits')"
   ]
  },
  {
   "cell_type": "code",
   "execution_count": 3,
   "metadata": {
    "ExecuteTime": {
     "end_time": "2022-05-24T14:31:23.957481Z",
     "start_time": "2022-05-24T14:31:23.954919Z"
    }
   },
   "outputs": [],
   "source": [
    "dataset['log(1+z)'] = np.log10(dataset['z']+1)"
   ]
  },
  {
   "cell_type": "code",
   "execution_count": 4,
   "metadata": {
    "ExecuteTime": {
     "end_time": "2022-05-24T14:31:23.965328Z",
     "start_time": "2022-05-24T14:31:23.958547Z"
    }
   },
   "outputs": [],
   "source": [
    "col_analt = dataset.colnames[3:-15:5]\n",
    "col_analt.append('log(1+z)')"
   ]
  },
  {
   "cell_type": "markdown",
   "metadata": {},
   "source": [
    "We focus on SFR, therefore we scale the luminosity columns and use the hyperparameters that we found for the MLP to train the model again"
   ]
  },
  {
   "cell_type": "code",
   "execution_count": 5,
   "metadata": {
    "ExecuteTime": {
     "end_time": "2022-05-24T14:31:23.984818Z",
     "start_time": "2022-05-24T14:31:23.966150Z"
    }
   },
   "outputs": [],
   "source": [
    "X = dataset[col_analt[:]].to_pandas()\n",
    "y = dataset.to_pandas()['SFR'].values.reshape(-1, 1)"
   ]
  },
  {
   "cell_type": "code",
   "execution_count": 6,
   "metadata": {
    "ExecuteTime": {
     "end_time": "2022-05-24T14:31:23.993133Z",
     "start_time": "2022-05-24T14:31:23.985695Z"
    }
   },
   "outputs": [],
   "source": [
    "scalerX = preprocessing.RobustScaler()\n",
    "scalery = preprocessing.RobustScaler()\n",
    "X_scale = scalerX.fit_transform(X)\n",
    "y_scale = scalery.fit_transform(y)"
   ]
  },
  {
   "cell_type": "code",
   "execution_count": 7,
   "metadata": {
    "ExecuteTime": {
     "end_time": "2022-05-24T14:31:24.003299Z",
     "start_time": "2022-05-24T14:31:23.994614Z"
    }
   },
   "outputs": [],
   "source": [
    "hyper_sfr = Table.read('../data/interim/Hyperparameters_table.csv',\n",
    "                       format='ascii')[0]"
   ]
  },
  {
   "cell_type": "code",
   "execution_count": 8,
   "metadata": {
    "ExecuteTime": {
     "end_time": "2022-05-24T14:31:34.838829Z",
     "start_time": "2022-05-24T14:31:24.004427Z"
    }
   },
   "outputs": [
    {
     "name": "stdout",
     "output_type": "stream",
     "text": [
      "Iteration 1, loss = 0.03913190\n",
      "Iteration 2, loss = 0.01962348\n",
      "Iteration 3, loss = 0.01719373\n",
      "Iteration 4, loss = 0.01574484\n",
      "Iteration 5, loss = 0.01468615\n",
      "Iteration 6, loss = 0.01390350\n",
      "Iteration 7, loss = 0.01369199\n",
      "Iteration 8, loss = 0.01412658\n",
      "Iteration 9, loss = 0.01372223\n",
      "Iteration 10, loss = 0.01369816\n",
      "Iteration 11, loss = 0.01299795\n",
      "Iteration 12, loss = 0.01268916\n",
      "Iteration 13, loss = 0.01290012\n",
      "Iteration 14, loss = 0.01275526\n",
      "Iteration 15, loss = 0.01251909\n",
      "Iteration 16, loss = 0.01226562\n",
      "Iteration 17, loss = 0.01225945\n",
      "Iteration 18, loss = 0.01217899\n",
      "Iteration 19, loss = 0.01258665\n",
      "Iteration 20, loss = 0.01202941\n",
      "Iteration 21, loss = 0.01172954\n",
      "Iteration 22, loss = 0.01202667\n",
      "Iteration 23, loss = 0.01197181\n",
      "Iteration 24, loss = 0.01170097\n",
      "Iteration 25, loss = 0.01204780\n",
      "Iteration 26, loss = 0.01260499\n",
      "Iteration 27, loss = 0.01157235\n",
      "Iteration 28, loss = 0.01152638\n",
      "Iteration 29, loss = 0.01167832\n",
      "Iteration 30, loss = 0.01132595\n",
      "Iteration 31, loss = 0.01122211\n",
      "Iteration 32, loss = 0.01151282\n",
      "Iteration 33, loss = 0.01150796\n",
      "Iteration 34, loss = 0.01141717\n",
      "Iteration 35, loss = 0.01144071\n",
      "Iteration 36, loss = 0.01138811\n",
      "Iteration 37, loss = 0.01150534\n",
      "Iteration 38, loss = 0.01098298\n",
      "Iteration 39, loss = 0.01099628\n",
      "Iteration 40, loss = 0.01219436\n",
      "Iteration 41, loss = 0.01105338\n",
      "Iteration 42, loss = 0.01077443\n",
      "Iteration 43, loss = 0.01077892\n",
      "Iteration 44, loss = 0.01099293\n",
      "Iteration 45, loss = 0.01130477\n",
      "Iteration 46, loss = 0.01109865\n",
      "Iteration 47, loss = 0.01109127\n",
      "Iteration 48, loss = 0.01076731\n",
      "Iteration 49, loss = 0.01051264\n",
      "Iteration 50, loss = 0.01121159\n",
      "Iteration 51, loss = 0.01059961\n",
      "Iteration 52, loss = 0.01127640\n",
      "Iteration 53, loss = 0.01085346\n",
      "Iteration 54, loss = 0.01053879\n",
      "Iteration 55, loss = 0.01064030\n",
      "Iteration 56, loss = 0.01040528\n",
      "Iteration 57, loss = 0.01058423\n",
      "Iteration 58, loss = 0.01042438\n",
      "Iteration 59, loss = 0.01037967\n",
      "Iteration 60, loss = 0.01027336\n",
      "Iteration 61, loss = 0.01057638\n",
      "Iteration 62, loss = 0.01045501\n",
      "Iteration 63, loss = 0.01025645\n",
      "Iteration 64, loss = 0.01049470\n",
      "Iteration 65, loss = 0.01064142\n",
      "Iteration 66, loss = 0.01008887\n",
      "Iteration 67, loss = 0.01020485\n",
      "Iteration 68, loss = 0.01063116\n",
      "Iteration 69, loss = 0.01034501\n",
      "Iteration 70, loss = 0.01029227\n",
      "Iteration 71, loss = 0.01051715\n",
      "Iteration 72, loss = 0.01000353\n",
      "Iteration 73, loss = 0.01023012\n",
      "Iteration 74, loss = 0.01072243\n",
      "Iteration 75, loss = 0.00985874\n",
      "Iteration 76, loss = 0.01037543\n",
      "Iteration 77, loss = 0.00989086\n",
      "Iteration 78, loss = 0.01076959\n",
      "Iteration 79, loss = 0.01036027\n",
      "Iteration 80, loss = 0.01019830\n",
      "Iteration 81, loss = 0.01020706\n",
      "Iteration 82, loss = 0.01008000\n",
      "Iteration 83, loss = 0.01011341\n",
      "Iteration 84, loss = 0.01037397\n",
      "Iteration 85, loss = 0.00957593\n",
      "Iteration 86, loss = 0.00968630\n",
      "Iteration 87, loss = 0.00966704\n",
      "Iteration 88, loss = 0.00994469\n",
      "Iteration 89, loss = 0.00956235\n",
      "Iteration 90, loss = 0.00968436\n",
      "Iteration 91, loss = 0.01017737\n",
      "Iteration 92, loss = 0.00993933\n",
      "Iteration 93, loss = 0.00976220\n",
      "Iteration 94, loss = 0.00991322\n",
      "Iteration 95, loss = 0.00953985\n",
      "Iteration 96, loss = 0.00987416\n",
      "Training loss did not improve more than tol=0.000100 for 10 consecutive epochs. Stopping.\n"
     ]
    },
    {
     "data": {
      "text/plain": [
       "MLPRegressor(alpha=0.0002, batch_size=195, hidden_layer_sizes=(100, 83, 77),\n",
       "             learning_rate_init=0.002, max_iter=500, random_state=42,\n",
       "             verbose=True)"
      ]
     },
     "execution_count": 8,
     "metadata": {},
     "output_type": "execute_result"
    }
   ],
   "source": [
    "regrMLP = MLPRegressor(random_state=42, verbose=True,\n",
    "                       hidden_layer_sizes=literal_eval(\n",
    "                           hyper_sfr['hidden_layer_sizes']),\n",
    "                       activation=hyper_sfr['activation'],\n",
    "                       solver='adam',\n",
    "                       alpha=hyper_sfr['alpha'],\n",
    "                       batch_size=hyper_sfr['batch_size'],\n",
    "                       learning_rate_init=hyper_sfr['learning_rate_init'],\n",
    "                       max_iter=hyper_sfr['max_iter'])\n",
    "regrMLP.fit(X_scale, y_scale.ravel())"
   ]
  },
  {
   "cell_type": "markdown",
   "metadata": {},
   "source": [
    "## Create mock catalog\n",
    "We create the mock catalog with one million galaxies. We assume that the luminosities are distributed between $10^2$ and $10^9$ solar luminosities"
   ]
  },
  {
   "cell_type": "code",
   "execution_count": 9,
   "metadata": {
    "ExecuteTime": {
     "end_time": "2022-05-24T14:31:34.842955Z",
     "start_time": "2022-05-24T14:31:34.840497Z"
    }
   },
   "outputs": [],
   "source": [
    "NROWS = int(1e6)"
   ]
  },
  {
   "cell_type": "code",
   "execution_count": 10,
   "metadata": {
    "ExecuteTime": {
     "end_time": "2022-05-24T14:31:35.716549Z",
     "start_time": "2022-05-24T14:31:34.844584Z"
    }
   },
   "outputs": [
    {
     "data": {
      "text/plain": [
       "Text(0.5, 0, 'Luminosities [Lsun]')"
      ]
     },
     "execution_count": 10,
     "metadata": {},
     "output_type": "execute_result"
    },
    {
     "data": {
      "image/png": "[encoded data removed]",
      "text/plain": [
       "<Figure size 432x288 with 1 Axes>"
      ]
     },
     "metadata": {
      "needs_background": "light"
     },
     "output_type": "display_data"
    }
   ],
   "source": [
    "Lmock = np.random.random(size=(NROWS, 9))*9 + 2\n",
    "plt.hist(Lmock)\n",
    "plt.ylabel('# galaxies')\n",
    "plt.xlabel('Luminosities [Lsun]')"
   ]
  },
  {
   "cell_type": "markdown",
   "metadata": {},
   "source": [
    "We assume that luminosities need to be related with the relative distance to the [C II] line luminosity. Therefore, we shift the luminosities according to their apparent luminosity difference."
   ]
  },
  {
   "cell_type": "code",
   "execution_count": 11,
   "metadata": {
    "ExecuteTime": {
     "end_time": "2022-05-24T14:31:35.731105Z",
     "start_time": "2022-05-24T14:31:35.717312Z"
    }
   },
   "outputs": [],
   "source": [
    "info = dataset[col_analt].to_pandas().describe(include='all')"
   ]
  },
  {
   "cell_type": "code",
   "execution_count": 12,
   "metadata": {
    "ExecuteTime": {
     "end_time": "2022-05-24T14:31:35.735151Z",
     "start_time": "2022-05-24T14:31:35.731857Z"
    }
   },
   "outputs": [
    {
     "data": {
      "text/plain": [
       "L$_{\\mathrm{OIII_{52}}}$    0.069576\n",
       "L$_{\\mathrm{NIII_{57}}}$    0.514572\n",
       "L$_{\\mathrm{OI_{63}}}$      0.171130\n",
       "L$_{\\mathrm{OIII_{88}}}$   -0.092554\n",
       "L$_{\\mathrm{NII_{122}}}$    1.390504\n",
       "L$_{\\mathrm{OI_{145}}}$     1.389859\n",
       "L$_{\\mathrm{CII}}$          0.000000\n",
       "L$_{\\mathrm{NII_{205}}}$    1.531745\n",
       "Name: mean, dtype: float64"
      ]
     },
     "execution_count": 12,
     "metadata": {},
     "output_type": "execute_result"
    }
   ],
   "source": [
    "info.loc['mean'][6] - info.loc['mean'][:-1]"
   ]
  },
  {
   "cell_type": "code",
   "execution_count": 13,
   "metadata": {
    "ExecuteTime": {
     "end_time": "2022-05-24T14:31:35.891841Z",
     "start_time": "2022-05-24T14:31:35.735936Z"
    }
   },
   "outputs": [
    {
     "name": "stdout",
     "output_type": "stream",
     "text": [
      "0\n",
      "1\n",
      "2\n",
      "3\n",
      "4\n",
      "5\n",
      "7\n"
     ]
    }
   ],
   "source": [
    "mock_z = np.log10(np.random.randint(7, size=NROWS)+1)\n",
    "Lmock[:, -1] = mock_z\n",
    "Lmock[:, 6] += (info.loc['mean'][6] - np.mean(Lmock[:, 6]))\n",
    "for col in range(8):\n",
    "    if col in [4, 5, 7]:\n",
    "        Lmock[:, col] = Lmock[:, 6] - 1.5 + \\\n",
    "            (2*np.random.random(size=NROWS) - 1)\n",
    "    elif col in [1]:\n",
    "        Lmock[:, col] = Lmock[:, 6] - 0.5 + \\\n",
    "            (2*np.random.random(size=NROWS) - 1)\n",
    "    elif col in [6]:\n",
    "        continue\n",
    "    else:\n",
    "        Lmock[:, col] = Lmock[:, 6] + (2*np.random.random(size=NROWS) - 1)\n",
    "    print(col)"
   ]
  },
  {
   "cell_type": "markdown",
   "metadata": {
    "ExecuteTime": {
     "end_time": "2022-05-24T13:46:02.814161Z",
     "start_time": "2022-05-24T13:46:02.811720Z"
    }
   },
   "source": [
    "We check the luminosity and redshift values again (The difference is that now we added the redshift column)"
   ]
  },
  {
   "cell_type": "code",
   "execution_count": 14,
   "metadata": {
    "ExecuteTime": {
     "end_time": "2022-05-24T14:31:36.614691Z",
     "start_time": "2022-05-24T14:31:35.892844Z"
    }
   },
   "outputs": [
    {
     "data": {
      "text/plain": [
       "Text(0.5, 0, 'Luminosities [Lsun]')"
      ]
     },
     "execution_count": 14,
     "metadata": {},
     "output_type": "execute_result"
    },
    {
     "data": {
      "image/png": "[encoded data removed]",
      "text/plain": [
       "<Figure size 432x288 with 1 Axes>"
      ]
     },
     "metadata": {
      "needs_background": "light"
     },
     "output_type": "display_data"
    }
   ],
   "source": [
    "plt.hist(Lmock)\n",
    "plt.ylabel('# galaxies')\n",
    "plt.xlabel('Luminosities [Lsun]')"
   ]
  },
  {
   "cell_type": "markdown",
   "metadata": {},
   "source": [
    "We rescale and predict the luminosities"
   ]
  },
  {
   "cell_type": "code",
   "execution_count": 15,
   "metadata": {
    "ExecuteTime": {
     "end_time": "2022-05-24T14:31:36.670084Z",
     "start_time": "2022-05-24T14:31:36.615536Z"
    }
   },
   "outputs": [
    {
     "name": "stderr",
     "output_type": "stream",
     "text": [
      "/Users/users/ramos/.local/lib/python3.8/site-packages/sklearn/base.py:445: UserWarning: X does not have valid feature names, but RobustScaler was fitted with feature names\n",
      "  warnings.warn(\n"
     ]
    }
   ],
   "source": [
    "Xmock_scaled = scalerX.transform(Lmock)"
   ]
  },
  {
   "cell_type": "code",
   "execution_count": 16,
   "metadata": {
    "ExecuteTime": {
     "end_time": "2022-05-24T14:31:39.410909Z",
     "start_time": "2022-05-24T14:31:36.670937Z"
    }
   },
   "outputs": [],
   "source": [
    "mock_predict = regrMLP.predict(Xmock_scaled)"
   ]
  },
  {
   "cell_type": "code",
   "execution_count": 17,
   "metadata": {
    "ExecuteTime": {
     "end_time": "2022-05-24T14:31:39.418295Z",
     "start_time": "2022-05-24T14:31:39.412021Z"
    }
   },
   "outputs": [],
   "source": [
    "trans_mock = scalery.inverse_transform(mock_predict.reshape(-1, 1))"
   ]
  },
  {
   "cell_type": "markdown",
   "metadata": {},
   "source": [
    "We create plots to show how will be the behaviour of the mock sample in general (with a given redshift range)"
   ]
  },
  {
   "cell_type": "code",
   "execution_count": 18,
   "metadata": {
    "ExecuteTime": {
     "end_time": "2022-05-24T14:31:39.424743Z",
     "start_time": "2022-05-24T14:31:39.419076Z"
    }
   },
   "outputs": [],
   "source": [
    "localUmock = Lmock.T[8] >= 0.6"
   ]
  },
  {
   "cell_type": "code",
   "execution_count": 19,
   "metadata": {
    "ExecuteTime": {
     "end_time": "2022-05-24T14:31:39.427924Z",
     "start_time": "2022-05-24T14:31:39.425553Z"
    }
   },
   "outputs": [],
   "source": [
    "localUsim = X['log(1+z)'] >= 0.6"
   ]
  },
  {
   "cell_type": "code",
   "execution_count": 20,
   "metadata": {
    "ExecuteTime": {
     "end_time": "2022-05-24T14:31:39.679050Z",
     "start_time": "2022-05-24T14:31:39.428639Z"
    }
   },
   "outputs": [
    {
     "data": {
      "text/plain": [
       "[<matplotlib.lines.Line2D at 0x7fde6b97ff70>]"
      ]
     },
     "execution_count": 20,
     "metadata": {},
     "output_type": "execute_result"
    },
    {
     "data": {
      "image/png": "[encoded data removed]",
      "text/plain": [
       "<Figure size 432x288 with 2 Axes>"
      ]
     },
     "metadata": {
      "needs_background": "light"
     },
     "output_type": "display_data"
    }
   ],
   "source": [
    "plt.hist2d(x=trans_mock.ravel()[localUmock], y=Lmock.T[1].ravel()[localUmock],\n",
    "           bins=[np.linspace(-4, 4), np.linspace(0, 12)], cmin=10)\n",
    "plt.colorbar()\n",
    "plt.hist2d(x=y.ravel()[localUsim], y=X[X.columns[1]].ravel()[localUsim],\n",
    "           bins=[np.linspace(-4, 4), np.linspace(0, 12)],\n",
    "           alpha=0.5, cmap='magma', cmin=1)\n",
    "fitz = np.poly1d(np.polyfit(trans_mock.ravel()[\n",
    "                 localUmock], Lmock.T[1].ravel()[localUmock], 2))\n",
    "xp = np.linspace(-4, 4)\n",
    "plt.plot(xp, fitz(xp), '-')"
   ]
  },
  {
   "cell_type": "code",
   "execution_count": 21,
   "metadata": {
    "ExecuteTime": {
     "end_time": "2022-05-24T14:31:39.910939Z",
     "start_time": "2022-05-24T14:31:39.679839Z"
    }
   },
   "outputs": [
    {
     "data": {
      "text/plain": [
       "[<matplotlib.lines.Line2D at 0x7fde6b854310>]"
      ]
     },
     "execution_count": 21,
     "metadata": {},
     "output_type": "execute_result"
    },
    {
     "data": {
      "image/png": "[encoded data removed]",
      "text/plain": [
       "<Figure size 432x288 with 2 Axes>"
      ]
     },
     "metadata": {
      "needs_background": "light"
     },
     "output_type": "display_data"
    }
   ],
   "source": [
    "plt.hist2d(x=trans_mock.ravel()[localUmock], y=Lmock.T[3].ravel()[localUmock],\n",
    "           bins=[np.linspace(-4, 4), np.linspace(0, 12)], cmin=10)\n",
    "plt.colorbar()\n",
    "plt.hist2d(x=y.ravel()[localUsim], y=X[X.columns[3]].ravel()[localUsim],\n",
    "           bins=[np.linspace(-4, 4), np.linspace(0, 12)],\n",
    "           alpha=0.5, cmap='magma', cmin=1)\n",
    "fitz = np.poly1d(np.polyfit(trans_mock.ravel()[\n",
    "                 localUmock], Lmock.T[3].ravel()[localUmock], 2))\n",
    "xp = np.linspace(-4, 4)\n",
    "plt.plot(xp, fitz(xp), '-')"
   ]
  },
  {
   "cell_type": "code",
   "execution_count": 22,
   "metadata": {
    "ExecuteTime": {
     "end_time": "2022-05-24T14:31:40.150438Z",
     "start_time": "2022-05-24T14:31:39.912978Z"
    }
   },
   "outputs": [
    {
     "data": {
      "text/plain": [
       "[<matplotlib.lines.Line2D at 0x7fde6b795eb0>]"
      ]
     },
     "execution_count": 22,
     "metadata": {},
     "output_type": "execute_result"
    },
    {
     "data": {
      "image/png": "[encoded data removed]",
      "text/plain": [
       "<Figure size 432x288 with 2 Axes>"
      ]
     },
     "metadata": {
      "needs_background": "light"
     },
     "output_type": "display_data"
    }
   ],
   "source": [
    "plt.hist2d(x=trans_mock.ravel()[localUmock], y=Lmock.T[6].ravel()[localUmock],\n",
    "           bins=[np.linspace(-4, 4), np.linspace(0, 12)], cmin=10)\n",
    "plt.colorbar()\n",
    "plt.hist2d(x=y.ravel()[localUsim], y=X[X.columns[6]].ravel()[localUsim],\n",
    "           bins=[np.linspace(-4, 4), np.linspace(0, 12)],\n",
    "           alpha=0.5, cmap='magma', cmin=1)\n",
    "fitz = np.poly1d(np.polyfit(trans_mock.ravel()[\n",
    "                 localUmock], Lmock.T[6].ravel()[localUmock], 2))\n",
    "xp = np.linspace(-4, 4)\n",
    "plt.plot(xp, fitz(xp), '-')"
   ]
  },
  {
   "cell_type": "markdown",
   "metadata": {},
   "source": [
    "Finally, we reorganize and save the values as the mock sample"
   ]
  },
  {
   "cell_type": "code",
   "execution_count": 23,
   "metadata": {
    "ExecuteTime": {
     "end_time": "2022-05-24T14:31:40.153854Z",
     "start_time": "2022-05-24T14:31:40.151772Z"
    }
   },
   "outputs": [],
   "source": [
    "pd_mock = pd.DataFrame(Lmock, columns=(\"logLOIII_51\", \"logLNIII_57\", \"logLOI_63\",\n",
    "                                       \"logLOIII_88\", \"logLNII_122\", \"logLOI_145\",\n",
    "                                       \"logLCII\", \"logLNII_205\", \"log_1plusz\"))"
   ]
  },
  {
   "cell_type": "code",
   "execution_count": 24,
   "metadata": {
    "ExecuteTime": {
     "end_time": "2022-05-24T14:31:40.162957Z",
     "start_time": "2022-05-24T14:31:40.154692Z"
    }
   },
   "outputs": [],
   "source": [
    "pd_mock[\"logSFR\"] = trans_mock"
   ]
  },
  {
   "cell_type": "code",
   "execution_count": 25,
   "metadata": {
    "ExecuteTime": {
     "end_time": "2022-05-24T14:31:40.296607Z",
     "start_time": "2022-05-24T14:31:40.163703Z"
    }
   },
   "outputs": [],
   "source": [
    "pd_mock = pd_mock[[\"log_1plusz\", \"logSFR\", \"logLOIII_51\", \"logLNIII_57\", \"logLOI_63\",\n",
    "                   \"logLOIII_88\", \"logLNII_122\", \"logLOI_145\",\n",
    "                   \"logLCII\", \"logLNII_205\"]]"
   ]
  },
  {
   "cell_type": "markdown",
   "metadata": {},
   "source": [
    "**WARNING, the mock_sample file is saved locally as the size is higher than 100 Mb**"
   ]
  },
  {
   "cell_type": "code",
   "execution_count": 26,
   "metadata": {
    "ExecuteTime": {
     "end_time": "2022-05-24T14:31:50.028258Z",
     "start_time": "2022-05-24T14:31:40.297415Z"
    }
   },
   "outputs": [],
   "source": [
    "pd_mock.to_csv('../data/interim/mock_sample.csv')"
   ]
  },
  {
   "cell_type": "markdown",
   "metadata": {},
   "source": [
    "## Obtaining the polynomial regression\n",
    "We use `R` to obtain the coefficients of the polynomial regression for the mock sample. Therefore we first load `R` and then we read the mock file."
   ]
  },
  {
   "cell_type": "code",
   "execution_count": 2,
   "metadata": {
    "ExecuteTime": {
     "end_time": "2022-06-17T14:36:08.083340Z",
     "start_time": "2022-06-17T14:36:02.492720Z"
    }
   },
   "outputs": [],
   "source": [
    "%load_ext rpy2.ipython"
   ]
  },
  {
   "cell_type": "code",
   "execution_count": 28,
   "metadata": {
    "ExecuteTime": {
     "end_time": "2022-05-24T14:32:15.254725Z",
     "start_time": "2022-05-24T14:31:50.590921Z"
    }
   },
   "outputs": [],
   "source": [
    "%%R -o tableLum\n",
    "tableLum <- read.csv(file = '../data/interim/mock_sample.csv')"
   ]
  },
  {
   "cell_type": "code",
   "execution_count": 29,
   "metadata": {
    "ExecuteTime": {
     "end_time": "2022-05-24T14:32:15.267026Z",
     "start_time": "2022-05-24T14:32:15.255660Z"
    }
   },
   "outputs": [
    {
     "name": "stdout",
     "output_type": "stream",
     "text": [
      " [1] \"X\"           \"log_1plusz\"  \"logSFR\"      \"logLOIII_51\" \"logLNIII_57\"\n",
      " [6] \"logLOI_63\"   \"logLOIII_88\" \"logLNII_122\" \"logLOI_145\"  \"logLCII\"    \n",
      "[11] \"logLNII_205\"\n"
     ]
    },
    {
     "data": {
      "text/html": [
       "\n",
       "        <span>StrVector with 11 elements.</span>\n",
       "        <table>\n",
       "        <tbody>\n",
       "          <tr>\n",
       "          \n",
       "            <td>\n",
       "            'X'\n",
       "            </td>\n",
       "          \n",
       "            <td>\n",
       "            'log_1plu...\n",
       "            </td>\n",
       "          \n",
       "            <td>\n",
       "            'logSFR'\n",
       "            </td>\n",
       "          \n",
       "            <td>\n",
       "            ...\n",
       "            </td>\n",
       "          \n",
       "            <td>\n",
       "            'logLOI_1...\n",
       "            </td>\n",
       "          \n",
       "            <td>\n",
       "            'logLCII'\n",
       "            </td>\n",
       "          \n",
       "            <td>\n",
       "            'logLNII_...\n",
       "            </td>\n",
       "          \n",
       "          </tr>\n",
       "        </tbody>\n",
       "        </table>\n",
       "        "
      ],
      "text/plain": [
       "<rpy2.robjects.vectors.StrVector object at 0x7fde665dbb40> [RTYPES.STRSXP]\n",
       "R classes: ('character',)\n",
       "['X', 'log_1plu..., 'logSFR', 'logLOIII..., ..., 'logLNII_..., 'logLOI_1..., 'logLCII', 'logLNII_...]"
      ]
     },
     "execution_count": 29,
     "metadata": {},
     "output_type": "execute_result"
    }
   ],
   "source": [
    "%R print(colnames(tableLum))"
   ]
  },
  {
   "cell_type": "markdown",
   "metadata": {},
   "source": [
    "We adjust the model to the data"
   ]
  },
  {
   "cell_type": "code",
   "execution_count": 30,
   "metadata": {
    "ExecuteTime": {
     "end_time": "2022-05-24T14:32:21.435291Z",
     "start_time": "2022-05-24T14:32:15.267911Z"
    }
   },
   "outputs": [
    {
     "name": "stdout",
     "output_type": "stream",
     "text": [
      "\n",
      "Call:\n",
      "lm(formula = tableLum[[em_line]] ~ logSFR + log_1plusz + logSFR * \n",
      "    log_1plusz + I(logSFR^2), data = tableLum)\n",
      "\n",
      "Residuals:\n",
      "    Min      1Q  Median      3Q     Max \n",
      "-3.5054 -0.6862 -0.0553  0.5962  5.7957 \n",
      "\n",
      "Coefficients:\n",
      "                    Estimate Std. Error t value Pr(>|t|)    \n",
      "(Intercept)        6.2272316  0.0024821 2508.87   <2e-16 ***\n",
      "logSFR             1.1756844  0.0011179 1051.70   <2e-16 ***\n",
      "log_1plusz         0.3919644  0.0038426  102.01   <2e-16 ***\n",
      "I(logSFR^2)       -0.0241508  0.0002364 -102.17   <2e-16 ***\n",
      "logSFR:log_1plusz -0.1212453  0.0016932  -71.61   <2e-16 ***\n",
      "---\n",
      "Signif. codes:  0 ‘***’ 0.001 ‘**’ 0.01 ‘*’ 0.05 ‘.’ 0.1 ‘ ’ 1\n",
      "\n",
      "Residual standard error: 1.043 on 999995 degrees of freedom\n",
      "Multiple R-squared:  0.8465,\tAdjusted R-squared:  0.8465 \n",
      "F-statistic: 1.379e+06 on 4 and 999995 DF,  p-value: < 2.2e-16\n",
      "\n",
      "\n",
      "Call:\n",
      "lm(formula = tableLum[[em_line]] ~ logSFR + log_1plusz + logSFR * \n",
      "    log_1plusz + I(logSFR^2), data = tableLum)\n",
      "\n",
      "Residuals:\n",
      "    Min      1Q  Median      3Q     Max \n",
      "-3.6164 -0.7621 -0.0610  0.6972  5.9299 \n",
      "\n",
      "Coefficients:\n",
      "                    Estimate Std. Error t value Pr(>|t|)    \n",
      "(Intercept)        5.7403230  0.0026426 2172.24   <2e-16 ***\n",
      "logSFR             1.1724976  0.0011902  985.15   <2e-16 ***\n",
      "log_1plusz         0.3926694  0.0040910   95.98   <2e-16 ***\n",
      "I(logSFR^2)       -0.0262802  0.0002517 -104.43   <2e-16 ***\n",
      "logSFR:log_1plusz -0.1327318  0.0018027  -73.63   <2e-16 ***\n",
      "---\n",
      "Signif. codes:  0 ‘***’ 0.001 ‘**’ 0.01 ‘*’ 0.05 ‘.’ 0.1 ‘ ’ 1\n",
      "\n",
      "Residual standard error: 1.11 on 999995 degrees of freedom\n",
      "Multiple R-squared:  0.8262,\tAdjusted R-squared:  0.8262 \n",
      "F-statistic: 1.189e+06 on 4 and 999995 DF,  p-value: < 2.2e-16\n",
      "\n",
      "\n",
      "Call:\n",
      "lm(formula = tableLum[[em_line]] ~ logSFR + log_1plusz + logSFR * \n",
      "    log_1plusz + I(logSFR^2), data = tableLum)\n",
      "\n",
      "Residuals:\n",
      "    Min      1Q  Median      3Q     Max \n",
      "-3.6593 -0.4797  0.0294  0.4901  4.9728 \n",
      "\n",
      "Coefficients:\n",
      "                    Estimate Std. Error t value Pr(>|t|)    \n",
      "(Intercept)        6.2447438  0.0021286  2933.8   <2e-16 ***\n",
      "logSFR             1.2290978  0.0009587  1282.1   <2e-16 ***\n",
      "log_1plusz         0.4109390  0.0032953   124.7   <2e-16 ***\n",
      "I(logSFR^2)       -0.0315324  0.0002027  -155.6   <2e-16 ***\n",
      "logSFR:log_1plusz -0.1533066  0.0014521  -105.6   <2e-16 ***\n",
      "---\n",
      "Signif. codes:  0 ‘***’ 0.001 ‘**’ 0.01 ‘*’ 0.05 ‘.’ 0.1 ‘ ’ 1\n",
      "\n",
      "Residual standard error: 0.8944 on 999995 degrees of freedom\n",
      "Multiple R-squared:  0.8872,\tAdjusted R-squared:  0.8872 \n",
      "F-statistic: 1.966e+06 on 4 and 999995 DF,  p-value: < 2.2e-16\n",
      "\n",
      "\n",
      "Call:\n",
      "lm(formula = tableLum[[em_line]] ~ logSFR + log_1plusz + logSFR * \n",
      "    log_1plusz + I(logSFR^2), data = tableLum)\n",
      "\n",
      "Residuals:\n",
      "    Min      1Q  Median      3Q     Max \n",
      "-3.4798 -0.6712 -0.0126  0.5975  5.7504 \n",
      "\n",
      "Coefficients:\n",
      "                    Estimate Std. Error t value Pr(>|t|)    \n",
      "(Intercept)        6.2409284  0.0024482 2549.20   <2e-16 ***\n",
      "logSFR             1.1868357  0.0011026 1076.37   <2e-16 ***\n",
      "log_1plusz         0.4014551  0.0037901  105.92   <2e-16 ***\n",
      "I(logSFR^2)       -0.0282872  0.0002331 -121.33   <2e-16 ***\n",
      "logSFR:log_1plusz -0.1263840  0.0016701  -75.67   <2e-16 ***\n",
      "---\n",
      "Signif. codes:  0 ‘***’ 0.001 ‘**’ 0.01 ‘*’ 0.05 ‘.’ 0.1 ‘ ’ 1\n",
      "\n",
      "Residual standard error: 1.029 on 999995 degrees of freedom\n",
      "Multiple R-squared:  0.8507,\tAdjusted R-squared:  0.8507 \n",
      "F-statistic: 1.424e+06 on 4 and 999995 DF,  p-value: < 2.2e-16\n",
      "\n",
      "\n",
      "Call:\n",
      "lm(formula = tableLum[[em_line]] ~ logSFR + log_1plusz + logSFR * \n",
      "    log_1plusz + I(logSFR^2), data = tableLum)\n",
      "\n",
      "Residuals:\n",
      "    Min      1Q  Median      3Q     Max \n",
      "-3.0144 -0.5298 -0.0304  0.4507  5.3076 \n",
      "\n",
      "Coefficients:\n",
      "                    Estimate Std. Error t value Pr(>|t|)    \n",
      "(Intercept)        4.7406591  0.0021685 2186.18   <2e-16 ***\n",
      "logSFR             1.2064148  0.0009766 1235.27   <2e-16 ***\n",
      "log_1plusz         0.4015143  0.0033570  119.60   <2e-16 ***\n",
      "I(logSFR^2)       -0.0293873  0.0002065 -142.31   <2e-16 ***\n",
      "logSFR:log_1plusz -0.1224983  0.0014793  -82.81   <2e-16 ***\n",
      "---\n",
      "Signif. codes:  0 ‘***’ 0.001 ‘**’ 0.01 ‘*’ 0.05 ‘.’ 0.1 ‘ ’ 1\n",
      "\n",
      "Residual standard error: 0.9111 on 999995 degrees of freedom\n",
      "Multiple R-squared:  0.8828,\tAdjusted R-squared:  0.8828 \n",
      "F-statistic: 1.883e+06 on 4 and 999995 DF,  p-value: < 2.2e-16\n",
      "\n",
      "\n",
      "Call:\n",
      "lm(formula = tableLum[[em_line]] ~ logSFR + log_1plusz + logSFR * \n",
      "    log_1plusz + I(logSFR^2), data = tableLum)\n",
      "\n",
      "Residuals:\n",
      "    Min      1Q  Median      3Q     Max \n",
      "-3.4660 -0.7382 -0.1130  0.6061  6.1414 \n",
      "\n",
      "Coefficients:\n",
      "                    Estimate Std. Error t value Pr(>|t|)    \n",
      "(Intercept)        4.6623030  0.0026933 1731.08   <2e-16 ***\n",
      "logSFR             1.1372043  0.0012130  937.50   <2e-16 ***\n",
      "log_1plusz         0.3648414  0.0041695   87.50   <2e-16 ***\n",
      "I(logSFR^2)       -0.0069330  0.0002565  -27.03   <2e-16 ***\n",
      "logSFR:log_1plusz -0.1300433  0.0018373  -70.78   <2e-16 ***\n",
      "---\n",
      "Signif. codes:  0 ‘***’ 0.001 ‘**’ 0.01 ‘*’ 0.05 ‘.’ 0.1 ‘ ’ 1\n",
      "\n",
      "Residual standard error: 1.132 on 999995 degrees of freedom\n",
      "Multiple R-squared:  0.8192,\tAdjusted R-squared:  0.8192 \n",
      "F-statistic: 1.132e+06 on 4 and 999995 DF,  p-value: < 2.2e-16\n",
      "\n",
      "\n",
      "Call:\n",
      "lm(formula = tableLum[[em_line]] ~ logSFR + log_1plusz + logSFR * \n",
      "    log_1plusz + I(logSFR^2), data = tableLum)\n",
      "\n",
      "Residuals:\n",
      "    Min      1Q  Median      3Q     Max \n",
      "-2.7742 -0.4500 -0.0562  0.3749  5.6096 \n",
      "\n",
      "Coefficients:\n",
      "                    Estimate Std. Error t value Pr(>|t|)    \n",
      "(Intercept)        6.2278928  0.0021265 2928.70   <2e-16 ***\n",
      "logSFR             1.1761443  0.0009577 1228.04   <2e-16 ***\n",
      "log_1plusz         0.3912150  0.0032921  118.83   <2e-16 ***\n",
      "I(logSFR^2)       -0.0240577  0.0002025 -118.80   <2e-16 ***\n",
      "logSFR:log_1plusz -0.1300687  0.0014507  -89.66   <2e-16 ***\n",
      "---\n",
      "Signif. codes:  0 ‘***’ 0.001 ‘**’ 0.01 ‘*’ 0.05 ‘.’ 0.1 ‘ ’ 1\n",
      "\n",
      "Residual standard error: 0.8935 on 999995 degrees of freedom\n",
      "Multiple R-squared:  0.8818,\tAdjusted R-squared:  0.8818 \n",
      "F-statistic: 1.864e+06 on 4 and 999995 DF,  p-value: < 2.2e-16\n",
      "\n",
      "\n",
      "Call:\n",
      "lm(formula = tableLum[[em_line]] ~ logSFR + log_1plusz + logSFR * \n",
      "    log_1plusz + I(logSFR^2), data = tableLum)\n",
      "\n",
      "Residuals:\n",
      "    Min      1Q  Median      3Q     Max \n",
      "-3.6466 -0.7423 -0.0832  0.6775  5.9569 \n",
      "\n",
      "Coefficients:\n",
      "                    Estimate Std. Error t value Pr(>|t|)    \n",
      "(Intercept)        4.6501735  0.0027647 1681.99   <2e-16 ***\n",
      "logSFR             1.1349488  0.0012452  911.48   <2e-16 ***\n",
      "log_1plusz         0.3686858  0.0042800   86.14   <2e-16 ***\n",
      "I(logSFR^2)       -0.0045570  0.0002633  -17.31   <2e-16 ***\n",
      "logSFR:log_1plusz -0.1429037  0.0018860  -75.77   <2e-16 ***\n",
      "---\n",
      "Signif. codes:  0 ‘***’ 0.001 ‘**’ 0.01 ‘*’ 0.05 ‘.’ 0.1 ‘ ’ 1\n",
      "\n",
      "Residual standard error: 1.162 on 999995 degrees of freedom\n",
      "Multiple R-squared:  0.8097,\tAdjusted R-squared:  0.8097 \n",
      "F-statistic: 1.064e+06 on 4 and 999995 DF,  p-value: < 2.2e-16\n",
      "\n"
     ]
    }
   ],
   "source": [
    "%%R -o vect\n",
    "vect = c()\n",
    "for(em_line in 4:ncol(tableLum)){\n",
    "    model <- lm(tableLum[[em_line]] ~ logSFR + log_1plusz + logSFR*log_1plusz + I(logSFR^2), data = tableLum)\n",
    "    print(summary(model))\n",
    "    coef <- summary(model)$coefficients[1:10] #This number changes # with variables (#+1 * 2)\n",
    "    rse <- sqrt(deviance(model)/df.residual(model))\n",
    "    vect = c(vect, c(coef, rse))}"
   ]
  },
  {
   "cell_type": "markdown",
   "metadata": {},
   "source": [
    "We print coefficients for each line in a table format"
   ]
  },
  {
   "cell_type": "code",
   "execution_count": 31,
   "metadata": {
    "ExecuteTime": {
     "end_time": "2022-05-24T14:32:21.443541Z",
     "start_time": "2022-05-24T14:32:21.436145Z"
    }
   },
   "outputs": [
    {
     "data": {
      "text/html": [
       "<div><i>Table length=8</i>\n",
       "<table id=\"table140593176881616\" class=\"table-striped table-bordered table-condensed\">\n",
       "<thead><tr><th>line</th><th>Intercept</th><th>Intercept_err</th><th>cSFR</th><th>cSFR_err</th><th>cSFR2</th><th>cSFR2_err</th><th>clogz</th><th>clogz_err</th><th>cSFRlogz</th><th>cSFRlogz_err</th><th>sigma</th></tr></thead>\n",
       "<thead><tr><th>object</th><th>float64</th><th>float64</th><th>float64</th><th>float64</th><th>float64</th><th>float64</th><th>float64</th><th>float64</th><th>float64</th><th>float64</th><th>float64</th></tr></thead>\n",
       "<tr><td>logLOIII_51</td><td>6.227</td><td>0.002</td><td>1.176</td><td>0.001</td><td>-0.024</td><td>0.000</td><td>0.392</td><td>0.004</td><td>-0.121</td><td>0.002</td><td>1.043</td></tr>\n",
       "<tr><td>logLNIII_57</td><td>5.740</td><td>0.003</td><td>1.172</td><td>0.001</td><td>-0.026</td><td>0.000</td><td>0.393</td><td>0.004</td><td>-0.133</td><td>0.002</td><td>1.110</td></tr>\n",
       "<tr><td>logLOI_63</td><td>6.245</td><td>0.002</td><td>1.229</td><td>0.001</td><td>-0.032</td><td>0.000</td><td>0.411</td><td>0.003</td><td>-0.153</td><td>0.001</td><td>0.894</td></tr>\n",
       "<tr><td>logLOIII_88</td><td>6.241</td><td>0.002</td><td>1.187</td><td>0.001</td><td>-0.028</td><td>0.000</td><td>0.401</td><td>0.004</td><td>-0.126</td><td>0.002</td><td>1.029</td></tr>\n",
       "<tr><td>logLNII_122</td><td>4.741</td><td>0.002</td><td>1.206</td><td>0.001</td><td>-0.029</td><td>0.000</td><td>0.402</td><td>0.003</td><td>-0.122</td><td>0.001</td><td>0.911</td></tr>\n",
       "<tr><td>logLOI_145</td><td>4.662</td><td>0.003</td><td>1.137</td><td>0.001</td><td>-0.007</td><td>0.000</td><td>0.365</td><td>0.004</td><td>-0.130</td><td>0.002</td><td>1.132</td></tr>\n",
       "<tr><td>logLCII</td><td>6.228</td><td>0.002</td><td>1.176</td><td>0.001</td><td>-0.024</td><td>0.000</td><td>0.391</td><td>0.003</td><td>-0.130</td><td>0.001</td><td>0.893</td></tr>\n",
       "<tr><td>logLNII_205</td><td>4.650</td><td>0.003</td><td>1.135</td><td>0.001</td><td>-0.005</td><td>0.000</td><td>0.369</td><td>0.004</td><td>-0.143</td><td>0.002</td><td>1.162</td></tr>\n",
       "</table></div>"
      ],
      "text/plain": [
       "<Table length=8>\n",
       "    line    Intercept Intercept_err   cSFR  ... cSFRlogz cSFRlogz_err  sigma \n",
       "   object    float64     float64    float64 ... float64    float64    float64\n",
       "----------- --------- ------------- ------- ... -------- ------------ -------\n",
       "logLOIII_51     6.227         0.002   1.176 ...   -0.121        0.002   1.043\n",
       "logLNIII_57     5.740         0.003   1.172 ...   -0.133        0.002   1.110\n",
       "  logLOI_63     6.245         0.002   1.229 ...   -0.153        0.001   0.894\n",
       "logLOIII_88     6.241         0.002   1.187 ...   -0.126        0.002   1.029\n",
       "logLNII_122     4.741         0.002   1.206 ...   -0.122        0.001   0.911\n",
       " logLOI_145     4.662         0.003   1.137 ...   -0.130        0.002   1.132\n",
       "    logLCII     6.228         0.002   1.176 ...   -0.130        0.001   0.893\n",
       "logLNII_205     4.650         0.003   1.135 ...   -0.143        0.002   1.162"
      ]
     },
     "execution_count": 31,
     "metadata": {},
     "output_type": "execute_result"
    }
   ],
   "source": [
    "r_outputs = vect.reshape(8, 11)  # (+1 of coefficients in previous cell)\n",
    "Tcoef = Table(r_outputs, names=('Intercept',  'cSFR', 'clogz', 'cSFR2', 'cSFRlogz',\n",
    "                                'Intercept_err', 'cSFR_err', 'clogz_err', 'cSFR2_err', 'cSFRlogz_err',\n",
    "                                'sigma'))\n",
    "for col in Tcoef.columns:\n",
    "    Tcoef[col].info.format = '1.3f'\n",
    "Tcoef.add_column(tableLum.columns[-8:], name='line', index=0)\n",
    "Tcoef['line', 'Intercept', 'Intercept_err',  'cSFR', 'cSFR_err', 'cSFR2', 'cSFR2_err',\n",
    "      'clogz', 'clogz_err',  'cSFRlogz', 'cSFRlogz_err', 'sigma']"
   ]
  },
  {
   "cell_type": "markdown",
   "metadata": {},
   "source": [
    "We plot some of the comparison with the previous line regressions"
   ]
  },
  {
   "cell_type": "code",
   "execution_count": 32,
   "metadata": {
    "ExecuteTime": {
     "end_time": "2022-05-24T14:32:21.584384Z",
     "start_time": "2022-05-24T14:32:21.444399Z"
    }
   },
   "outputs": [
    {
     "data": {
      "image/png": "[encoded data removed]",
      "text/plain": [
       "<Figure size 432x288 with 1 Axes>"
      ]
     },
     "metadata": {
      "needs_background": "light"
     },
     "output_type": "display_data"
    }
   ],
   "source": [
    "# [NIII]57\n",
    "NLINE = 1\n",
    "x = np.linspace(-4, 4)\n",
    "z = np.log10(1 + np.arange(0, 7))\n",
    "for red in z:\n",
    "    plt.plot(x, Tcoef['Intercept'][NLINE] + Tcoef['cSFR'][NLINE]*x -\n",
    "             Tcoef['cSFR2'][NLINE]*x**2 + red*Tcoef['clogz'][NLINE] -\n",
    "             Tcoef['cSFRlogz'][NLINE]*red*x)\n",
    "#     if red==np.log10(7):\n",
    "#         print((6.627 + 0.801*x + 0.033*x**2 + red*0.093 - 0.058*red*x)[::7])\n",
    "    plt.plot(x, 6.38 + (1.54*x) - (red*0.39) - (0.35*red*x), c='k')\n",
    "    plt.plot(x, 6.65 + (1.15*x) - (red*0.82) + (0.26*red*x), c='r')"
   ]
  },
  {
   "cell_type": "code",
   "execution_count": 33,
   "metadata": {
    "ExecuteTime": {
     "end_time": "2022-05-24T14:32:21.674420Z",
     "start_time": "2022-05-24T14:32:21.585326Z"
    }
   },
   "outputs": [
    {
     "data": {
      "image/png": "[encoded data removed]",
      "text/plain": [
       "<Figure size 432x288 with 1 Axes>"
      ]
     },
     "metadata": {
      "needs_background": "light"
     },
     "output_type": "display_data"
    }
   ],
   "source": [
    "# [OI]63\n",
    "NLINE = 2\n",
    "x = np.linspace(-4, 4)\n",
    "z = np.log10(1 + np.arange(0, 7))\n",
    "for red in z:\n",
    "    plt.plot(x, Tcoef['Intercept'][NLINE] + Tcoef['cSFR'][NLINE]*x -\n",
    "             Tcoef['cSFR2'][NLINE]*x**2 + red*Tcoef['clogz'][NLINE] -\n",
    "             Tcoef['cSFRlogz'][NLINE]*red*x)\n",
    "    plt.plot(x, 6.13 + (1.03*x) + (red*0.70) + (0.09*red*x), c='k')"
   ]
  },
  {
   "cell_type": "code",
   "execution_count": 34,
   "metadata": {
    "ExecuteTime": {
     "end_time": "2022-05-24T14:32:21.769901Z",
     "start_time": "2022-05-24T14:32:21.675267Z"
    }
   },
   "outputs": [
    {
     "data": {
      "image/png": "[encoded data removed]",
      "text/plain": [
       "<Figure size 432x288 with 1 Axes>"
      ]
     },
     "metadata": {
      "needs_background": "light"
     },
     "output_type": "display_data"
    }
   ],
   "source": [
    "# [OIII]88\n",
    "NLINE = 3\n",
    "x = np.linspace(-4, 4)\n",
    "z = np.log10(1 + np.arange(0, 7))\n",
    "for red in z:\n",
    "    plt.plot(x, Tcoef['Intercept'][NLINE] + Tcoef['cSFR'][NLINE]*x -\n",
    "             Tcoef['cSFR2'][NLINE]*x**2 + red*Tcoef['clogz'][NLINE] -\n",
    "             Tcoef['cSFRlogz'][NLINE]*red*x)\n",
    "#     if red==np.log10(7):\n",
    "#         print((6.627 + 0.801*x + 0.033*x**2 + red*0.093 - 0.058*red*x)[::7])\n",
    "    plt.plot(x, 6.84 + (1.46*x) - (red*0.07) - (0.35*red*x), c='k')\n",
    "    plt.plot(x, 7.11 + (1.06*x) - (red*0.48) + (0.26*red*x), c='r')"
   ]
  },
  {
   "cell_type": "code",
   "execution_count": 35,
   "metadata": {
    "ExecuteTime": {
     "end_time": "2022-05-24T14:32:21.859378Z",
     "start_time": "2022-05-24T14:32:21.770736Z"
    }
   },
   "outputs": [
    {
     "data": {
      "image/png": "[encoded data removed]",
      "text/plain": [
       "<Figure size 432x288 with 1 Axes>"
      ]
     },
     "metadata": {
      "needs_background": "light"
     },
     "output_type": "display_data"
    }
   ],
   "source": [
    "# [CII]\n",
    "NLINE = 6\n",
    "x = np.linspace(-4, 4)\n",
    "z = np.log10(1 + np.arange(0, 7))\n",
    "for red in z:\n",
    "    plt.plot(x, Tcoef['Intercept'][NLINE] + Tcoef['cSFR'][NLINE]*x -\n",
    "             Tcoef['cSFR2'][NLINE]*x**2 + red*Tcoef['clogz'][NLINE] -\n",
    "             Tcoef['cSFRlogz'][NLINE]*red*x)\n",
    "    plt.plot(x, 6.55 + (0.72*x) + (red*0.14) + (0.24*red*x), c='k')"
   ]
  },
  {
   "cell_type": "code",
   "execution_count": 36,
   "metadata": {
    "ExecuteTime": {
     "end_time": "2022-05-24T14:32:21.947938Z",
     "start_time": "2022-05-24T14:32:21.860156Z"
    }
   },
   "outputs": [
    {
     "data": {
      "image/png": "[encoded data removed]",
      "text/plain": [
       "<Figure size 432x288 with 1 Axes>"
      ]
     },
     "metadata": {
      "needs_background": "light"
     },
     "output_type": "display_data"
    }
   ],
   "source": [
    "# [NII]205\n",
    "NLINE = 7\n",
    "x = np.linspace(-4, 4)\n",
    "z = np.log10(1 + np.arange(0, 7))\n",
    "for red in z:\n",
    "    plt.plot(x, Tcoef['Intercept'][NLINE] + Tcoef['cSFR'][NLINE]*x -\n",
    "             Tcoef['cSFR2'][NLINE]*x**2 + red*Tcoef['clogz'][NLINE] -\n",
    "             Tcoef['cSFRlogz'][NLINE]*red*x)\n",
    "    plt.plot(x, 5.48 + (0.93*x) - (red*0.82) + (0.24*red*x), c='k')"
   ]
  },
  {
   "cell_type": "markdown",
   "metadata": {},
   "source": [
    "Finally, we save the information in tables to be used later on. We use the .tex and .csv format"
   ]
  },
  {
   "cell_type": "code",
   "execution_count": 37,
   "metadata": {
    "ExecuteTime": {
     "end_time": "2022-05-24T14:32:21.953555Z",
     "start_time": "2022-05-24T14:32:21.948879Z"
    }
   },
   "outputs": [],
   "source": [
    "Tcoef['line', 'Intercept', 'Intercept_err',\n",
    "      'cSFR', 'cSFR_err', 'cSFR2', 'cSFR2_err',\n",
    "      'clogz', 'clogz_err',  'cSFRlogz', 'cSFRlogz_err',\n",
    "      'sigma'].write('../data/interim/coeff_MLPreg.csv',\n",
    "                     format='ascii.csv',\n",
    "                     overwrite=True)"
   ]
  },
  {
   "cell_type": "code",
   "execution_count": 38,
   "metadata": {
    "ExecuteTime": {
     "end_time": "2022-05-24T14:32:21.961539Z",
     "start_time": "2022-05-24T14:32:21.954315Z"
    }
   },
   "outputs": [],
   "source": [
    "Tcoef['line', 'Intercept', 'cSFR',\n",
    "      'clogz', 'cSFRlogz', 'cSFR2',\n",
    "      'sigma'].write('../data/interim/coeff_MLPreg_latex.tex',\n",
    "                     format='latex',\n",
    "                     overwrite=True)"
   ]
  },
  {
   "cell_type": "markdown",
   "metadata": {},
   "source": [
    "##### Notebook information"
   ]
  },
  {
   "cell_type": "code",
   "execution_count": 4,
   "metadata": {
    "ExecuteTime": {
     "end_time": "2022-06-17T14:36:15.008287Z",
     "start_time": "2022-06-17T14:36:14.978162Z"
    }
   },
   "outputs": [
    {
     "name": "stdout",
     "output_type": "stream",
     "text": [
      "The watermark extension is already loaded. To reload it, use:\n",
      "  %reload_ext watermark\n",
      "Author: Andres Ramos\n",
      "\n",
      "Python implementation: CPython\n",
      "Python version       : 3.8.3\n",
      "IPython version      : 7.16.1\n",
      "\n",
      "Compiler    : GCC 7.3.0\n",
      "OS          : Linux\n",
      "Release     : 3.10.0-1160.59.1.el7.x86_64\n",
      "Machine     : x86_64\n",
      "Processor   : x86_64\n",
      "CPU cores   : 8\n",
      "Architecture: 64bit\n",
      "\n",
      "Specific Python packages\n",
      "rpy2: 3.4.5\n",
      "\n",
      "matplotlib: 3.4.3\n",
      "autopep8  : 1.5.7\n",
      "json      : 2.0.9\n",
      "sklearn   : 1.0.1\n",
      "numpy     : 1.22.1\n",
      "pandas    : 1.4.0\n",
      "\n",
      "Watermark: 2.2.0\n",
      "\n"
     ]
    }
   ],
   "source": [
    "%load_ext watermark\n",
    "%watermark -a \"Andres Ramos\" -d -v -m\n",
    "print('Specific Python packages')\n",
    "%watermark -iv -w -p rpy2"
   ]
  },
  {
   "cell_type": "code",
   "execution_count": 40,
   "metadata": {
    "ExecuteTime": {
     "end_time": "2022-05-24T14:32:22.079019Z",
     "start_time": "2022-05-24T14:32:22.047088Z"
    }
   },
   "outputs": [
    {
     "name": "stdout",
     "output_type": "stream",
     "text": [
      "R version 3.6.0 (2019-04-26)\n",
      "Platform: x86_64-redhat-linux-gnu (64-bit)\n",
      "Running under: Scientific Linux 7.9 (Nitrogen)\n",
      "\n",
      "Matrix products: default\n",
      "BLAS/LAPACK: /Software/users/modules/7/software/anaconda3/2020.07/lib/libmkl_intel_lp64.so\n",
      "\n",
      "locale:\n",
      " [1] LC_CTYPE=en_US.UTF-8       LC_NUMERIC=C              \n",
      " [3] LC_TIME=en_US.UTF-8        LC_COLLATE=en_US.UTF-8    \n",
      " [5] LC_MONETARY=en_US.UTF-8    LC_MESSAGES=en_US.UTF-8   \n",
      " [7] LC_PAPER=en_US.UTF-8       LC_NAME=C                 \n",
      " [9] LC_ADDRESS=C               LC_TELEPHONE=C            \n",
      "[11] LC_MEASUREMENT=en_US.UTF-8 LC_IDENTIFICATION=C       \n",
      "\n",
      "attached base packages:\n",
      "[1] tools     stats     graphics  grDevices utils     datasets  methods  \n",
      "[8] base     \n",
      "\n",
      "loaded via a namespace (and not attached):\n",
      "[1] compiler_3.6.0\n",
      "               _                           \n",
      "platform       x86_64-redhat-linux-gnu     \n",
      "arch           x86_64                      \n",
      "os             linux-gnu                   \n",
      "system         x86_64, linux-gnu           \n",
      "status                                     \n",
      "major          3                           \n",
      "minor          6.0                         \n",
      "year           2019                        \n",
      "month          04                          \n",
      "day            26                          \n",
      "svn rev        76424                       \n",
      "language       R                           \n",
      "version.string R version 3.6.0 (2019-04-26)\n",
      "nickname       Planting of a Tree          \n"
     ]
    }
   ],
   "source": [
    "%%R\n",
    "print(sessionInfo())\n",
    "print(version)"
   ]
  },
  {
   "cell_type": "code",
   "execution_count": null,
   "metadata": {},
   "outputs": [],
   "source": []
  }
 ],
 "metadata": {
  "hide_input": false,
  "kernelspec": {
   "display_name": "Python 3",
   "language": "python",
   "name": "python3"
  },
  "language_info": {
   "codemirror_mode": {
    "name": "ipython",
    "version": 3
   },
   "file_extension": ".py",
   "mimetype": "text/x-python",
   "name": "python",
   "nbconvert_exporter": "python",
   "pygments_lexer": "ipython3",
   "version": "3.8.3"
  },
  "toc": {
   "base_numbering": "App",
   "nav_menu": {},
   "number_sections": false,
   "sideBar": true,
   "skip_h1_title": false,
   "title_cell": "Table of Contents",
   "title_sidebar": "Contents",
   "toc_cell": false,
   "toc_position": {
    "height": "calc(100% - 180px)",
    "left": "10px",
    "top": "150px",
    "width": "384px"
   },
   "toc_section_display": true,
   "toc_window_display": true
  },
  "varInspector": {
   "cols": {
    "lenName": 16,
    "lenType": 16,
    "lenVar": 40
   },
   "kernels_config": {
    "python": {
     "delete_cmd_postfix": "",
     "delete_cmd_prefix": "del ",
     "library": "var_list.py",
     "varRefreshCmd": "print(var_dic_list())"
    },
    "r": {
     "delete_cmd_postfix": ") ",
     "delete_cmd_prefix": "rm(",
     "library": "var_list.r",
     "varRefreshCmd": "cat(var_dic_list()) "
    }
   },
   "types_to_exclude": [
    "module",
    "function",
    "builtin_function_or_method",
    "instance",
    "_Feature"
   ],
   "window_display": false
  }
 },
 "nbformat": 4,
 "nbformat_minor": 4
}
