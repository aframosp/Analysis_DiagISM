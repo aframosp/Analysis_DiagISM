{
 "cells": [
  {
   "cell_type": "markdown",
   "metadata": {
    "ExecuteTime": {
     "end_time": "2022-01-25T12:21:38.476497Z",
     "start_time": "2022-01-25T12:21:37.502570Z"
    }
   },
   "source": [
    "# Estimates of the sensitivity\n",
    "In this notebook, we estimates the sensitivities for LETO (Line Emission Terahertz Observatory) and save the data to be plotted and analysed later on. First, we import the Python packages"
   ]
  },
  {
   "cell_type": "code",
   "execution_count": 1,
   "metadata": {
    "ExecuteTime": {
     "end_time": "2022-05-24T14:43:09.185155Z",
     "start_time": "2022-05-24T14:43:07.360851Z"
    }
   },
   "outputs": [],
   "source": [
    "import numpy as np\n",
    "\n",
    "import astropy.units as u\n",
    "from astropy.table import Table\n",
    "from astropy.cosmology import Planck13, FlatLambdaCDM\n",
    "\n",
    "from telescope_estimator import LuminEstimator\n",
    "\n",
    "cosmo = FlatLambdaCDM(H0=70, Om0=0.3, Tcmb0=2.725)"
   ]
  },
  {
   "cell_type": "markdown",
   "metadata": {},
   "source": [
    "## Reading and pre-processing data"
   ]
  },
  {
   "cell_type": "markdown",
   "metadata": {},
   "source": [
    "We read the pySIDES original data"
   ]
  },
  {
   "cell_type": "code",
   "execution_count": 2,
   "metadata": {
    "ExecuteTime": {
     "end_time": "2022-05-24T14:43:13.921024Z",
     "start_time": "2022-05-24T14:43:09.186118Z"
    }
   },
   "outputs": [],
   "source": [
    "# This file is very large, so we recommend downloading the file yourself\n",
    "cat = Table.read('pySIDES_from_original.fits', format='fits')"
   ]
  },
  {
   "cell_type": "markdown",
   "metadata": {},
   "source": [
    "We also read the coefficients calculated for the paper (It is possible to also select the case where only HII regions are taken into account)"
   ]
  },
  {
   "cell_type": "code",
   "execution_count": 3,
   "metadata": {
    "ExecuteTime": {
     "end_time": "2022-05-24T14:43:13.926864Z",
     "start_time": "2022-05-24T14:43:13.922310Z"
    }
   },
   "outputs": [],
   "source": [
    "# Change the file that you want to use manually or uncomment the respective lines in the notebook\n",
    "# estimated_linreg = Table.read('../data/raw//coeff_linreg.csv', format='ascii.csv')\n",
    "# estimated_linreg = Table.read('../data/raw//coeff_linreg_HII.csv', format='ascii.csv') # In case HII\n",
    "estimated_linreg = Table.read('../data/interim/coeff_MLPreg.csv',\n",
    "                              format='ascii.csv')\n",
    "\n",
    "# Dictionaries to create the analog of the lines names\n",
    "linreg_lines = {'CII158': 'logLCII', 'NIII': 'logLNIII_57',\n",
    "                'NII205': 'logLNII_205', 'NII122': 'logLNII_122',\n",
    "                'OI145': 'logLOI_145',  'OI63': 'logLOI_63',\n",
    "                'OIII88': 'logLOIII_88', 'OIII52': 'logLOIII_51'}\n",
    "inv_linreg_lines = {v: k for k, v in linreg_lines.items()}"
   ]
  },
  {
   "cell_type": "markdown",
   "metadata": {},
   "source": [
    "We calculate the log(1+z) and log(SFR) from the SIDES catalog. With this we can estimate the expected line luminosity for the galaxies in the catalog."
   ]
  },
  {
   "cell_type": "code",
   "execution_count": 4,
   "metadata": {
    "ExecuteTime": {
     "end_time": "2022-05-24T14:43:15.930789Z",
     "start_time": "2022-05-24T14:43:13.928172Z"
    }
   },
   "outputs": [
    {
     "name": "stderr",
     "output_type": "stream",
     "text": [
      "<ipython-input-4-244383a5b828>:2: RuntimeWarning: divide by zero encountered in log10\n",
      "  logsfr = np.log10(cat['SFR'])\n",
      "<ipython-input-4-244383a5b828>:12: RuntimeWarning: invalid value encountered in add\n",
      "  cat['L'+line] = (estimated_linreg['Intercept'][row] +\n"
     ]
    }
   ],
   "source": [
    "logz = np.log10(1 + cat['redshift'])\n",
    "logsfr = np.log10(cat['SFR'])\n",
    "\n",
    "# for line in linreg_lines:\n",
    "#     row = np.where(estimated_linreg['line'] == linreg_lines[line])[0]\n",
    "#     cat['L'+line] = (estimated_linreg['Intercept'][row] +\n",
    "#                      estimated_linreg['cSFR'][row]*logsfr +\n",
    "#                      estimated_linreg['clogz'][row]*logz + estimated_linreg['cSFRlogz'][row]*logz*logsfr)\n",
    "\n",
    "for line in linreg_lines:\n",
    "    row = np.where(estimated_linreg['line'] == linreg_lines[line])[0]\n",
    "    cat['L'+line] = (estimated_linreg['Intercept'][row] +\n",
    "                     estimated_linreg['cSFR'][row]*logsfr +\n",
    "                     estimated_linreg['cSFR2'][row]*logsfr*logsfr +\n",
    "                     estimated_linreg['clogz'][row]*logz +\n",
    "                     estimated_linreg['cSFRlogz'][row]*logz*logsfr)"
   ]
  },
  {
   "cell_type": "markdown",
   "metadata": {},
   "source": [
    "## Using the estimator to calculate the bands sensitivies\n",
    "We redefine the class for the LETO estimator to start our calculations"
   ]
  },
  {
   "cell_type": "code",
   "execution_count": 5,
   "metadata": {
    "ExecuteTime": {
     "end_time": "2022-05-24T14:43:15.936110Z",
     "start_time": "2022-05-24T14:43:15.931637Z"
    }
   },
   "outputs": [],
   "source": [
    "LETO_estimator = LuminEstimator()"
   ]
  },
  {
   "cell_type": "markdown",
   "metadata": {},
   "source": [
    "We run a simple verification to verify is working"
   ]
  },
  {
   "cell_type": "code",
   "execution_count": 6,
   "metadata": {
    "ExecuteTime": {
     "end_time": "2022-05-24T14:43:15.955918Z",
     "start_time": "2022-05-24T14:43:15.937067Z"
    }
   },
   "outputs": [
    {
     "data": {
      "text/plain": [
       "[array([6.20381168, 7.22619492, 7.81754341, 7.86823446, 7.9015483 ,\n",
       "        7.95230346, 7.04639136, 7.1645728 ]),\n",
       " array([5.70381168, 6.72619492, 7.31754341, 7.36823446, 7.4015483 ,\n",
       "        7.45230346, 6.54639136, 6.6645728 ]),\n",
       " array([5.20381168, 6.22619492, 6.81754341, 6.86823446, 6.9015483 ,\n",
       "        6.95230346, 6.04639136, 6.1645728 ]),\n",
       " array([4.70381168, 5.72619492, 6.31754341, 6.36823446, 6.4015483 ,\n",
       "        6.45230346, 5.54639136, 5.6645728 ])]"
      ]
     },
     "execution_count": 6,
     "metadata": {},
     "output_type": "execute_result"
    }
   ],
   "source": [
    "# Inputs\n",
    "HTIME = 1  # In hours\n",
    "# bw = 18.75 * u.MHz # bandwidth\n",
    "line_width = 12 * u.km/u.s\n",
    "int_time = 3600*HTIME * u.s\n",
    "NPOL = 1.4  # 2 for polarised measurement\n",
    "\n",
    "list_int_time = [int_time, int_time*10, int_time*100, int_time*1000]\n",
    "\n",
    "LETO_estimator.estimate_flux(line_width, list_int_time, NPOL)\n",
    "\n",
    "# Print as an example\n",
    "LETO_estimator.retrive_lum(Planck13.luminosity_distance(0.2))"
   ]
  },
  {
   "cell_type": "code",
   "execution_count": 8,
   "metadata": {
    "ExecuteTime": {
     "end_time": "2022-05-24T14:43:15.975303Z",
     "start_time": "2022-05-24T14:43:15.965554Z"
    }
   },
   "outputs": [
    {
     "data": {
      "text/html": [
       "<div><i>Table length=8</i>\n",
       "<table id=\"table139728945011536\" class=\"table-striped table-bordered table-condensed\">\n",
       "<thead><tr><th>Species</th><th>Wavelength</th><th>Frequency</th><th>Quantum Noise</th><th>Expected DSB TN</th><th>QN</th><th>G_FR</th><th>T_RF</th><th>G_Mix</th><th>G_mix</th><th>T_IF</th><th>Expected Tsys</th><th>Beam solid angle</th><th>Range</th><th>BW</th><th>Sensitivity DT</th><th>Channel</th><th>Min Bright</th><th>Min Bright2</th><th>Flux Density</th><th>Flux 1h</th><th>Flux 10h</th><th>Flux 100h</th><th>Flux 1000h</th></tr></thead>\n",
       "<thead><tr><th></th><th>micron</th><th>GHz</th><th>K</th><th>K</th><th>K</th><th></th><th>K</th><th>dbit</th><th>dbit</th><th>K</th><th>K</th><th>sr</th><th>GHz</th><th>MHz</th><th>K</th><th>km / s</th><th>W / (Hz m2 sr)</th><th>W / (m2 sr)</th><th>W / (Hz m2)</th><th>W / m2</th><th>W / m2</th><th>W / m2</th><th>W / m2</th></tr></thead>\n",
       "<thead><tr><th>str32</th><th>float64</th><th>float64</th><th>float64</th><th>float64</th><th>float64</th><th>float64</th><th>float64</th><th>float64</th><th>float64</th><th>float64</th><th>float64</th><th>float64</th><th>float64</th><th>float64</th><th>float64</th><th>float64</th><th>float64</th><th>float64</th><th>float64</th><th>float64</th><th>float64</th><th>float64</th><th>float64</th></tr></thead>\n",
       "<tr><td>CI [608]</td><td>609.3</td><td>492.0276678155261</td><td>23.613603766681994</td><td>40.0</td><td>1.6939388157447897</td><td>0.86</td><td>50.0</td><td>-1.0</td><td>0.7943282347242815</td><td>5.0</td><td>65.06902140920859</td><td>1.477142849725397e-07</td><td>8.0</td><td>18.0</td><td>8.002023274441711e-06</td><td>10.9674</td><td>5.951832935489668e-22</td><td>1.172197525453406e-14</td><td>8.791707463418682e-29</td><td>5.004327619134813e-20</td><td>1.582507343415363e-20</td><td>5.004327619134812e-21</td><td>1.5825073434153628e-21</td></tr>\n",
       "<tr><td>CI [370]</td><td>370.6</td><td>808.9380949811117</td><td>38.82290549120167</td><td>130.0</td><td>3.3485386617820647</td><td>0.86</td><td>50.0</td><td>-2.0</td><td>0.6309573444801932</td><td>5.0</td><td>176.9426619307219</td><td>5.464758449948197e-08</td><td>16.0</td><td>269.85</td><td>5.61995881325441e-06</td><td>100.00641000000002</td><td>1.1298884811230528e-21</td><td>3.65857036521226e-14</td><td>6.174567624716336e-29</td><td>5.2690094058375135e-19</td><td>1.6662070735297034e-19</td><td>5.269009405837513e-20</td><td>1.6662070735297034e-20</td></tr>\n",
       "<tr><td>NII [205]</td><td>205.3</td><td>1460.2652605942524</td><td>70.08167937184285</td><td>400.0</td><td>5.707625781592078</td><td>0.86</td><td>50.0</td><td>-4.9</td><td>0.3235936569296282</td><td>5.0</td><td>515.7837802566238</td><td>1.677019216345521e-08</td><td>16.0</td><td>483.67</td><td>1.2236434587358577e-05</td><td>99.29745100000002</td><td>8.01660107331176e-21</td><td>4.685787281039509e-13</td><td>1.344399404971995e-28</td><td>2.056257324880769e-18</td><td>6.502456602028048e-19</td><td>2.056257324880769e-19</td><td>6.502456602028049e-20</td></tr>\n",
       "<tr><td>CII [158]</td><td>157.68</td><td>1901.2712962962964</td><td>91.24663099340016</td><td>390.0</td><td>4.27413040628545</td><td>0.86</td><td>50.0</td><td>-5.5</td><td>0.28183829312644537</td><td>5.0</td><td>506.369422017166</td><td>9.892666372416988e-09</td><td>16.0</td><td>633.77</td><td>1.0494540328915274e-05</td><td>99.9328536</td><td>1.1655300540756161e-20</td><td>8.870091735735283e-13</td><td>1.15301999719952e-28</td><td>2.3108327672473593e-18</td><td>7.307494836251401e-19</td><td>2.3108327672473595e-19</td><td>7.307494836251398e-20</td></tr>\n",
       "<tr><td>OI [145]</td><td>145.53</td><td>2060.0045214045217</td><td>98.86462430453747</td><td>400.0</td><td>4.045936580589845</td><td>0.86</td><td>50.0</td><td>-6.5</td><td>0.22387211385683395</td><td>5.0</td><td>524.1870797534019</td><td>8.426848749709596e-09</td><td>16.0</td><td>689.48</td><td>1.04156712349266e-05</td><td>100.3400244</td><td>1.35798659460807e-20</td><td>1.1197580660548918e-12</td><td>1.1443547636895407e-28</td><td>2.495067819018311e-18</td><td>7.890097224686647e-19</td><td>2.495067819018311e-19</td><td>7.890097224686645e-20</td></tr>\n",
       "<tr><td>NII [122]</td><td>121.8</td><td>2461.3502298850576</td><td>118.12618041904219</td><td>410.0</td><td>3.470864786667623</td><td>0.86</td><td>50.0</td><td>-7.2</td><td>0.19054607179632474</td><td>5.0</td><td>541.1655717012943</td><td>5.902754444886524e-09</td><td>16.0</td><td>817.23</td><td>9.876880436874497e-06</td><td>99.53861400000001</td><td>1.8383935950197423e-20</td><td>1.8112252167682193e-12</td><td>1.08515859644537e-28</td><td>2.8043842289479085e-18</td><td>8.868241597730497e-19</td><td>2.8043842289479085e-19</td><td>8.868241597730498e-20</td></tr>\n",
       "<tr><td>OH [119]</td><td>119.0</td><td>2519.2643529411766</td><td>120.90561995831376</td><td>344.0</td><td>2.845194459270011</td><td>0.86</td><td>50.0</td><td>-6.0</td><td>0.251188643150958</td><td>5.0</td><td>452.8495656442542</td><td>5.634482872810825e-09</td><td>16.0</td><td>18.0</td><td>5.56902914109803e-05</td><td>2.142</td><td>1.0859225357853054e-19</td><td>1.0950479352456863e-11</td><td>6.118611929081603e-28</td><td>3.4827749666234118e-19</td><td>1.101350147234689e-19</td><td>3.482774966623412e-20</td><td>1.1013501472346885e-20</td></tr>\n",
       "<tr><td>OI [63]</td><td>63.18</td><td>4745.053149730928</td><td>227.7266346160073</td><td>460.0</td><td>2.019965739956822</td><td>0.86</td><td>50.0</td><td>-6.0</td><td>0.251188643150958</td><td>5.0</td><td>594.4774726209984</td><td>1.5882518996530322e-09</td><td>8.0</td><td>18.0</td><td>7.310733232221775e-05</td><td>1.13724</td><td>5.05725639268689e-19</td><td>9.605425247268549e-11</td><td>8.032197072717394e-28</td><td>4.572006725722331e-19</td><td>1.445795473089131e-19</td><td>4.572006725722333e-20</td><td>1.4457954730891308e-20</td></tr>\n",
       "</table></div>"
      ],
      "text/plain": [
       "<Table length=8>\n",
       " Species  Wavelength ...       Flux 100h              Flux 1000h      \n",
       "            micron   ...         W / m2                 W / m2        \n",
       "  str32    float64   ...        float64                float64        \n",
       "--------- ---------- ... ---------------------- ----------------------\n",
       " CI [608]      609.3 ...  5.004327619134812e-21 1.5825073434153628e-21\n",
       " CI [370]      370.6 ...  5.269009405837513e-20 1.6662070735297034e-20\n",
       "NII [205]      205.3 ...  2.056257324880769e-19  6.502456602028049e-20\n",
       "CII [158]     157.68 ... 2.3108327672473595e-19  7.307494836251398e-20\n",
       " OI [145]     145.53 ...  2.495067819018311e-19  7.890097224686645e-20\n",
       "NII [122]      121.8 ... 2.8043842289479085e-19  8.868241597730498e-20\n",
       " OH [119]      119.0 ...  3.482774966623412e-20 1.1013501472346885e-20\n",
       "  OI [63]      63.18 ...  4.572006725722333e-20 1.4457954730891308e-20"
      ]
     },
     "execution_count": 8,
     "metadata": {},
     "output_type": "execute_result"
    }
   ],
   "source": [
    "LETO_estimator.table"
   ]
  },
  {
   "cell_type": "markdown",
   "metadata": {},
   "source": [
    "Create dictionaries to work with the estimators"
   ]
  },
  {
   "cell_type": "code",
   "execution_count": 10,
   "metadata": {
    "ExecuteTime": {
     "end_time": "2022-05-24T14:43:15.991361Z",
     "start_time": "2022-05-24T14:43:15.983136Z"
    }
   },
   "outputs": [],
   "source": [
    "list_lines = [inv_linreg_lines[line] for line in estimated_linreg['line'].data]\n",
    "disp = {}\n",
    "for A, B in zip(list_lines, estimated_linreg['sigma'].data):\n",
    "    disp[A] = B\n",
    "\n",
    "wave_lines = {'OIII52': 51.81, 'NIII': 57.34, 'OI63': 63.18,\n",
    "              'OIII88': 88.36, 'NII122': 121.8, 'OI145': 145.53,\n",
    "              'CII158': 157.68, 'NII205': 205.3}\n",
    "# wave_lines = {'OIII88': 88.36,\n",
    "#               'CII158': 157.68}"
   ]
  },
  {
   "cell_type": "markdown",
   "metadata": {},
   "source": [
    "Finally, we estimate the lines that we could observe with the configuration of the telescope"
   ]
  },
  {
   "cell_type": "code",
   "execution_count": 11,
   "metadata": {
    "ExecuteTime": {
     "end_time": "2022-05-24T14:54:07.666754Z",
     "start_time": "2022-05-24T14:43:15.992151Z"
    }
   },
   "outputs": [
    {
     "name": "stdout",
     "output_type": "stream",
     "text": [
      "6.153059254970083 OIII52 CI [370] [9.92994282 9.42994282 8.92994282 8.42994282] [5.26900941e-19 1.66620707e-19 5.26900941e-20 1.66620707e-20] 6.014322847019202 6.2973945426853835\n",
      "2.9625554912179117 OIII52 NII [205] [10.02812602  9.52812602  9.02812602  8.52812602] [2.05625732e-18 6.50245660e-19 2.05625732e-19 6.50245660e-20] 2.919608678370764 3.0064538591904264\n",
      "2.0434279096699477 OIII52 CII [158] [9.80269684 9.30269684 8.80269684 8.30269684] [2.31083277e-18 7.30749484e-19 2.31083277e-19 7.30749484e-20] 2.018029914796303 2.069257002093082\n",
      "1.8089171974522291 OIII52 OI [145] [9.74137207 9.24137207 8.74137207 8.24137207] [2.49506782e-18 7.89009722e-19 2.49506782e-19 7.89009722e-20] 1.7872685571454006 1.8309047589711014\n",
      "1.3508975101331788 OIII52 NII [122] [9.55761694 9.05761694 8.55761694 8.05761694] [2.80438423e-18 8.86824160e-19 2.80438423e-19 8.86824160e-20] 1.3357142067357113 1.3662795031509638\n",
      "5.463201953261248 NIII CI [370] [9.85379567 9.35379567 8.85379567 8.35379567] [5.26900941e-19 1.66620707e-19 5.26900941e-20 1.66620707e-20] 5.337845600001132 5.59361721758859\n",
      "2.5803976281827694 NIII NII [205] [9.9275966 9.4275966 8.9275966 8.4275966] [2.05625732e-18 6.50245660e-19 2.05625732e-19 6.50245660e-20] 2.5415927036342745 2.6200623377163588\n",
      "1.7499128008371119 NIII CII [158] [9.68197139 9.18197139 8.68197139 8.18197139] [2.31083277e-18 7.30749484e-19 2.31083277e-19 7.30749484e-20] 1.7269642463480375 1.773250876847621\n",
      "1.5380188350191837 NIII OI [145] [9.61239213 9.11239213 8.61239213 8.11239213] [2.49506782e-18 7.89009722e-19 2.49506782e-19 7.89009722e-20] 1.5184580388158915 1.5578858661020714\n",
      "1.1241716079525634 NIII NII [122] [9.4047771 8.9047771 8.4047771 7.9047771] [2.80438423e-18 8.86824160e-19 2.80438423e-19 8.86824160e-20] 1.1104526168639206 1.13807012658269\n",
      "4.865780310224755 OI63 CI [370] [9.77820824 9.27820824 8.77820824 8.27820824] [5.26900941e-19 1.66620707e-19 5.26900941e-20 1.66620707e-20] 4.752011185566081 4.984140728973248\n",
      "2.2494460272238053 OI63 NII [205] [9.82517944 9.32517944 8.82517944 8.32517944] [2.05625732e-18 6.50245660e-19 2.05625732e-19 6.50245660e-20] 2.2142280092812494 2.285444356515607\n",
      "1.4957264957264957 OI63 CII [158] [9.55657112 9.05657112 8.55657112 8.05657112] [2.31083277e-18 7.30749484e-19 2.31083277e-19 7.30749484e-20] 1.4748991751439775 1.5169073326755715\n",
      "1.3034188034188032 OI63 OI [145] [9.47739865 8.97739865 8.47739865 7.97739865] [2.49506782e-18 7.89009722e-19 2.49506782e-19 7.89009722e-20] 1.2856660960066988 1.3214494390992846\n",
      "0.9278252611585944 OI63 NII [122] [9.24131642 8.74131642 8.24131642 7.74131642] [2.80438423e-18 8.86824160e-19 2.80438423e-19 8.86824160e-20] 0.9153743756090096 0.9404390797444042\n",
      "3.194205522861023 OIII88 CI [370] [9.49053324 8.99053324 8.49053324 7.99053324] [5.26900941e-19 1.66620707e-19 5.26900941e-20 1.66620707e-20] 3.1128572510645647 3.2788367050308938\n",
      "1.3234495246717974 OIII88 NII [205] [9.40597113 8.90597113 8.40597113 7.90597113] [2.05625732e-18 6.50245660e-19 2.05625732e-19 6.50245660e-20] 1.2982676055499014 1.3491893893691262\n",
      "0.7845178813942961 OIII88 CII [158] [9.01173197 8.51173197 8.01173197 7.51173197] [2.31083277e-18 7.30749484e-19 2.31083277e-19 7.30749484e-20] 0.769625734332237 0.79966280306069\n",
      "0.6470122227252151 OIII88 OI [145] [8.87550859 8.37550859 7.87550859 7.37550859] [2.49506782e-18 7.89009722e-19 2.49506782e-19 7.89009722e-20] 0.634318514550738 0.659904657789642\n",
      "0.3784517881394296 OIII88 NII [122] [8.44661682 7.94661682 7.44661682 6.94661682] [2.80438423e-18 8.86824160e-19 2.80438423e-19 8.86824160e-20] 0.36954903860318244 0.38747103959089446\n",
      "2.0426929392446636 NII122 CI [370] [9.16038093 8.66038093 8.16038093 7.66038093] [5.26900941e-19 1.66620707e-19 5.26900941e-20 1.66620707e-20] 1.9836787085719618 2.1040887623688818\n",
      "0.6855500821018063 NII122 NII [205] [8.84263351 8.34263351 7.84263351 7.34263351] [2.05625732e-18 6.50245660e-19 2.05625732e-19 6.50245660e-20] 0.6672818195926872 0.704223107098982\n",
      "0.2945812807881774 NII122 CII [158] [8.13703092 7.63703092 7.13703092 6.63703092] [2.31083277e-18 7.30749484e-19 2.31083277e-19 7.30749484e-20] 0.2837777494712354 0.305568187836146\n",
      "0.19482758620689658 NII122 OI [145] [7.79887892 7.29887892 6.79887892 6.29887892] [2.49506782e-18 7.89009722e-19 2.49506782e-19 7.89009722e-20] 0.1856189158103712 0.20418042333573708\n",
      "0.0 NII122 NII [122] [6.06417222 5.56417222 5.06417222 4.56417222] [2.80438423e-18 8.86824160e-19 2.80438423e-19 8.86824160e-20] -0.0064585135387749985 0.006543030034905091\n",
      "1.5465539751254038 OI145 CI [370] [8.94149423 8.44149423 7.94149423 7.44149423] [5.26900941e-19 1.66620707e-19 5.26900941e-20 1.66620707e-20] 1.4971625555147734 1.5979386467156587\n",
      "0.4107056964199822 OI145 NII [205] [8.38541306 7.88541306 7.38541306 6.88541306] [2.05625732e-18 6.50245660e-19 2.05625732e-19 6.50245660e-20] 0.39541624150614524 0.42633391358933564\n",
      "0.08348794063079781 OI145 CII [158] [7.01113488 6.51113488 6.01113488 5.51113488] [2.31083277e-18 7.30749484e-19 2.31083277e-19 7.30749484e-20] 0.07444602408847996 0.09268333181091594\n",
      "0.0 OI145 OI [145] [6.01341706 5.51341706 5.01341706 4.51341706] [2.49506782e-18 7.89009722e-19 2.49506782e-19 7.89009722e-20] -0.007707112308780134 0.007827771334383216\n",
      "1.350329781836631 CII158 CI [370] [8.83116313 8.33116313 7.83116313 7.33116313] [5.26900941e-19 1.66620707e-19 5.26900941e-20 1.66620707e-20] 1.304744207915176 1.397755018115993\n",
      "0.30200405885337395 CII158 NII [205] [8.10874005 7.60874005 7.10874005 6.60874005] [2.05625732e-18 6.50245660e-19 2.05625732e-19 6.50245660e-20] 0.28789272974625385 0.3164280469600203\n",
      "0.0 CII158 CII [158] [5.98010322 5.48010322 4.98010322 4.48010322] [2.31083277e-18 7.30749484e-19 2.31083277e-19 7.30749484e-20] -0.00834519352107765 0.008486842202198032\n",
      "0.8051631758402338 NII205 CI [370] [8.3923629 7.8923629 7.3923629 6.8923629] [5.26900941e-19 1.66620707e-19 5.26900941e-20 1.66620707e-20] 0.770151323448928 0.8415879749465648\n",
      "0.0 NII205 NII [205] [5.92941217 5.42941217 4.92941217 4.42941217] [2.05625732e-18 6.50245660e-19 2.05625732e-19 6.50245660e-20] -0.010838160611839771 0.011078297343672654\n"
     ]
    }
   ],
   "source": [
    "total_array = []\n",
    "bands_to_use = [False, True, True, True, True, True, False, False]\n",
    "# bands_to_use = [False, True, True, False, False, False, False, False]\n",
    "for line in wave_lines:\n",
    "    for irow, row in enumerate(LETO_estimator.table[bands_to_use]):\n",
    "        redsh = (row['Wavelength']-wave_lines[line])/wave_lines[line]\n",
    "        freq = (wave_lines[line] * u.micron).to(u.GHz,\n",
    "                                                equivalencies=u.spectral()).value\n",
    "        if redsh <= -0.05:\n",
    "            print('Local Universe')\n",
    "        else:\n",
    "            lum_min = np.array(LETO_estimator.retrive_lum(\n",
    "                Planck13.luminosity_distance(redsh))).T[bands_to_use][irow]\n",
    "            lum_min = np.log10(10**lum_min / (1+redsh))\n",
    "            flux_min = []\n",
    "            for col in LETO_estimator.table.colnames:\n",
    "                if col.startswith('Flux'):\n",
    "                    if col.endswith('h') or col.endswith('x'):\n",
    "                        flux_min.append(\n",
    "                            LETO_estimator.table[bands_to_use][col][irow])\n",
    "            flux_min = np.array(flux_min)\n",
    "            band_z = (row['Frequency'] + row['Range'],\n",
    "                      row['Frequency'] - row['Range'])\n",
    "            redsh1 = ((freq - band_z[0]) / band_z[0])\n",
    "            redsh2 = ((freq - band_z[1]) / band_z[1])\n",
    "            secl = cat[np.logical_and.reduce(\n",
    "                [cat['redshift'] > redsh1, cat['redshift'] < redsh2, cat['SFR'] > 0])]\n",
    "            print(redsh, line, row['Species'],\n",
    "                  lum_min, flux_min, redsh1, redsh2)\n",
    "            allcounts = []\n",
    "            for iterat in range(500):\n",
    "                # Because SIDEs is 2deg^2\n",
    "                sample = (secl.to_pandas().sample(frac=0.5))\n",
    "                rand_lum = disp[line] * \\\n",
    "                    (2*np.random.random(size=len(sample)) - 1)\n",
    "                counts, bins = np.histogram(sample['L'+line] + rand_lum,\n",
    "                                            bins=np.linspace(5, 12, 71))\n",
    "                allcounts.append(counts)\n",
    "#             print('Estimated', np.median(allcounts, axis=0),\n",
    "#                   np.std(allcounts, axis=0),\n",
    "#                   np.percentile(allcounts, 75, axis=0))\n",
    "            counts = np.mean(allcounts, axis=0)  # maybe median?\n",
    "            er_counts = np.std(allcounts, axis=0)\n",
    "            poisson_error = np.sqrt(counts)\n",
    "            per25_counts = np.percentile(allcounts, 25, axis=0)\n",
    "            per75_counts = np.percentile(allcounts, 75, axis=0)\n",
    "            total_array.append([line, row['Species'], redsh, redsh1, redsh2, list_int_time,\n",
    "                                lum_min, flux_min, bins, counts, er_counts, poisson_error,\n",
    "                                per25_counts, per75_counts])\n",
    "#             print(total_array)"
   ]
  },
  {
   "cell_type": "markdown",
   "metadata": {},
   "source": [
    "We organize the table and we check the results"
   ]
  },
  {
   "cell_type": "code",
   "execution_count": 12,
   "metadata": {
    "ExecuteTime": {
     "end_time": "2022-05-24T14:54:07.670663Z",
     "start_time": "2022-05-24T14:54:07.667700Z"
    }
   },
   "outputs": [
    {
     "name": "stderr",
     "output_type": "stream",
     "text": [
      "<ipython-input-12-80d6d5ad6f74>:1: VisibleDeprecationWarning: Creating an ndarray from ragged nested sequences (which is a list-or-tuple of lists-or-tuples-or ndarrays with different lengths or shapes) is deprecated. If you meant to do this, you must specify 'dtype=object' when creating the ndarray.\n",
      "  All = Table(np.array(total_array), names=['Line', 'Band', 'z', 'z_min', 'z_max',\n"
     ]
    }
   ],
   "source": [
    "All = Table(np.array(total_array), names=['Line', 'Band', 'z', 'z_min', 'z_max',\n",
    "                                          'Int_times',\n",
    "                                          'Lums_min', 'Fluxes_min',\n",
    "                                          'Lum_bins', 'mean_counts',\n",
    "                                          'std', 'poisson_err', 'p25', 'p75'])"
   ]
  },
  {
   "cell_type": "code",
   "execution_count": 13,
   "metadata": {
    "ExecuteTime": {
     "end_time": "2022-05-24T14:54:07.690735Z",
     "start_time": "2022-05-24T14:54:07.671527Z"
    }
   },
   "outputs": [
    {
     "data": {
      "text/html": [
       "<i>Row index=32</i>\n",
       "<table id=\"table139728944913568\">\n",
       "<thead><tr><th>Line</th><th>Band</th><th>z</th><th>z_min</th><th>z_max</th><th>Int_times</th><th>Lums_min</th><th>Fluxes_min</th><th>Lum_bins</th><th>mean_counts</th><th>std</th><th>poisson_err</th><th>p25</th><th>p75</th></tr></thead>\n",
       "<thead><tr><th>object</th><th>object</th><th>object</th><th>object</th><th>object</th><th>object</th><th>object</th><th>object</th><th>object</th><th>object</th><th>object</th><th>object</th><th>object</th><th>object</th></tr></thead>\n",
       "<tr><td>NII205</td><td>CI [370]</td><td>0.8051631758402338</td><td>0.770151323448928</td><td>0.8415879749465648</td><td>[&lt;Quantity 3600. s&gt;, &lt;Quantity 36000. s&gt;, &lt;Quantity 360000. s&gt;, &lt;Quantity 3600000. s&gt;]</td><td>[8.3923629 7.8923629 7.3923629 6.8923629]</td><td>[5.26900941e-19 1.66620707e-19 5.26900941e-20 1.66620707e-20]</td><td>[ 5.   5.1  5.2  5.3  5.4  5.5  5.6  5.7  5.8  5.9  6.   6.1  6.2  6.3\n",
       "  6.4  6.5  6.6  6.7  6.8  6.9  7.   7.1  7.2  7.3  7.4  7.5  7.6  7.7\n",
       "  7.8  7.9  8.   8.1  8.2  8.3  8.4  8.5  8.6  8.7  8.8  8.9  9.   9.1\n",
       "  9.2  9.3  9.4  9.5  9.6  9.7  9.8  9.9 10.  10.1 10.2 10.3 10.4 10.5\n",
       " 10.6 10.7 10.8 10.9 11.  11.1 11.2 11.3 11.4 11.5 11.6 11.7 11.8 11.9\n",
       " 12. ]</td><td>[3.03064e+02 2.76538e+02 2.53340e+02 2.28240e+02 2.05992e+02 1.86470e+02\n",
       " 1.68344e+02 1.50916e+02 1.36090e+02 1.21332e+02 1.09054e+02 9.76560e+01\n",
       " 8.69960e+01 7.84940e+01 6.83700e+01 5.99840e+01 5.20220e+01 4.42640e+01\n",
       " 3.85320e+01 3.12800e+01 2.49200e+01 1.89180e+01 1.48740e+01 1.10800e+01\n",
       " 7.63200e+00 5.22400e+00 3.33800e+00 2.31200e+00 1.41200e+00 1.01800e+00\n",
       " 6.64000e-01 3.02000e-01 2.16000e-01 1.66000e-01 1.22000e-01 4.40000e-02\n",
       " 1.60000e-02 0.00000e+00 0.00000e+00 0.00000e+00 0.00000e+00 0.00000e+00\n",
       " 0.00000e+00 0.00000e+00 0.00000e+00 0.00000e+00 0.00000e+00 0.00000e+00\n",
       " 0.00000e+00 0.00000e+00 0.00000e+00 0.00000e+00 0.00000e+00 0.00000e+00\n",
       " 0.00000e+00 0.00000e+00 0.00000e+00 0.00000e+00 0.00000e+00 0.00000e+00\n",
       " 0.00000e+00 0.00000e+00 0.00000e+00 0.00000e+00 0.00000e+00 0.00000e+00\n",
       " 0.00000e+00 0.00000e+00 0.00000e+00 0.00000e+00]</td><td>[17.04957196 16.55706967 15.70809982 14.72597705 13.87371385 13.42211235\n",
       " 12.50094652 12.21838549 11.14477007 10.4039308  10.50271793  9.81986069\n",
       "  9.25310672  8.82734184  8.36570977  7.34409586  7.47887131  6.60471831\n",
       "  5.99407841  5.76451212  4.9716798   4.41217361  3.93371631  3.41666504\n",
       "  2.70639539  2.39954662  1.83949884  1.48548174  1.11635837  0.98472128\n",
       "  0.77659771  0.53553338  0.4704721   0.39299364  0.34513186  0.21462525\n",
       "  0.1254751   0.          0.          0.          0.          0.\n",
       "  0.          0.          0.          0.          0.          0.\n",
       "  0.          0.          0.          0.          0.          0.\n",
       "  0.          0.          0.          0.          0.          0.\n",
       "  0.          0.          0.          0.          0.          0.\n",
       "  0.          0.          0.          0.        ]</td><td>[17.40873344 16.62943174 15.91665794 15.10761397 14.3524214  13.65540186\n",
       " 12.9747447  12.28478734 11.66576187 11.01508057 10.44289232  9.88210504\n",
       "  9.32716463  8.85968397  8.26861536  7.74493383  7.21262782  6.65311957\n",
       "  6.20741492  5.59285258  4.99199359  4.34948273  3.85668251  3.3286634\n",
       "  2.76260746  2.28560714  1.82701943  1.52052622  1.18827606  1.00895986\n",
       "  0.81486195  0.54954527  0.464758    0.40743098  0.34928498  0.20976177\n",
       "  0.12649111  0.          0.          0.          0.          0.\n",
       "  0.          0.          0.          0.          0.          0.\n",
       "  0.          0.          0.          0.          0.          0.\n",
       "  0.          0.          0.          0.          0.          0.\n",
       "  0.          0.          0.          0.          0.          0.\n",
       "  0.          0.          0.          0.        ]</td><td>[291.   265.   243.   218.   197.   178.75 160.   142.75 128.   114.\n",
       " 101.    91.    81.    72.    62.75  55.    47.    40.    35.    27.\n",
       "  22.    16.    12.     9.     6.     4.     2.     1.     1.     0.\n",
       "   0.     0.     0.     0.     0.     0.     0.     0.     0.     0.\n",
       "   0.     0.     0.     0.     0.     0.     0.     0.     0.     0.\n",
       "   0.     0.     0.     0.     0.     0.     0.     0.     0.     0.\n",
       "   0.     0.     0.     0.     0.     0.     0.     0.     0.     0.  ]</td><td>[314.   287.25 264.   238.   216.   194.   176.   159.   143.   128.\n",
       " 115.   104.    93.    84.    74.    65.    57.    48.    43.    36.\n",
       "  28.    22.    17.    13.     9.     7.     4.     3.     2.     2.\n",
       "   1.     1.     0.     0.     0.     0.     0.     0.     0.     0.\n",
       "   0.     0.     0.     0.     0.     0.     0.     0.     0.     0.\n",
       "   0.     0.     0.     0.     0.     0.     0.     0.     0.     0.\n",
       "   0.     0.     0.     0.     0.     0.     0.     0.     0.     0.  ]</td></tr>\n",
       "</table>"
      ],
      "text/plain": [
       "<Row index=32>\n",
       " Line    Band           z                z_min             z_max                                              Int_times                                                         Lums_min                                           Fluxes_min                                                                                                                                                                                                           Lum_bins                                                                                                                                                                                                                                                                                                                                                                                                                                                                                                                                                                                                                     mean_counts                                                                                                                                                                                                                                                                                                                                                                                                                                                                                                                                                                                                                                                                                                                                                                                                                                                          std                                                                                                                                                                                                                                                                                                                                                                                                                                                                                                                                                                                                                                                                                                                                                                                                                                      poisson_err                                                                                                                                                                                                                                                                                                                                                                                                                                                                                                                                                                                                                                                                  p25                                                                                                                                                                                                                                                                                                                                                                                                                                                                                                   p75                                                                                                                                                                                                                                                 \n",
       "object  object        object             object            object                                               object                                                           object                                              object                                                                                                                                                                                                              object                                                                                                                                                                                                                                                                                                                                                                                                                                                                                                                                                                                                                         object                                                                                                                                                                                                                                                                                                                                                                                                                                                                                                                                                                                                                                                                                                                                                                                                                                                           object                                                                                                                                                                                                                                                                                                                                                                                                                                                                                                                                                                                                                                                                                                                                                                                                                                       object                                                                                                                                                                                                                                                                                                                                                                                                                                                                                                                                                                                                                                                                   object                                                                                                                                                                                                                                                                                                                                                                                                                                                                                                object                                                                                                                                                                                                                                               \n",
       "------ -------- ------------------ ----------------- ------------------ -------------------------------------------------------------------------------------- ----------------------------------------- ------------------------------------------------------------- ------------------------------------------------------------------------------------------------------------------------------------------------------------------------------------------------------------------------------------------------------------------------------------------------------------------------------------------------------------------------- ------------------------------------------------------------------------------------------------------------------------------------------------------------------------------------------------------------------------------------------------------------------------------------------------------------------------------------------------------------------------------------------------------------------------------------------------------------------------------------------------------------------------------------------------------------------------------------------------------------------------------------------------------------------------------------------------------------------------------------------------------------------------------------------------------------------------------------------------------------------------------------ -------------------------------------------------------------------------------------------------------------------------------------------------------------------------------------------------------------------------------------------------------------------------------------------------------------------------------------------------------------------------------------------------------------------------------------------------------------------------------------------------------------------------------------------------------------------------------------------------------------------------------------------------------------------------------------------------------------------------------------------------------------------------------------------------------------------------------------------- ------------------------------------------------------------------------------------------------------------------------------------------------------------------------------------------------------------------------------------------------------------------------------------------------------------------------------------------------------------------------------------------------------------------------------------------------------------------------------------------------------------------------------------------------------------------------------------------------------------------------------------------------------------------------------------------------------------------------------------------------------------------------------------------------------------------------------------------- ----------------------------------------------------------------------------------------------------------------------------------------------------------------------------------------------------------------------------------------------------------------------------------------------------------------------------------------------------------------------------------------------------------------------------------------------------------------------------------------------------- -----------------------------------------------------------------------------------------------------------------------------------------------------------------------------------------------------------------------------------------------------------------------------------------------------------------------------------------------------------------------------------------------------------------------------------------------------------------------------------------------------\n",
       "NII205 CI [370] 0.8051631758402338 0.770151323448928 0.8415879749465648 [<Quantity 3600. s>, <Quantity 36000. s>, <Quantity 360000. s>, <Quantity 3600000. s>] [8.3923629 7.8923629 7.3923629 6.8923629] [5.26900941e-19 1.66620707e-19 5.26900941e-20 1.66620707e-20] [ 5.   5.1  5.2  5.3  5.4  5.5  5.6  5.7  5.8  5.9  6.   6.1  6.2  6.3\n",
       "  6.4  6.5  6.6  6.7  6.8  6.9  7.   7.1  7.2  7.3  7.4  7.5  7.6  7.7\n",
       "  7.8  7.9  8.   8.1  8.2  8.3  8.4  8.5  8.6  8.7  8.8  8.9  9.   9.1\n",
       "  9.2  9.3  9.4  9.5  9.6  9.7  9.8  9.9 10.  10.1 10.2 10.3 10.4 10.5\n",
       " 10.6 10.7 10.8 10.9 11.  11.1 11.2 11.3 11.4 11.5 11.6 11.7 11.8 11.9\n",
       " 12. ] [3.03064e+02 2.76538e+02 2.53340e+02 2.28240e+02 2.05992e+02 1.86470e+02\n",
       " 1.68344e+02 1.50916e+02 1.36090e+02 1.21332e+02 1.09054e+02 9.76560e+01\n",
       " 8.69960e+01 7.84940e+01 6.83700e+01 5.99840e+01 5.20220e+01 4.42640e+01\n",
       " 3.85320e+01 3.12800e+01 2.49200e+01 1.89180e+01 1.48740e+01 1.10800e+01\n",
       " 7.63200e+00 5.22400e+00 3.33800e+00 2.31200e+00 1.41200e+00 1.01800e+00\n",
       " 6.64000e-01 3.02000e-01 2.16000e-01 1.66000e-01 1.22000e-01 4.40000e-02\n",
       " 1.60000e-02 0.00000e+00 0.00000e+00 0.00000e+00 0.00000e+00 0.00000e+00\n",
       " 0.00000e+00 0.00000e+00 0.00000e+00 0.00000e+00 0.00000e+00 0.00000e+00\n",
       " 0.00000e+00 0.00000e+00 0.00000e+00 0.00000e+00 0.00000e+00 0.00000e+00\n",
       " 0.00000e+00 0.00000e+00 0.00000e+00 0.00000e+00 0.00000e+00 0.00000e+00\n",
       " 0.00000e+00 0.00000e+00 0.00000e+00 0.00000e+00 0.00000e+00 0.00000e+00\n",
       " 0.00000e+00 0.00000e+00 0.00000e+00 0.00000e+00] [17.04957196 16.55706967 15.70809982 14.72597705 13.87371385 13.42211235\n",
       " 12.50094652 12.21838549 11.14477007 10.4039308  10.50271793  9.81986069\n",
       "  9.25310672  8.82734184  8.36570977  7.34409586  7.47887131  6.60471831\n",
       "  5.99407841  5.76451212  4.9716798   4.41217361  3.93371631  3.41666504\n",
       "  2.70639539  2.39954662  1.83949884  1.48548174  1.11635837  0.98472128\n",
       "  0.77659771  0.53553338  0.4704721   0.39299364  0.34513186  0.21462525\n",
       "  0.1254751   0.          0.          0.          0.          0.\n",
       "  0.          0.          0.          0.          0.          0.\n",
       "  0.          0.          0.          0.          0.          0.\n",
       "  0.          0.          0.          0.          0.          0.\n",
       "  0.          0.          0.          0.          0.          0.\n",
       "  0.          0.          0.          0.        ] [17.40873344 16.62943174 15.91665794 15.10761397 14.3524214  13.65540186\n",
       " 12.9747447  12.28478734 11.66576187 11.01508057 10.44289232  9.88210504\n",
       "  9.32716463  8.85968397  8.26861536  7.74493383  7.21262782  6.65311957\n",
       "  6.20741492  5.59285258  4.99199359  4.34948273  3.85668251  3.3286634\n",
       "  2.76260746  2.28560714  1.82701943  1.52052622  1.18827606  1.00895986\n",
       "  0.81486195  0.54954527  0.464758    0.40743098  0.34928498  0.20976177\n",
       "  0.12649111  0.          0.          0.          0.          0.\n",
       "  0.          0.          0.          0.          0.          0.\n",
       "  0.          0.          0.          0.          0.          0.\n",
       "  0.          0.          0.          0.          0.          0.\n",
       "  0.          0.          0.          0.          0.          0.\n",
       "  0.          0.          0.          0.        ] [291.   265.   243.   218.   197.   178.75 160.   142.75 128.   114.\n",
       " 101.    91.    81.    72.    62.75  55.    47.    40.    35.    27.\n",
       "  22.    16.    12.     9.     6.     4.     2.     1.     1.     0.\n",
       "   0.     0.     0.     0.     0.     0.     0.     0.     0.     0.\n",
       "   0.     0.     0.     0.     0.     0.     0.     0.     0.     0.\n",
       "   0.     0.     0.     0.     0.     0.     0.     0.     0.     0.\n",
       "   0.     0.     0.     0.     0.     0.     0.     0.     0.     0.  ] [314.   287.25 264.   238.   216.   194.   176.   159.   143.   128.\n",
       " 115.   104.    93.    84.    74.    65.    57.    48.    43.    36.\n",
       "  28.    22.    17.    13.     9.     7.     4.     3.     2.     2.\n",
       "   1.     1.     0.     0.     0.     0.     0.     0.     0.     0.\n",
       "   0.     0.     0.     0.     0.     0.     0.     0.     0.     0.\n",
       "   0.     0.     0.     0.     0.     0.     0.     0.     0.     0.\n",
       "   0.     0.     0.     0.     0.     0.     0.     0.     0.     0.  ]"
      ]
     },
     "execution_count": 13,
     "metadata": {},
     "output_type": "execute_result"
    }
   ],
   "source": [
    "All[-2]"
   ]
  },
  {
   "cell_type": "markdown",
   "metadata": {},
   "source": [
    "Finally, we save the file to further analysis"
   ]
  },
  {
   "cell_type": "code",
   "execution_count": 14,
   "metadata": {
    "ExecuteTime": {
     "end_time": "2022-05-24T14:54:07.700173Z",
     "start_time": "2022-05-24T14:54:07.691582Z"
    }
   },
   "outputs": [],
   "source": [
    "# np.save('../data/processed/NcountsMay_SIDES_LETO_percentiles_poisson_HII', All.as_array())\n",
    "# np.save('../data/processed/NcountsMay_SIDES_LETO_percentiles_poisson', All.as_array())\n",
    "np.save('../data/processed/NcountsMay_SIDES_LETO_percentiles_poisson_MLP', All.as_array())"
   ]
  },
  {
   "cell_type": "markdown",
   "metadata": {},
   "source": [
    "##### Notebook information"
   ]
  },
  {
   "cell_type": "code",
   "execution_count": 15,
   "metadata": {
    "ExecuteTime": {
     "end_time": "2022-05-24T14:54:07.811729Z",
     "start_time": "2022-05-24T14:54:07.700984Z"
    },
    "scrolled": false
   },
   "outputs": [
    {
     "name": "stdout",
     "output_type": "stream",
     "text": [
      "Author: Andres Ramos\n",
      "\n",
      "Python implementation: CPython\n",
      "Python version       : 3.8.3\n",
      "IPython version      : 7.16.1\n",
      "\n",
      "Compiler    : GCC 7.3.0\n",
      "OS          : Linux\n",
      "Release     : 3.10.0-1160.59.1.el7.x86_64\n",
      "Machine     : x86_64\n",
      "Processor   : x86_64\n",
      "CPU cores   : 8\n",
      "Architecture: 64bit\n",
      "\n",
      "Specific Python packages\n",
      "astropy : 5.0\n",
      "numpy   : 1.22.1\n",
      "autopep8: 1.5.7\n",
      "json    : 2.0.9\n",
      "\n",
      "Watermark: 2.2.0\n",
      "\n"
     ]
    }
   ],
   "source": [
    "%load_ext watermark\n",
    "%watermark -a \"Andres Ramos\" -d -v -m\n",
    "print('Specific Python packages')\n",
    "%watermark -iv -w "
   ]
  },
  {
   "cell_type": "code",
   "execution_count": null,
   "metadata": {},
   "outputs": [],
   "source": []
  }
 ],
 "metadata": {
  "hide_input": false,
  "kernelspec": {
   "display_name": "Python 3",
   "language": "python",
   "name": "python3"
  },
  "language_info": {
   "codemirror_mode": {
    "name": "ipython",
    "version": 3
   },
   "file_extension": ".py",
   "mimetype": "text/x-python",
   "name": "python",
   "nbconvert_exporter": "python",
   "pygments_lexer": "ipython3",
   "version": "3.8.3"
  },
  "toc": {
   "base_numbering": "5",
   "nav_menu": {},
   "number_sections": true,
   "sideBar": true,
   "skip_h1_title": false,
   "title_cell": "Table of Contents",
   "title_sidebar": "Contents",
   "toc_cell": false,
   "toc_position": {},
   "toc_section_display": true,
   "toc_window_display": true
  },
  "varInspector": {
   "cols": {
    "lenName": 16,
    "lenType": 16,
    "lenVar": 40
   },
   "kernels_config": {
    "python": {
     "delete_cmd_postfix": "",
     "delete_cmd_prefix": "del ",
     "library": "var_list.py",
     "varRefreshCmd": "print(var_dic_list())"
    },
    "r": {
     "delete_cmd_postfix": ") ",
     "delete_cmd_prefix": "rm(",
     "library": "var_list.r",
     "varRefreshCmd": "cat(var_dic_list()) "
    }
   },
   "types_to_exclude": [
    "module",
    "function",
    "builtin_function_or_method",
    "instance",
    "_Feature"
   ],
   "window_display": false
  }
 },
 "nbformat": 4,
 "nbformat_minor": 4
}
